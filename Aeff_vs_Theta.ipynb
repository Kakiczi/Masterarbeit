{
 "cells": [
  {
   "cell_type": "code",
   "execution_count": 1,
   "metadata": {
    "collapsed": false,
    "scrolled": true
   },
   "outputs": [
    {
     "name": "stdout",
     "output_type": "stream",
     "text": [
      "\n",
      "\n"
     ]
    }
   ],
   "source": [
    "from functions4 import *\n",
    "import matplotlib.colors as colors\n",
    "from scipy.integrate import dblquad\n",
    "from scipy import interpolate"
   ]
  },
  {
   "cell_type": "code",
   "execution_count": 59,
   "metadata": {
    "collapsed": false
   },
   "outputs": [
    {
     "name": "stdout",
     "output_type": "stream",
     "text": [
      "/net/scratch_icecube4/user/glauch/DATA/\n",
      "For Detector Configuration: IC86_11 the total uptime is 29556432.0 s\n",
      "Read MC: /net/scratch_icecube4/user/glauch/DATA/IC86_2011_10602_11077_11191_corrected_ow.npy\n",
      "/net/scratch_icecube4/user/glauch/DATA/\n",
      "For Detector Configuration: IC79 the total uptime is 26784000.0 s\n",
      "Read MC: /net/scratch_icecube4/user/glauch/DATA/IC79_6308_6850_corrected_ow.npy\n"
     ]
    }
   ],
   "source": [
    "GAMMA,Phi=get_best_fit_values()\n",
    "mc_all=[]\n",
    "DETECTOR=LoadDETECTOR(\"1111\")\n",
    "localPath=\"/net/scratch_icecube4/user/glauch/\"\n",
    "datapath     = localPath+\"DATA/\"\n",
    "SAVE_DIRECTORY = \"/net/scratch_icecube4/user/kalaczynski/Plots/\"\n",
    "#mc1=simulationLoad(DETECTOR[0], datapath, 2.13)[0] # getting MC for each dataset\n",
    "mc2=simulationLoad(DETECTOR[1], datapath, 2.13)[0]\n",
    "#mc3=simulationLoad(DETECTOR[2], datapath, 2.13)[0]\n",
    "#mc4=simulationLoad(DETECTOR[3], datapath, 2.13)[0]\n",
    "#mc_all.append(mc1)\n",
    "#mc_all.append(mc2)\n",
    "#mc_all.append(mc3)\n",
    "#mc_all.append(mc4)"
   ]
  },
  {
   "cell_type": "code",
   "execution_count": 64,
   "metadata": {
    "collapsed": true
   },
   "outputs": [],
   "source": [
    "bins=100\n",
    "EBinWidth=10**9-10**2\n",
    "SinDecEdges, deltaSinDec = np.linspace(np.sin(np.radians(-6)),1,bins, retstep=True)\n",
    "deltaSinDec = (SinDecEdges[-1]-SinDecEdges[0])/(len(SinDecEdges)-1)\n",
    "solidAngle = deltaSinDec*2.*np.pi\n",
    "w_aeff = mc2[\"ow\"]/EBinWidth/solidAngle\n",
    "\n",
    "H, SinDecEdges = np.histogram(np.sin(mc2[\"trueDec\"]), bins=SinDecEdges, weights=w_aeff)\n",
    "H = np.ma.masked_array(H)\n",
    "H.mask = H == 0\n",
    "\n",
    "x=np.linspace(np.sin(np.radians(-6)),1,num=len(H))\n",
    "\n",
    "# interpolation  with a spline:\n",
    "Aeff_theta_interpolated = interpolate.splrep(x, H) \n",
    "tck = interpolate.splrep(x, H)\n",
    "x_new=np.linspace(np.sin(np.radians(-6)),1,num=1000*len(H))\n",
    "y_new = interpolate.splev(x_new, tck, der=0)"
   ]
  },
  {
   "cell_type": "code",
   "execution_count": 60,
   "metadata": {
    "collapsed": false
   },
   "outputs": [
    {
     "name": "stdout",
     "output_type": "stream",
     "text": [
      "1176.54579171\n"
     ]
    }
   ],
   "source": [
    "print np.sqrt(len(mc2[\"trueDec\"]))"
   ]
  },
  {
   "cell_type": "code",
   "execution_count": 70,
   "metadata": {
    "collapsed": false
   },
   "outputs": [],
   "source": [
    "# Effective area versus the declination angle plot:\n",
    "\n",
    "#plt.scatter(x,H)\n",
    "plt.scatter(np.degrees(np.arcsin(x_new)),y_new)\n",
    "#plt.xlim([-6, 90])\n",
    "#plt.ylim(0, 10**8)\n",
    "#plt.yscale('log', basey = 10)\n",
    "plt.xlabel(\"$\\\\theta \\,[^\\circ]$\", fontsize=34)\n",
    "plt.ylabel(r\"$A_{\\mathsf{eff}} (\\theta)\\,[\\mathsf{cm}^2]$\", fontsize=34)\n",
    "#plt.savefig(SAVE_DIRECTORY+\"A_eff_scatter_log.png\", dpi=300)\n",
    "plt.show()"
   ]
  },
  {
   "cell_type": "markdown",
   "metadata": {},
   "source": [
    "# ready code for getEffAreaVsDec() used in functions.py (OLD VERSION):"
   ]
  },
  {
   "cell_type": "code",
   "execution_count": 9,
   "metadata": {
    "collapsed": false
   },
   "outputs": [
    {
     "name": "stdout",
     "output_type": "stream",
     "text": [
      "/net/scratch_icecube4/user/glauch/DATA/\n",
      "For Detector Configuration: IC86_11 the total uptime is 29556432.0 s\n",
      "Read MC: /net/scratch_icecube4/user/glauch/DATA/IC86_2011_10602_11077_11191_corrected_ow.npy\n",
      "EBinWidth 1384260 MC  length 1384260\n"
     ]
    }
   ],
   "source": [
    "\n",
    "datapath=\"/net/scratch_icecube4/user/glauch/DATA/\"\n",
    "DETECTOR=LoadDETECTOR(\"1111\")\n",
    "index=2.13 # assumed spectral index\n",
    "\n",
    "Aeff_res=plot_aeff_vs_dec_energy(simulationLoad(DETECTOR[1], datapath, 2.13)[0], logE_range=(2,9), sinDec_range=(np.sin(np.radians(-6)),1), bins=[40,40], title=None, savepath=None)\n",
    "\n",
    "X,Y=np.meshgrid(Aeff_res[2],Aeff_res[1])\n",
    "H=Aeff_res[0]\n",
    "\n",
    "Aeff= np.sum(H, axis=1)*(X[0][1]-X[0][0])\n",
    "deltaE=np.array([10**Aeff_res[1][i+1]-10**Aeff_res[1][i] for i in range(len(Aeff_res[2])-1)])\n",
    "E=np.array([(10**Aeff_res[1][i+1]+10**Aeff_res[1][i])/2 for i in range(len(Aeff_res[2])-1)])\n",
    "Aeff_theta=[np.sum((E**(-index))*np.concatenate(H[:,i:i+1])*deltaE)/np.sum((E**(-index))*deltaE) for i in range(len(X)-1)]\n",
    "\n",
    "x=np.degrees(np.arcsin(np.linspace(np.sin(np.radians(-6)),1.,num=len(Aeff_theta))))\n",
    "Aeff_theta_interpolated = interp1d(x, Aeff_theta)"
   ]
  },
  {
   "cell_type": "markdown",
   "metadata": {},
   "source": [
    "# Rene's code:"
   ]
  },
  {
   "cell_type": "code",
   "execution_count": 38,
   "metadata": {
    "collapsed": false
   },
   "outputs": [],
   "source": [
    "from scipy.interpolate import UnivariateSpline\n",
    "mc=mc2\n",
    "logE_range=[(2,9)]\n",
    "sinDec_range=(-1,1)\n",
    "bins=20\n",
    "title=None\n",
    "savepath=None\n",
    "\n",
    "sinDecEdges = np.linspace(sinDec_range[0],sinDec_range[1],bins, endpoint=True)\n",
    "deltaSinDec = (sinDecEdges[-1]-sinDecEdges[0])/(len(sinDecEdges)-1)\n",
    "solidAngle = deltaSinDec*2*np.pi\n",
    "\n",
    "aeff = {}\n",
    "  \n",
    "for eRange in logE_range:\n",
    "    eRange = np.array(eRange)\n",
    "    mask1 = set(np.where(np.log10(mc[\"trueE\"]) > eRange.min())[0])\n",
    "    mask2 = set(np.where(np.log10(mc[\"trueE\"]) < eRange.max())[0])\n",
    "    mask = list(mask1 & mask2)   \n",
    "    EBinWidth = pow(10, eRange[-1]) - pow(10, eRange[0]) \n",
    "\n",
    "H, sinDecEdges = np.histogram(np.sin(mc[\"trueDec\"][mask]), bins=sinDecEdges, weights=1e-4*mc[\"ow\"][mask]/EBinWidth/solidAngle)\n",
    "spline = UnivariateSpline((sinDecEdges[1:]+sinDecEdges[:-1])/2., np.maximum(np.log10(H), -7), s=1e-3)\n",
    "aeff[tuple(eRange)] = (H, sinDecEdges, spline)\n",
    "   \n",
    "plt.figure(figsize=(16,9))\n",
    "sinDec = np.linspace(-1,1.,100)\n",
    "for eRange in logE_range:\n",
    "    H, edges, spline = aeff[tuple(eRange)]\n",
    "    hist_line, = plt.plot(edges, np.concatenate([H,[0]]), drawstyle=\"steps-post\", label=r\"${}$\".format(eRange[0])+r\"$\\leq\\log(E/\\mathrm{GeV})\\leq$\"+\"${}$\".format(eRange[1]), ls=\"-\")\n",
    "    plt.plot(sinDec, 10000*10**spline(sinDec), ls=\"--\", color=hist_line.get_color())\n",
    "   \n",
    "plt.xlabel(r\"$\\sin(\\delta)$\")\n",
    "#plt.yscale(\"log\", nonposy=\"clip\")\n",
    "plt.xlim([np.sin(np.radians(-6)), 1])\n",
    "#plt.ylim([1e-4, 1e4])\n",
    "#plt.ylabel(r\"$\\log_{10}(A_{eff}/ \\mathrm{m}^2)$\")\n",
    "plt.ylabel(r\"$A_{eff}/ \\mathrm{cm}^2$\")\n",
    "#plt.legend(loc=2)\n",
    "#plt.savefig(SAVE_DIRECTORY+\"A_eff_scatter_rene.png\", dpi=300)\n",
    "plt.show() \n"
   ]
  },
  {
   "cell_type": "markdown",
   "metadata": {},
   "source": [
    "# Junk"
   ]
  },
  {
   "cell_type": "code",
   "execution_count": 106,
   "metadata": {
    "collapsed": false
   },
   "outputs": [],
   "source": [
    "bins=[20,20]\n",
    "\n",
    "# arbitrary bins\n",
    "EEdges, deltaE = np.linspace(10**2,10**9, bins[0], retstep=True)\n",
    "DecEdges, deltaDec = np.linspace(np.radians(-6),np.pi/2,bins[1], retstep=True)\n",
    "center_E_bins = np.array(EEdges[:-1])+deltaE/2\n",
    "center_Dec_bins = np.array(DecEdges[:-1]) + deltaDec/2\n",
    "\n",
    "# to get weights:\n",
    "lowerEEdge = np.floor((mc2[\"trueE\"] - EEdges[0])/deltaE)*deltaE + EEdges[0]\n",
    "upperEEdge = lowerEEdge + deltaE\n",
    "EBinWidth = upperEEdge - lowerEEdge\n",
    "deltaSinDec = (np.sin(DecEdges[-1])-np.sin(DecEdges[0]))/(len(DecEdges)-1)\n",
    "solidAngle = deltaSinDec*2.*np.pi\n",
    "w_aeff = mc2[\"ow\"]/EBinWidth/solidAngle\n",
    "#*(mc2[\"trueE\"])**(-0.13) cuz ow are for GAMMA=2.0\n",
    "#H, EEdges, DecEdges = np.histogram2d(mc2[\"trueE\"], mc2[\"trueDec\"], bins=[EEdges, DecEdges], weights=w_aeff)\n",
    "#H = np.ma.masked_array(H)\n",
    "#H.mask = H == 0\n",
    "\n",
    "H, DecEdges = np.histogram(np.sin(mc2[\"trueDec\"]), bins=DecEdges, weights=mc2[\"ow\"])\n",
    "H = np.ma.masked_array(H)\n",
    "H.mask = H == 0"
   ]
  }
 ],
 "metadata": {
  "kernelspec": {
   "display_name": "Python 2",
   "language": "python",
   "name": "python2"
  },
  "language_info": {
   "codemirror_mode": {
    "name": "ipython",
    "version": 2
   },
   "file_extension": ".py",
   "mimetype": "text/x-python",
   "name": "python",
   "nbconvert_exporter": "python",
   "pygments_lexer": "ipython2",
   "version": "2.7.10"
  }
 },
 "nbformat": 4,
 "nbformat_minor": 0
}
