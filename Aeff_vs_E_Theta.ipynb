{
 "cells": [
  {
   "cell_type": "code",
   "execution_count": 1,
   "metadata": {
    "collapsed": false,
    "scrolled": true
   },
   "outputs": [
    {
     "name": "stdout",
     "output_type": "stream",
     "text": [
      "\n",
      "\n"
     ]
    }
   ],
   "source": [
    "from functions4 import *\n",
    "import matplotlib.colors as colors\n",
    "from scipy.integrate import dblquad"
   ]
  },
  {
   "cell_type": "code",
   "execution_count": 3,
   "metadata": {
    "collapsed": true
   },
   "outputs": [],
   "source": [
    "GAMMA,Phi=get_best_fit_values()\n",
    "DETECTOR=LoadDETECTOR(\"1111\")\n",
    "localPath=\"/net/scratch_icecube4/user/glauch/\"\n",
    "datapath     = localPath+\"DATA/\"\n",
    "SAVE_DIRECTORY = \"/net/scratch_icecube4/user/kalaczynski/Plots/\""
   ]
  },
  {
   "cell_type": "code",
   "execution_count": 4,
   "metadata": {
    "collapsed": false
   },
   "outputs": [
    {
     "name": "stdout",
     "output_type": "stream",
     "text": [
      "/net/scratch_icecube4/user/glauch/DATA/\n",
      "For Detector Configuration: IC86_11 the total uptime is 29556432.0 s\n",
      "Read MC: /net/scratch_icecube4/user/glauch/DATA/IC86_2011_10602_11077_11191_corrected_ow.npy\n",
      "EBinWidth 1384260 MC  length 1384260\n"
     ]
    }
   ],
   "source": [
    "Aeff_res=plot_aeff_vs_dec_energy(simulationLoad(DETECTOR[1], datapath, 2.13)[0], logE_range=(2,9), sinDec_range=(np.sin(np.radians(-6)),1), bins=[40,40], title=None, savepath=None)"
   ]
  },
  {
   "cell_type": "code",
   "execution_count": 5,
   "metadata": {
    "collapsed": true
   },
   "outputs": [],
   "source": [
    "X,Y=np.meshgrid(Aeff_res[2],Aeff_res[1])\n",
    "H=Aeff_res[0]"
   ]
  },
  {
   "cell_type": "code",
   "execution_count": 6,
   "metadata": {
    "collapsed": false
   },
   "outputs": [],
   "source": [
    "Aeff= np.sum(H, axis=1)*(X[0][1]-X[0][0])\n",
    "index=2.13 # assumed spectral index:\n",
    "deltaE=np.array([10**Aeff_res[1][i+1]-10**Aeff_res[1][i] for i in range(len(Aeff_res[2])-1)])\n",
    "E=np.array([(10**Aeff_res[1][i+1]+10**Aeff_res[1][i])/2 for i in range(len(Aeff_res[2])-1)])\n",
    "Aeff_theta=[np.sum((E**(-index))*np.concatenate(H[:,i:i+1])*deltaE)/np.sum((E**(-index))*deltaE) for i in range(len(X)-1)]\n",
    "E_avg=np.average(E)"
   ]
  },
  {
   "cell_type": "code",
   "execution_count": 10,
   "metadata": {
    "collapsed": false
   },
   "outputs": [
    {
     "name": "stdout",
     "output_type": "stream",
     "text": [
      "62922635.8362 GeV\n"
     ]
    }
   ],
   "source": [
    "print E_avg, \"GeV\""
   ]
  },
  {
   "cell_type": "code",
   "execution_count": 8,
   "metadata": {
    "collapsed": false
   },
   "outputs": [],
   "source": [
    "from matplotlib.ticker import NullFormatter\n",
    "import copy as copy\n",
    "# definitions for the axes\n",
    "nullfmt = NullFormatter() \n",
    "left, width = 0.1, 0.6\n",
    "bottom, height = 0.15, 0.55\n",
    "bottom_h = left_h = left + width + 0.02\n",
    "\n",
    "rect_scatter = [left, bottom, width, height]\n",
    "rect_histx = [left, bottom_h, width, 0.2]\n",
    "rect_histy = [left_h, bottom, 0.2, height]\n",
    "\n",
    "# start with a rectangular Figure\n",
    "fig=plt.figure(1, figsize=(15, 9))\n",
    "\n",
    "axScatter = plt.axes(rect_scatter)\n",
    "axHistx = plt.axes(rect_histx)\n",
    "axHisty = plt.axes(rect_histy)\n",
    "\n",
    "# no labels\n",
    "axHistx.xaxis.set_major_formatter(nullfmt)\n",
    "axHisty.yaxis.set_major_formatter(nullfmt)\n",
    "\n",
    "vals=axScatter.pcolormesh(X,Y, H, norm=colors.LogNorm(vmin=H.min(),vmax=H.max()), cmap=\"Blues\")\n",
    "axScatter.tick_params(axis='both', which='major', labelsize=20)\n",
    "axScatter.set_xticks([0.,0.2,0.4,0.6,0.8])\n",
    "axScatter.set_xlim(np.sin(np.radians(-6)),1.)\n",
    "axScatter.set_yticks([2,3,4,5,6,7,8])\n",
    "axScatter.set_xlabel(r\"$\\sin(\\delta)$\", fontsize=24)\n",
    "axScatter.set_ylabel(r\"$\\log_{10}(E/\\mathrm{GeV})$\", fontsize=24)\n",
    "\n",
    "# now determine nice limits by hand:\n",
    "#binwidth = 0.25\n",
    "#xymax = np.max([np.max(np.fabs(x)), np.max(np.fabs(y))])\n",
    "#lim = (int(xymax/binwidth) + 1) * binwidth\n",
    "#axScatter.set_xlim((-lim, lim))\n",
    "#axScatter.set_ylim((-lim, lim))\n",
    "\n",
    "#bins = np.arange(-lim, lim + binwidth, binwidth)\n",
    "axHisty.semilogx(Aeff,np.array(setNewEdges(np.concatenate(Y[:,0:1]))))\n",
    "axHisty.set_xlabel(r\"$\\log_{10}(\\mathrm{A_{eff} (E)}\\,[\\mathrm{cm}^2])$\", fontsize=16,labelpad=5.)\n",
    "axHisty.set_xticklabels([int(i) for i in np.log10(axHisty.get_xticks())])\n",
    "axHisty.tick_params(axis='both', which='major', labelsize=14,pad=5.)\n",
    "\n",
    "\n",
    "axHistx.tick_params(axis='both', which='major', labelsize=14, pad=5.)\n",
    "axHistx.set_ylabel(r\"$\\log_{10}(\\mathrm{A_{eff} (\\delta)}\\,[\\mathrm{cm}^2])$\", fontsize=16,labelpad=5.)\n",
    "axHistx.semilogy(np.array(setNewEdges(X[0])),np.array(Aeff_theta))\n",
    "axHistx.set_yticklabels([int(i) for i in np.log10(axHistx.get_yticks())])\n",
    "axHistx.set_xlim(np.sin(np.radians(-6)),1.)\n",
    "\n",
    "#cbaxes = plt.axes([0.8, 0.1, 0.03, 0.8]) \n",
    "cb = fig.colorbar(vals)  \n",
    "cb.ax.tick_params(labelsize=16, pad=5) \n",
    "cb.ax.set_ylabel(r\"$\\log_{10}(\\mathrm{A_{eff} (E,\\delta)}\\,[\\mathrm{cm}^2])$\",fontsize=16, labelpad=-0.1)\n",
    "#cb.ax.set_yticklabels([int(i) for i in np.log10(cb.ax.get_yticks())])\n",
    "fig.savefig(SAVE_DIRECTORY+\"/test.png\", dpi=300)\n",
    "plt.show()"
   ]
  },
  {
   "cell_type": "code",
   "execution_count": 41,
   "metadata": {
    "collapsed": false
   },
   "outputs": [],
   "source": [
    "from scipy.interpolate import interp1d\n",
    "x=np.degrees(np.arcsin(np.linspace(np.sin(np.radians(-6)),1.,num=len(Aeff_theta))))\n",
    "Aeff_theta_interpolated = interp1d(x, Aeff_theta)"
   ]
  },
  {
   "cell_type": "code",
   "execution_count": 51,
   "metadata": {
    "collapsed": false
   },
   "outputs": [],
   "source": [
    "# Effective area versus the declination angle:\n",
    "\n",
    "x_new=np.degrees(np.arcsin(np.linspace(np.sin(np.radians(-6)),1.,num=1000*len(Aeff_theta))))\n",
    "plt.scatter(x,Aeff_theta )\n",
    "#plt.scatter(x_new,Aeff_theta_interpolated(x_new))\n",
    "#plt.yscale('log', basey = 10)\n",
    "plt.xlabel(\"$\\\\theta \\,[^\\circ]$\", fontsize=34)\n",
    "plt.ylabel(r\"$A_{\\mathsf{eff}} (\\theta)\\,[\\mathsf{cm}^2]$\", fontsize=34)\n",
    "plt.savefig(SAVE_DIRECTORY+\"A_eff_scatter.png\", dpi=300)\n",
    "plt.show()"
   ]
  },
  {
   "cell_type": "code",
   "execution_count": 49,
   "metadata": {
    "collapsed": false
   },
   "outputs": [
    {
     "name": "stdout",
     "output_type": "stream",
     "text": [
      "/net/scratch_icecube4/user/glauch/DATA/\n",
      "For Detector Configuration: IC86_11 the total uptime is 29556432.0 s\n",
      "Read MC: /net/scratch_icecube4/user/glauch/DATA/IC86_2011_10602_11077_11191_corrected_ow.npy\n",
      "EBinWidth 1384260 MC  length 1384260\n"
     ]
    }
   ],
   "source": [
    "#ready code for getEffAreaVsDec() used in functions.py :\n",
    "datapath=\"/net/scratch_icecube4/user/glauch/DATA/\"\n",
    "DETECTOR=LoadDETECTOR(\"1111\")\n",
    "index=2.13 # assumed spectral index\n",
    "\n",
    "Aeff_res=plot_aeff_vs_dec_energy(simulationLoad(DETECTOR[1], datapath, 2.13)[0], logE_range=(2,9), sinDec_range=(np.sin(np.radians(-6)),1), bins=[40,40], title=None, savepath=None)\n",
    "\n",
    "X,Y=np.meshgrid(Aeff_res[2],Aeff_res[1])\n",
    "H=Aeff_res[0]\n",
    "\n",
    "Aeff= np.sum(H, axis=1)*(X[0][1]-X[0][0])\n",
    "deltaE=np.array([10**Aeff_res[1][i+1]-10**Aeff_res[1][i] for i in range(len(Aeff_res[2])-1)])\n",
    "E=np.array([(10**Aeff_res[1][i+1]+10**Aeff_res[1][i])/2 for i in range(len(Aeff_res[2])-1)])\n",
    "Aeff_theta=[np.sum((E**(-index))*np.concatenate(H[:,i:i+1])*deltaE)/np.sum((E**(-index))*deltaE) for i in range(len(X)-1)]\n",
    "\n",
    "x=np.degrees(np.arcsin(np.linspace(np.sin(np.radians(-6)),1.,num=len(Aeff_theta))))\n",
    "Aeff_theta_interpolated = interp1d(x, Aeff_theta)"
   ]
  }
 ],
 "metadata": {
  "kernelspec": {
   "display_name": "Python 2",
   "language": "python",
   "name": "python2"
  },
  "language_info": {
   "codemirror_mode": {
    "name": "ipython",
    "version": 2
   },
   "file_extension": ".py",
   "mimetype": "text/x-python",
   "name": "python",
   "nbconvert_exporter": "python",
   "pygments_lexer": "ipython2",
   "version": "2.7.10"
  }
 },
 "nbformat": 4,
 "nbformat_minor": 0
}
