{
 "cells": [
  {
   "cell_type": "code",
   "execution_count": 2,
   "metadata": {
    "collapsed": false
   },
   "outputs": [
    {
     "name": "stdout",
     "output_type": "stream",
     "text": [
      "\n",
      "\n",
      "running on machine: lx3b89.physik.rwth-aachen.de\n"
     ]
    }
   ],
   "source": [
    "# %matplotlib\n",
    "%load_ext autoreload\n",
    "%autoreload 2\n",
    "from functions4 import *\n",
    "from declarations2 import *\n",
    "from classes4 import *\n",
    "import numpy as np\n",
    "import SkymapPlot.SkyMap\n",
    "import matplotlib.pyplot as plt\n",
    "import matplotlib.mlab as mlab\n",
    "#from matplotlib import rcParams\n",
    "#rcParams.update({'figure.autolayout': True})\n",
    "#import plotly.plotly as py\n",
    "SAVE_DIRECTORY = \"/net/scratch_icecube4/user/kalaczynski/Plots/\"\n",
    "from astropy.io import fits"
   ]
  },
  {
   "cell_type": "markdown",
   "metadata": {},
   "source": [
    "# Running the main code"
   ]
  },
  {
   "cell_type": "code",
   "execution_count": 2,
   "metadata": {
    "collapsed": false,
    "scrolled": true
   },
   "outputs": [
    {
     "name": "stdout",
     "output_type": "stream",
     "text": [
      "DETECTOR Configuration:\n",
      "['IC59']\n",
      "/net/scratch_icecube4/user/glauch/DATA/\n",
      "For Detector Configuration: IC59 the total uptime is 30079123.2 s\n",
      "Read MC: /net/scratch_icecube4/user/glauch/DATA/IC59_6471_6515_corrected_ow.npy\n",
      "Read Fluxnorm from File\n",
      "nside as usual: 512\n",
      "Number of Events per Chosen Sample:\n",
      "[21442]\n",
      "Reading Source Catalog\n",
      "/net/scratch_icecube4/user/glauch/DATA/\n",
      "For Detector Configuration: IC86_11 the total uptime is 29556432.0 s\n",
      "Read MC: /net/scratch_icecube4/user/glauch/DATA/IC86_2011_10602_11077_11191_corrected_ow.npy\n",
      "EBinWidth 1384260 MC  length 1384260\n",
      "Based on a flux of Gamma=2.0 there are [27] Signal Events\n",
      "ADDFILE = \n",
      "Assume being on a CONDOR machine...\n",
      "Theta Positions of Simulated Events (deg):\n",
      "[]\n",
      "Theta Positions of Simulated Events (deg):\n",
      "[]\n",
      "Phi Positions of Simulated Events (deg):\n",
      "[]\n",
      "------------------ For N:0 and MU:100.0 calc the source strength distribution ..... -------------------\n",
      "----------------------------------------\n",
      "[{'IC59': []}]\n",
      "\n",
      " Current ID prefix: 0\n",
      "\n",
      "############################################################\n",
      "\n",
      "Class Object is going to be created for IC59\n",
      "\n",
      "------------------Current RAM Usage-----------------------------\n",
      "337.6875MB\n",
      "----------------------------------------------------------------\n",
      "\n",
      "############################################################\n",
      "\n",
      "NOTE: Stretching Value is NOT 1.0 any more, but: 1.0\n",
      "NOTE: Multi-Mu-Sources have been activated: False\n",
      "[[], []]\n",
      "Current run option: VarSig\n",
      "Set Milagro to be False\n",
      "CHOSE ZENITH BAND INSTEAD OF HEMISPHERE! [-1.0, 0.087155742747658138]\n",
      "NOTE: set MC sample, length=565856\n",
      "NOTE: Mu might not be taken as poissonian. MuPrecise is set to: False\n",
      "set replace mode ...True\n",
      "PS rotation is ...True\n",
      "Creating signal Skymaps, NSource: [0] Mu: [100.0]\n",
      " RUN: 1            curMuSources\n",
      "[100.0]\n",
      "Sources with zero neutrinos: 0\n",
      "MAP-LIST-LEN: 0\n",
      "0 (0.0)\n",
      "nDif vorher: 27\n",
      "nDif nachher: 28\n",
      "Shuffling in azimuth\n",
      "Measured Sources: 0\n",
      "Signal Neutrinos: 0\n",
      "Astro Neutrinos: 28\n",
      "Atmospheric Neutrinos: 21414\n",
      "All: 21442\n",
      "\n",
      "Renormalization: 21442.0\n",
      "\n",
      "------------------Current RAM Usage-----------------------------\n",
      "370.28515625MB\n",
      "----------------------------------------------------------------\n",
      "Angular Distribution saved to: /net/scratch_icecube4/user/kalaczynski/Analysis_stuff/angle_0.txt\n",
      "Type...\n",
      "<type 'numpy.ndarray'>\n",
      "Theta Source Distribution saved to: /net/scratch_icecube4/user/kalaczynski/Analysis_stuff/theta_sou_0.txt\n",
      "Merge Maps...\n",
      "Maximum Value in the Array bigger zero?1851.0\n",
      "Calculate Cross Correlations for NVSS Sky Survey\n",
      "effCl data successfully saved to... /net/scratch_icecube4/user/kalaczynski/Analysis_stuff/_effClAll.txt\n",
      "Alm data successfully saved to... /net/scratch_icecube4/user/kalaczynski/Analysis_stuff/almAllAbs_0.txt\n",
      "Alm data successfully saved to... /net/scratch_icecube4/user/kalaczynski/Analysis_stuff/almAllPhase_0.txt\n",
      "i is: 0\n"
     ]
    }
   ],
   "source": [
    "# DETECTOR=\"0001\"  # \"IC86_12_13_14\" ,\"IC86_11\", \"IC79\" \"IC59\"   | Binary System\n",
    "#                                                                    mu  #src\n",
    "%run createSmearedSkymap_multipleyears.py \"multi_mu_1\" 0 1 \"VarSig\" [100] [0] detector=\"0001\" gamma=2.0 catalog=\"NVSS\" useE=False useAlm=False UseGalPlane=False \n",
    "#Theta=[130.489164] Phi=[299.259131]\n",
    "#extended_source=2.\n",
    "#useCatalogPos=10\n",
    "#useweakestsource=20\n",
    "#useDiffBG=True\n"
   ]
  },
  {
   "cell_type": "code",
   "execution_count": 7,
   "metadata": {
    "collapsed": false
   },
   "outputs": [
    {
     "name": "stdout",
     "output_type": "stream",
     "text": [
      "[-- -- 3 4 5 6 7]\n",
      "[ True  True False False False False False]\n",
      "[0, 0, 3, 4, 5, 6, 7] <type 'list'>\n",
      "[1 2 3 4 5 6 7]\n"
     ]
    }
   ],
   "source": [
    "a = [1,2,3,4,5,6,7]\n",
    "b = [0,0,0,0,0,0,0]\n",
    "lenght=len(a)\n",
    "a = np.ma.masked_array(a)\n",
    "a.mask = a<3\n",
    "c=np.asarray(a)\n",
    "print a\n",
    "print a.mask\n",
    "for i in range(lenght):\n",
    "    if a.mask[i]==False:\n",
    "        b[i]=a[i]\n",
    "print b, type(b)\n",
    "\n",
    "print c"
   ]
  },
  {
   "cell_type": "code",
   "execution_count": 8,
   "metadata": {
    "collapsed": false
   },
   "outputs": [
    {
     "name": "stdout",
     "output_type": "stream",
     "text": [
      "running on machine: lx3b89.physik.rwth-aachen.de\n",
      "3\n"
     ]
    }
   ],
   "source": [
    "a=-3\n",
    "print abs(a)"
   ]
  },
  {
   "cell_type": "markdown",
   "metadata": {},
   "source": [
    "# FITS FILES"
   ]
  },
  {
   "cell_type": "code",
   "execution_count": 30,
   "metadata": {
    "collapsed": false,
    "scrolled": true
   },
   "outputs": [],
   "source": [
    "#FITS files:\n",
    "filename=\"COM_PCCS_030_R2.04\"\n",
    "path=\"/net/scratch_icecube4/user/kalaczynski/Catalogs/COM_PCCS-Catalogs_vPR2/\"+str(filename)+\".fits\"\n",
    "hdulist = fits.open(path)\n",
    "#hdulist\n",
    "#fitsMap=H.read_map(path)\n",
    "#test=H.mrdfits(path)\n",
    "#print test[1]"
   ]
  },
  {
   "cell_type": "code",
   "execution_count": 4,
   "metadata": {
    "collapsed": false,
    "scrolled": false
   },
   "outputs": [],
   "source": [
    "print hdulist[1].data"
   ]
  },
  {
   "cell_type": "code",
   "execution_count": 3,
   "metadata": {
    "collapsed": false
   },
   "outputs": [
    {
     "ename": "NameError",
     "evalue": "name 'test' is not defined",
     "output_type": "error",
     "traceback": [
      "\u001b[1;31m---------------------------------------------------------------------------\u001b[0m",
      "\u001b[1;31mNameError\u001b[0m                                 Traceback (most recent call last)",
      "\u001b[1;32m<ipython-input-3-38916608414f>\u001b[0m in \u001b[0;36m<module>\u001b[1;34m()\u001b[0m\n\u001b[1;32m----> 1\u001b[1;33m \u001b[0mH\u001b[0m\u001b[1;33m.\u001b[0m\u001b[0mmollview\u001b[0m\u001b[1;33m(\u001b[0m\u001b[0mtest\u001b[0m\u001b[1;33m[\u001b[0m\u001b[1;36m1\u001b[0m\u001b[1;33m]\u001b[0m\u001b[1;33m,\u001b[0m \u001b[0mcoord\u001b[0m\u001b[1;33m=\u001b[0m\u001b[1;33m[\u001b[0m\u001b[1;34m'G'\u001b[0m\u001b[1;33m,\u001b[0m\u001b[1;34m'E'\u001b[0m\u001b[1;33m]\u001b[0m\u001b[1;33m,\u001b[0m \u001b[0mtitle\u001b[0m\u001b[1;33m=\u001b[0m\u001b[1;34m'Histogram equalized Ecliptic'\u001b[0m\u001b[1;33m,\u001b[0m \u001b[0munit\u001b[0m\u001b[1;33m=\u001b[0m\u001b[1;34m'mK'\u001b[0m\u001b[1;33m,\u001b[0m \u001b[0mnorm\u001b[0m\u001b[1;33m=\u001b[0m\u001b[1;34m'hist'\u001b[0m\u001b[1;33m,\u001b[0m \u001b[0mmin\u001b[0m\u001b[1;33m=\u001b[0m\u001b[1;33m-\u001b[0m\u001b[1;36m1\u001b[0m\u001b[1;33m,\u001b[0m\u001b[0mmax\u001b[0m\u001b[1;33m=\u001b[0m\u001b[1;36m1\u001b[0m\u001b[1;33m,\u001b[0m \u001b[0mxsize\u001b[0m\u001b[1;33m=\u001b[0m\u001b[1;36m2000\u001b[0m\u001b[1;33m)\u001b[0m\u001b[1;33m\u001b[0m\u001b[0m\n\u001b[0m\u001b[0;32m      2\u001b[0m \u001b[0mH\u001b[0m\u001b[1;33m.\u001b[0m\u001b[0mgraticule\u001b[0m\u001b[1;33m(\u001b[0m\u001b[1;33m)\u001b[0m\u001b[1;33m\u001b[0m\u001b[0m\n\u001b[0;32m      3\u001b[0m \u001b[0mplt\u001b[0m\u001b[1;33m.\u001b[0m\u001b[0mshow\u001b[0m\u001b[1;33m(\u001b[0m\u001b[1;33m)\u001b[0m\u001b[1;33m\u001b[0m\u001b[0m\n",
      "\u001b[1;31mNameError\u001b[0m: name 'test' is not defined"
     ]
    }
   ],
   "source": [
    "H.mollview(test[1], coord=['G','E'], title='Histogram equalized Ecliptic', unit='mK', norm='hist', min=-1,max=1, xsize=2000)\n",
    "H.graticule()\n",
    "plt.show()"
   ]
  },
  {
   "cell_type": "code",
   "execution_count": 6,
   "metadata": {
    "collapsed": false
   },
   "outputs": [],
   "source": [
    "#print len(catalog_map)\n",
    "#print len(fitsMap)\n",
    "#print len(mergeGPU.map_delta)\n",
    "#print len(fitsMap)/len(catalog_map)\n",
    "#fitsAlm=[]\n",
    "#print path\n",
    "#fitsAlm=H.read_alm(path)\n",
    "#print len(fitsAlm)"
   ]
  },
  {
   "cell_type": "code",
   "execution_count": 7,
   "metadata": {
    "collapsed": false
   },
   "outputs": [],
   "source": [
    "H.gnomview(fitsMap, rot=[0,0.3], title='GnomView', unit='mK', format='%.2g')\n",
    "plt.show()"
   ]
  },
  {
   "cell_type": "code",
   "execution_count": 6,
   "metadata": {
    "collapsed": false
   },
   "outputs": [
    {
     "name": "stderr",
     "output_type": "stream",
     "text": [
      "Exception in Tkinter callback\n",
      "Traceback (most recent call last):\n",
      "  File \"/cvmfs/icecube.opensciencegrid.org/py2-v2/RHEL_6_x86_64/lib/python2.7/lib-tk/Tkinter.py\", line 1536, in __call__\n",
      "    return self.func(*args)\n",
      "  File \"/cvmfs/icecube.opensciencegrid.org/py2-v2/RHEL_6_x86_64/lib/python2.7/site-packages/matplotlib/backends/backend_tkagg.py\", line 278, in resize\n",
      "    self.show()\n",
      "  File \"/cvmfs/icecube.opensciencegrid.org/py2-v2/RHEL_6_x86_64/lib/python2.7/site-packages/matplotlib/backends/backend_tkagg.py\", line 349, in draw\n",
      "    FigureCanvasAgg.draw(self)\n",
      "  File \"/cvmfs/icecube.opensciencegrid.org/py2-v2/RHEL_6_x86_64/lib/python2.7/site-packages/matplotlib/backends/backend_agg.py\", line 469, in draw\n",
      "    self.figure.draw(self.renderer)\n",
      "  File \"/cvmfs/icecube.opensciencegrid.org/py2-v2/RHEL_6_x86_64/lib/python2.7/site-packages/matplotlib/artist.py\", line 59, in draw_wrapper\n",
      "    draw(artist, renderer, *args, **kwargs)\n",
      "  File \"/cvmfs/icecube.opensciencegrid.org/py2-v2/RHEL_6_x86_64/lib/python2.7/site-packages/matplotlib/figure.py\", line 1085, in draw\n",
      "    func(*args)\n",
      "  File \"/cvmfs/icecube.opensciencegrid.org/py2-v2/RHEL_6_x86_64/lib/python2.7/site-packages/matplotlib/artist.py\", line 59, in draw_wrapper\n",
      "    draw(artist, renderer, *args, **kwargs)\n",
      "  File \"/cvmfs/icecube.opensciencegrid.org/py2-v2/RHEL_6_x86_64/lib/python2.7/site-packages/matplotlib/axes/_base.py\", line 2110, in draw\n",
      "    a.draw(renderer)\n",
      "  File \"/cvmfs/icecube.opensciencegrid.org/py2-v2/RHEL_6_x86_64/lib/python2.7/site-packages/matplotlib/artist.py\", line 59, in draw_wrapper\n",
      "    draw(artist, renderer, *args, **kwargs)\n",
      "  File \"/cvmfs/icecube.opensciencegrid.org/py2-v2/RHEL_6_x86_64/lib/python2.7/site-packages/matplotlib/lines.py\", line 710, in draw\n",
      "    tpath, affine = transf_path.get_transformed_path_and_affine()\n",
      "  File \"/cvmfs/icecube.opensciencegrid.org/py2-v2/RHEL_6_x86_64/lib/python2.7/site-packages/matplotlib/transforms.py\", line 2643, in get_transformed_path_and_affine\n",
      "    self._revalidate()\n",
      "  File \"/cvmfs/icecube.opensciencegrid.org/py2-v2/RHEL_6_x86_64/lib/python2.7/site-packages/matplotlib/transforms.py\", line 2620, in _revalidate\n",
      "    self._transform.transform_path_non_affine(self._path)\n",
      "  File \"/cvmfs/icecube.opensciencegrid.org/py2-v2/RHEL_6_x86_64/lib/python2.7/site-packages/matplotlib/transforms.py\", line 2308, in transform_path_non_affine\n",
      "    return self._a.transform_path_non_affine(path)\n",
      "  File \"/cvmfs/icecube.opensciencegrid.org/py2-v2/RHEL_6_x86_64/lib/python2.7/site-packages/matplotlib/transforms.py\", line 2308, in transform_path_non_affine\n",
      "    return self._a.transform_path_non_affine(path)\n",
      "  File \"/cvmfs/icecube.opensciencegrid.org/py2-v2/RHEL_6_x86_64/lib/python2.7/site-packages/matplotlib/projections/geo.py\", line 367, in transform_path_non_affine\n",
      "    ipath = path.interpolated(self._resolution)\n",
      "  File \"/cvmfs/icecube.opensciencegrid.org/py2-v2/RHEL_6_x86_64/lib/python2.7/site-packages/matplotlib/path.py\", line 557, in interpolated\n",
      "    vertices = simple_linear_interpolation(self.vertices, steps)\n",
      "  File \"/cvmfs/icecube.opensciencegrid.org/py2-v2/RHEL_6_x86_64/lib/python2.7/site-packages/matplotlib/cbook.py\", line 1751, in simple_linear_interpolation\n",
      "    result = np.zeros(new_shape, a.dtype)\n",
      "ValueError: negative dimensions are not allowed\n"
     ]
    }
   ],
   "source": [
    "H.mollview(mergeGPU.map_delta, rot=[0,0.3], title='GnomView', unit='mK', format='%.2g')\n",
    "plt.show()"
   ]
  },
  {
   "cell_type": "raw",
   "metadata": {},
   "source": []
  },
  {
   "cell_type": "code",
   "execution_count": 3,
   "metadata": {
    "collapsed": false
   },
   "outputs": [
    {
     "name": "stdout",
     "output_type": "stream",
     "text": [
      "3145728\n"
     ]
    }
   ],
   "source": [
    "print len(mergeGPU.map_delta)"
   ]
  },
  {
   "cell_type": "code",
   "execution_count": 111,
   "metadata": {
    "collapsed": false
   },
   "outputs": [
    {
     "name": "stdout",
     "output_type": "stream",
     "text": [
      "7.03494554323e+20\n",
      "<type 'list'>\n",
      "nan\n"
     ]
    }
   ],
   "source": [
    "usedMap=catalog_map\n",
    "print max(usedMap)\n",
    "usedMap2=usedMap.tolist()\n",
    "print type(usedMap2)\n",
    "usedMap2[usedMap2==0] = np.nan\n",
    "print max(usedMap2)"
   ]
  },
  {
   "cell_type": "code",
   "execution_count": 119,
   "metadata": {
    "collapsed": false
   },
   "outputs": [
    {
     "name": "stdout",
     "output_type": "stream",
     "text": [
      "7.03494554323e+20\n"
     ]
    }
   ],
   "source": [
    "print max(catalog_map)"
   ]
  },
  {
   "cell_type": "code",
   "execution_count": 77,
   "metadata": {
    "collapsed": false
   },
   "outputs": [
    {
     "name": "stdout",
     "output_type": "stream",
     "text": [
      "[ 1.   5.5  0.   0.   0.   5. ]\n",
      "<type 'numpy.float64'>\n",
      "[ 1.   5.5  nan  nan  nan  5. ]\n"
     ]
    }
   ],
   "source": [
    "test=np.array([1., 5.5, 0., 0.,0.,5.])\n",
    "test=test.astype('float')\n",
    "print test\n",
    "print type(test[0])\n",
    "test[test==0] = np.nan\n",
    "print test"
   ]
  },
  {
   "cell_type": "markdown",
   "metadata": {},
   "source": [
    "# Plotting skymap:"
   ]
  },
  {
   "cell_type": "code",
   "execution_count": 1,
   "metadata": {
    "collapsed": false
   },
   "outputs": [
    {
     "ename": "NameError",
     "evalue": "name 'newfig' is not defined",
     "output_type": "error",
     "traceback": [
      "\u001b[1;31m---------------------------------------------------------------------------\u001b[0m",
      "\u001b[1;31mNameError\u001b[0m                                 Traceback (most recent call last)",
      "\u001b[1;32m<ipython-input-1-b0abe3020502>\u001b[0m in \u001b[0;36m<module>\u001b[1;34m()\u001b[0m\n\u001b[0;32m      5\u001b[0m \u001b[0mNewMap\u001b[0m\u001b[1;33m=\u001b[0m\u001b[0mFalse\u001b[0m\u001b[1;33m\u001b[0m\u001b[0m\n\u001b[0;32m      6\u001b[0m \u001b[0mlogz\u001b[0m\u001b[1;33m=\u001b[0m\u001b[0mTrue\u001b[0m\u001b[1;33m\u001b[0m\u001b[0m\n\u001b[1;32m----> 7\u001b[1;33m \u001b[0mplot\u001b[0m\u001b[1;33m=\u001b[0m\u001b[0mnewfig\u001b[0m\u001b[1;33m(\u001b[0m\u001b[1;36m5.\u001b[0m\u001b[1;33m,\u001b[0m \u001b[1;36m3.\u001b[0m\u001b[1;33m)\u001b[0m\u001b[1;33m\u001b[0m\u001b[0m\n\u001b[0m\u001b[0;32m      8\u001b[0m \u001b[0mNorm\u001b[0m\u001b[1;33m=\u001b[0m\u001b[0mNone\u001b[0m\u001b[1;33m\u001b[0m\u001b[0m\n\u001b[0;32m      9\u001b[0m \u001b[1;32mif\u001b[0m \u001b[0mlogz\u001b[0m\u001b[1;33m:\u001b[0m \u001b[0mNorm\u001b[0m\u001b[1;33m=\u001b[0m\u001b[1;34m'log'\u001b[0m\u001b[1;33m\u001b[0m\u001b[0m\n",
      "\u001b[1;31mNameError\u001b[0m: name 'newfig' is not defined"
     ]
    }
   ],
   "source": [
    "nFigure=5\n",
    "Smoothing=True\n",
    "Galactic=True\n",
    "Catalog=False\n",
    "NewMap=False\n",
    "logz=True\n",
    "plot=newfig(5., 3.)\n",
    "Norm=None\n",
    "if logz: Norm='log'\n",
    "    \n",
    "    \n",
    "if NewMap==True:\n",
    "    usedMap=newMap\n",
    "else:\n",
    "    if Catalog==False:\n",
    "        usedMap=mergeGPU.map_delta\n",
    "    else:\n",
    "        usedMap=catalog_map\n",
    "\n",
    "#usedMap=fitsMap       \n",
    "#usedMap=modif    \n",
    "#usedMap=map_delta2\n",
    "\n",
    "if Smoothing:\n",
    "    smoothed_map = H.smoothing(usedMap, sigma=np.radians(0.5))\n",
    "else:\n",
    "    smoothed_map=usedMap\n",
    "if min(smoothed_map)<=0:\n",
    "    raiser=abs(min(smoothed_map))*2\n",
    "else:\n",
    "    raiser = 0.\n",
    "    \n",
    "for i in range(len(smoothed_map)):\n",
    "    smoothed_map[i] = float(smoothed_map[i])\n",
    "    if logz:\n",
    "        smoothed_map[i]=smoothed_map[i]+raiser\n",
    "       \n",
    "\n",
    "colormap=plt.get_cmap(\"Blues\")\n",
    "colormap.set_under(\"white\")\n",
    "col2=\"0.\"\n",
    "col=\"0.\"\n",
    "res=800\n",
    "\n",
    "smoothed_map= np.ma.masked_array(smoothed_map)\n",
    "#smoothed_map.mask = np.log10(smoothed_map) < 18.1  #####BE careful..Value hardcoded\n",
    "smoothed_map.mask = smoothed_map == 0\n",
    "\n",
    "if Galactic==False:\n",
    "    skymap=SkymapPlot.SkyMap.SkyMap(fig=plot)\n",
    "    #smoothed_map=usedMap\n",
    "    plotTitle=r\"$\\log_{10}(\\frac{\\mathrm{Flux}}{\\mathrm{Total Flux}} \\cdot A_{\\mathrm{eff}})$\"\n",
    "    skymap.plot_map(np.log10(smoothed_map),\n",
    "                    cmap=colormap, npix=res, \n",
    "                    colorbar=dict(title=plotTitle))\n",
    "    if (Catalog!=True) and len(mergeGPU.phi_sou)>0:\n",
    "        skymap.plot_circle(mergeGPU.phi_sou,mergeGPU.theta_sou)\n",
    "    skymap.fig.savefig(SAVE_DIRECTORY+\"skymap_test1.png\", dpi=300, bbox_inches=\"tight\")\n",
    "else:\n",
    "    skymap=SkymapPlot.SkyMap.SkyMapGalactic()\n",
    "    skymap.add_plane()\n",
    "    #smoothed_map=usedMap\n",
    "    #plotTitle=r\"$\\log_{10}(\\mathrm{Flux}\\,[\\mathrm{mJY}])$\")\n",
    "    plotTitle=r\"$\\log_{10}(\\frac{\\mathrm{Flux}}{\\mathrm{Total Flux}})$\"\n",
    "    skymap.plot_map(np.log10(smoothed_map),\n",
    "                    cmap=colormap, npix=res, \n",
    "                    colorbar=dict(title=plotTitle))\n",
    "    skymap.fig.savefig(SAVE_DIRECTORY+\"test3.png\", dpi=800, bbox_inches=\"tight\")\n",
    "plt.show()"
   ]
  },
  {
   "cell_type": "code",
   "execution_count": 4,
   "metadata": {
    "collapsed": false
   },
   "outputs": [
    {
     "name": "stdout",
     "output_type": "stream",
     "text": [
      "21442.0\n",
      "21442.0\n"
     ]
    }
   ],
   "source": [
    "catalog_map2=catalog_map/np.sum(catalog_map)\n",
    "map2=mergeGPU.map_delta\n",
    "print np.sum(catalog_map)\n",
    "print np.sum(mergeGPU.map_delta)"
   ]
  },
  {
   "cell_type": "markdown",
   "metadata": {},
   "source": [
    "# getting alms from the files:"
   ]
  },
  {
   "cell_type": "code",
   "execution_count": 6,
   "metadata": {
    "collapsed": false,
    "scrolled": true
   },
   "outputs": [],
   "source": [
    "l_max=200\n",
    "size=int((1.+(l_max))*((2.+(l_max))/2.)) #size of the alm array\n",
    "no_files=1000 #max is 1000 so far\n",
    "no_srcs=10\n",
    "temp1=[]\n",
    "temp2=[]\n",
    "temp1_no_m0=[0]*size\n",
    "temp2_no_m0=[0]*size\n",
    "abs_alms_no_m0=[]\n",
    "phase_alms_no_m0=[]\n",
    "bad_ids=[]\n",
    "\n",
    "Alm_BGD=[]\n",
    "Alm_BGD_no_m0=[]\n",
    "Alm_BGD_avg=[0]*size\n",
    "Alm_VarSig=[]\n",
    "Alm_Pure=[]\n",
    "Alm_PureMu15=[]\n",
    "\n",
    "#indices for m=0 to be excluded:\n",
    "for l in range(l_max):\n",
    "    bad_ids.append(H.Alm.getidx(l_max, l, m=0))\n",
    "    \n",
    "#BGD files loop:\n",
    "for i in range(no_files):\n",
    "    temp1=np.loadtxt(\"/net/scratch_icecube4/user/kalaczynski/Analysis_stuff/BGD_1000maps_lmax=\"+str(l_max)+\"/almAllAbs_\"+str(i)+\".txt\")\n",
    "    temp2=np.loadtxt(\"/net/scratch_icecube4/user/kalaczynski/Analysis_stuff/BGD_1000maps_lmax=\"+str(l_max)+\"/almAllPhase_\"+str(i)+\".txt\")\n",
    "    for j in range(size):  #excludes m=0\n",
    "        if (j in bad_ids):\n",
    "            temp1_no_m0[j]=0\n",
    "            temp2_no_m0[j]=0\n",
    "        else:\n",
    "            #print temp1[j],j, size\n",
    "            temp1_no_m0[j]=temp1[j]\n",
    "            temp2_no_m0[j]=temp2[j]\n",
    "    #absolute_alm_avg+=temp1/no_files\n",
    "    #phase_alms_avg+=temp2/no_files\n",
    "    abs_alms_no_m0.append(temp1_no_m0)\n",
    "    phase_alms_no_m0.append(temp2_no_m0)\n",
    "    Alm_BGD.append(temp1*np.cos(temp2)+temp1*np.sin(temp2)*1j)\n",
    "    Alm_BGD_avg=Alm_BGD_avg+((temp1*np.cos(temp2)+temp1*np.sin(temp2)*1j))/no_files\n",
    "    Alm_BGD_no_m0.append(abs_alms_no_m0[i]*np.cos(phase_alms_no_m0[i])+abs_alms_no_m0[i]*np.sin(phase_alms_no_m0[i])*1j)\n"
   ]
  },
  {
   "cell_type": "code",
   "execution_count": 55,
   "metadata": {
    "collapsed": false,
    "scrolled": true
   },
   "outputs": [],
   "source": [
    "\n",
    "#Signal files:\n",
    "abs_sig=np.loadtxt(\"/net/scratch_icecube4/user/kalaczynski/Analysis_stuff/VarSig_lmax=\"+str(l_max)+\"/1src/almAllAbs_0.txt\")\n",
    "phase_sig=np.loadtxt(\"/net/scratch_icecube4/user/kalaczynski/Analysis_stuff/VarSig_lmax=\"+str(l_max)+\"/1src/almAllPhase_0.txt\")\n",
    "abs_sig2=np.loadtxt(\"/net/scratch_icecube4/user/kalaczynski/Analysis_stuff/VarSig_lmax=\"+str(l_max)+\"/1src_mu1000/almAllAbs_0.txt\")\n",
    "phase_sig2=np.loadtxt(\"/net/scratch_icecube4/user/kalaczynski/Analysis_stuff/VarSig_lmax=\"+str(l_max)+\"/1src_mu1000/almAllPhase_0.txt\")\n",
    "abs_sig3=np.loadtxt(\"/net/scratch_icecube4/user/kalaczynski/Analysis_stuff/VarSig_lmax=\"+str(l_max)+\"/1src_mu100000/almAllAbs_0.txt\")\n",
    "phase_sig3=np.loadtxt(\"/net/scratch_icecube4/user/kalaczynski/Analysis_stuff/VarSig_lmax=\"+str(l_max)+\"/1src_mu100000/almAllPhase_0.txt\")\n",
    "abs_sig3off=np.loadtxt(\"/net/scratch_icecube4/user/kalaczynski/Analysis_stuff/VarSig_lmax=\"+str(l_max)+\"/1src_mu100000_off_position/almAllAbs_0.txt\")\n",
    "phase_sig3off=np.loadtxt(\"/net/scratch_icecube4/user/kalaczynski/Analysis_stuff/VarSig_lmax=\"+str(l_max)+\"/1src_mu100000_off_position/almAllPhase_0.txt\")\n",
    "abs_sig4=np.loadtxt(\"/net/scratch_icecube4/user/kalaczynski/Analysis_stuff/VarSig_lmax=\"+str(l_max)+\"/10strongest/almAllAbs_0.txt\")\n",
    "phase_sig4=np.loadtxt(\"/net/scratch_icecube4/user/kalaczynski/Analysis_stuff/VarSig_lmax=\"+str(l_max)+\"/10strongest/almAllPhase_0.txt\")\n",
    "abs_sig4_noBG=np.loadtxt(\"/net/scratch_icecube4/user/kalaczynski/Analysis_stuff/VarSig_lmax=\"+str(l_max)+\"/10strongest_noBG/almAllAbs_0.txt\")\n",
    "phase_sig4_noBG=np.loadtxt(\"/net/scratch_icecube4/user/kalaczynski/Analysis_stuff/VarSig_lmax=\"+str(l_max)+\"/10strongest_noBG/almAllPhase_0.txt\")\n",
    "abs_sig5=np.loadtxt(\"/net/scratch_icecube4/user/kalaczynski/Analysis_stuff/VarSig_lmax=\"+str(l_max)+\"/10weakest/almAllAbs_0.txt\")\n",
    "phase_sig5=np.loadtxt(\"/net/scratch_icecube4/user/kalaczynski/Analysis_stuff/VarSig_lmax=\"+str(l_max)+\"/10weakest/almAllPhase_0.txt\")\n",
    "abs_sig6=np.loadtxt(\"/net/scratch_icecube4/user/kalaczynski/Analysis_stuff/VarSig_lmax=\"+str(l_max)+\"/100strongest_mu100/almAllAbs_0.txt\")\n",
    "phase_sig6=np.loadtxt(\"/net/scratch_icecube4/user/kalaczynski/Analysis_stuff/VarSig_lmax=\"+str(l_max)+\"/100strongest_mu100/almAllPhase_0.txt\")\n",
    "\n",
    "Alm_VarSig=abs_sig*np.cos(phase_sig)+abs_sig*np.sin(phase_sig)*1j\n",
    "Alm_VarSig2=abs_sig2*np.cos(phase_sig2)+abs_sig2*np.sin(phase_sig2)*1j\n",
    "Alm_VarSig3=abs_sig3*np.cos(phase_sig3)+abs_sig3*np.sin(phase_sig3)*1j\n",
    "Alm_VarSig3off=abs_sig3off*np.cos(phase_sig3off)+abs_sig3off*np.sin(phase_sig3off)*1j\n",
    "Alm_VarSig4=abs_sig4*np.cos(phase_sig4)+abs_sig4*np.sin(phase_sig4)*1j\n",
    "Alm_VarSig4_noBG=abs_sig4_noBG*np.cos(phase_sig4_noBG)+abs_sig4_noBG*np.sin(phase_sig4_noBG)*1j\n",
    "Alm_VarSig5=abs_sig5*np.cos(phase_sig5)+abs_sig5*np.sin(phase_sig5)*1j\n",
    "Alm_VarSig6=abs_sig6*np.cos(phase_sig6)+abs_sig6*np.sin(phase_sig6)*1j\n"
   ]
  },
  {
   "cell_type": "code",
   "execution_count": 102,
   "metadata": {
    "collapsed": false
   },
   "outputs": [],
   "source": [
    "# catalog alms:\n",
    "Alm_cat=H.anafast(catalog_map, lmax=l_max, alm=\"True\")[1]\n",
    "Alm_cat2=H.anafast(catalog_map, lmax=3000, alm=\"True\")[1]    \n",
    "\n",
    "absBGD_big=np.loadtxt(\"/net/scratch_icecube4/user/kalaczynski/Analysis_stuff/BGD_lmax=3000/almAllAbs_0.txt\")\n",
    "phaseBGD_big=np.loadtxt(\"/net/scratch_icecube4/user/kalaczynski/Analysis_stuff/BGD_lmax=3000/almAllPhase_0.txt\")\n",
    "Alm_BGD_big=absBGD_big*np.cos(phaseBGD_big)+absBGD_big*np.sin(phaseBGD_big)*1j"
   ]
  },
  {
   "cell_type": "code",
   "execution_count": 111,
   "metadata": {
    "collapsed": false
   },
   "outputs": [],
   "source": [
    "absVarSig_big=np.loadtxt(\"/net/scratch_icecube4/user/kalaczynski/Analysis_stuff/VarSig_lmax=3000/1strongest_mu100/almAllAbs_0.txt\")\n",
    "phaseVarSig_big=np.loadtxt(\"/net/scratch_icecube4/user/kalaczynski/Analysis_stuff/VarSig_lmax=3000/1strongest_mu100/almAllPhase_0.txt\")\n",
    "Alm_VarSig_big=absVarSig_big*np.cos(phaseVarSig_big)+absVarSig_big*np.sin(phaseVarSig_big)*1j"
   ]
  },
  {
   "cell_type": "code",
   "execution_count": 3,
   "metadata": {
    "collapsed": false
   },
   "outputs": [
    {
     "ename": "TypeError",
     "evalue": "retEffCl() got multiple values for keyword argument 'lmax'",
     "output_type": "error",
     "traceback": [
      "\u001b[1;31m---------------------------------------------------------------------------\u001b[0m",
      "\u001b[1;31mTypeError\u001b[0m                                 Traceback (most recent call last)",
      "\u001b[1;32m<ipython-input-3-52a9896754a2>\u001b[0m in \u001b[0;36m<module>\u001b[1;34m()\u001b[0m\n\u001b[0;32m      1\u001b[0m \u001b[0mtest\u001b[0m\u001b[1;33m=\u001b[0m\u001b[0mH\u001b[0m\u001b[1;33m.\u001b[0m\u001b[0manafast\u001b[0m\u001b[1;33m(\u001b[0m\u001b[0mcatalog_map\u001b[0m\u001b[1;33m,\u001b[0m\u001b[0mcatalog_map\u001b[0m\u001b[1;33m,\u001b[0m \u001b[0mlmax\u001b[0m\u001b[1;33m=\u001b[0m\u001b[1;36m25\u001b[0m\u001b[1;33m)\u001b[0m\u001b[1;33m\u001b[0m\u001b[0m\n\u001b[1;32m----> 2\u001b[1;33m \u001b[0mselfCat\u001b[0m\u001b[1;33m=\u001b[0m\u001b[0mretEffCl\u001b[0m\u001b[1;33m(\u001b[0m\u001b[0mcatalog_map\u001b[0m\u001b[1;33m,\u001b[0m\u001b[0mcatalog_map\u001b[0m\u001b[1;33m,\u001b[0m \u001b[0mlmax\u001b[0m\u001b[1;33m=\u001b[0m\u001b[1;36m25\u001b[0m\u001b[1;33m)\u001b[0m\u001b[1;33m\u001b[0m\u001b[0m\n\u001b[0m",
      "\u001b[1;31mTypeError\u001b[0m: retEffCl() got multiple values for keyword argument 'lmax'"
     ]
    }
   ],
   "source": [
    "test=H.anafast(catalog_map,catalog_map, lmax=25)\n",
    "selfCat=retEffCl(catalog_map,catalog_map, lmax=25)\n"
   ]
  },
  {
   "cell_type": "code",
   "execution_count": 6,
   "metadata": {
    "collapsed": false
   },
   "outputs": [],
   "source": [
    "Alm_cat=H.anafast(catalog_map, lmax=1000, alm=\"True\")[1]\n",
    "Alm_cat_conj=np.conj(Alm_cat)\n"
   ]
  },
  {
   "cell_type": "raw",
   "metadata": {},
   "source": []
  },
  {
   "cell_type": "code",
   "execution_count": 8,
   "metadata": {
    "collapsed": false
   },
   "outputs": [
    {
     "name": "stdout",
     "output_type": "stream",
     "text": [
      "21442.0\n"
     ]
    }
   ],
   "source": [
    "print sum(catalog_map)"
   ]
  },
  {
   "cell_type": "markdown",
   "metadata": {},
   "source": [
    "# Alm plotting"
   ]
  },
  {
   "cell_type": "code",
   "execution_count": 6,
   "metadata": {
    "collapsed": false
   },
   "outputs": [],
   "source": [
    "plt.xlabel(\"Im($a^{l}_{m}$)$\\cdot 10^{6}$\", fontsize=34)\n",
    "plt.ylabel(\"Re($a^{l}_{m}$)$\\cdot 10^{6}$\", fontsize=34)\n",
    "#plt.scatter(np.imag(Alm_VarSig*10**3), np.real(Alm_VarSig*10**3), label=\"VarSig, $l_{\\mathsf{max}}=$\"+str(l_max), color='g')\n",
    "plt.scatter(np.imag(Alm_BGD[0]*10**6), np.real(Alm_BGD[0]*10**6), label=\"BGD without $m=0$, $l_{\\mathsf{max}}=$\"+str(l_max), color='r')\n",
    "plt.scatter(np.imag(Alm_BGD_no_m0[0]*10**6), np.real(Alm_BGD_no_m0[0]*10**6), label=\"BGD without $m=0$, $l_{\\mathsf{max}}=$\"+str(l_max), color='g')\n",
    "\n",
    "plt.legend()\n",
    "plt.gcf().set_size_inches(15, 11)\n",
    "plt.savefig(SAVE_DIRECTORY+\"alm_vs_blm_test.png\", dpi=300)\n",
    "plt.show()\n"
   ]
  },
  {
   "cell_type": "code",
   "execution_count": 42,
   "metadata": {
    "collapsed": false
   },
   "outputs": [],
   "source": [
    "# Plotting alm vs blm:\n",
    "plt.xlabel(\"Re($a^{l}_{m}$)$\\cdot 10^{6}$\", fontsize=34)\n",
    "plt.ylabel(\"Re($b^{l}_{m}$)$\\cdot 10^{6}$\", fontsize=34)\n",
    "\n",
    "plt.scatter(np.real(Alm_cat*10**6), np.real(Alm_VarSig6*10**6), label=\"VarSig, $l_{\\mathsf{max}}=$\"+str(l_max), color='r')\n",
    "plt.scatter(np.real(Alm_cat*10**6), np.real(Alm_VarSig4*10**6), label=\"VarSig, $l_{\\mathsf{max}}=$\"+str(l_max), color='b')\n",
    "plt.scatter(np.real(Alm_cat*10**6), np.real(Alm_VarSig4_noBG*10**6), label=\"VarSig, $l_{\\mathsf{max}}=$\"+str(l_max), color='g')\n",
    "#plt.scatter(np.real(Alm_cat*10**6), np.real(Alm_cat*10**6), label=\"Catalogue, $l_{\\mathsf{max}}=$\"+str(l_max), color='magenta')\n",
    "\n",
    "\n",
    "plt.legend()\n",
    "plt.gcf().set_size_inches(15, 11)\n",
    "#plt.savefig(SAVE_DIRECTORY+\"almVsBlmTestImag.png\", dpi=300)\n",
    "plt.show()\n"
   ]
  },
  {
   "cell_type": "code",
   "execution_count": 169,
   "metadata": {
    "collapsed": false
   },
   "outputs": [],
   "source": [
    "#histogram with Gaussian fit:\n",
    "num_bins = 30\n",
    "plt.xlabel(\"Re($a^{l}_{m}$)$\\cdot 10^{5}$\", fontsize=34)\n",
    "plt.ylabel(\"Amplitude [a.u.]\", fontsize=34)\n",
    "\n",
    "\n",
    "x=np.abs(Alm_VarSig3)*100000\n",
    "mu = np.mean(x) # mean\n",
    "sigma = np.std(x) # standard deviation \n",
    "n, bins, patches = plt.hist(x,num_bins, normed = True, label=\"BGD, $l_{\\mathsf{max}}=$\"+str(l_max))\n",
    "y = mlab.normpdf(bins, mu, sigma)\n",
    "plt.plot(bins, y, 'r--', label=\"Gauss fit\")\n",
    "plt.legend()\n",
    "plt.gcf().set_size_inches(15, 11)\n",
    "plt.savefig(SAVE_DIRECTORY+\"histo_BGD_Re.png\", dpi=300)\n",
    "plt.show()"
   ]
  },
  {
   "cell_type": "code",
   "execution_count": 183,
   "metadata": {
    "collapsed": false
   },
   "outputs": [
    {
     "name": "stdout",
     "output_type": "stream",
     "text": [
      "(array([43, 20,  7, 81, 56, 37, 52, 30, 90, 17, 45, 56, 52, 44, 35, 66, 27,\n",
      "       10, 14, 29, 56, 22,  7, 10, 22,  8, 43, 13, 24, 14, 11, 65, 36, 56,\n",
      "       34, 24, 40, 44, 48, 28, 10, 14, 23,  4, 26, 50, 47, 23, 51, 25, 17,\n",
      "       46,  4, 25, 23, 41, 13,  6,  2, 36, 14, 15, 12, 82, 29,  9,  5, 23,\n",
      "       24,  7, 18, 10, 16, 21, 21,  9, 17, 11, 41, 11,  9,  8, 14, 10, 26,\n",
      "       33, 22, 10,  9, 16, 12, 11, 18,  5,  7,  4,  8,  3,  1,  0]), array([15, 11,  2, 60,  7, 13, 16,  9, 67,  1, 21, 26, 37, 31, 12, 49,  0,\n",
      "        3,  4,  0, 42, 12,  4,  6,  9,  2, 31, 10, 13,  6,  7, 49, 18, 41,\n",
      "       17,  8, 30, 21, 34, 19,  4, 11, 17,  2, 20, 12, 35, 13, 37,  0, 13,\n",
      "       35,  3, 19,  7, 30,  9,  4,  1, 13,  9, 11,  9, 60,  4,  7,  3,  0,\n",
      "       18,  5, 14,  8, 12,  8, 11,  6, 12,  4,  0,  8,  3,  6,  0,  7,  0,\n",
      "        0,  0,  0,  0,  0,  0,  0,  0,  0,  0,  0,  0,  0,  0,  0]))\n"
     ]
    }
   ],
   "source": [
    "c=np.argsort(np.abs(Alm_VarSig3*Alm_cat))[-100::]\n",
    "lmID=H.Alm.getlm(200, c)\n",
    "print lmID"
   ]
  },
  {
   "cell_type": "markdown",
   "metadata": {},
   "source": [
    "# cross-correlation:"
   ]
  },
  {
   "cell_type": "code",
   "execution_count": 97,
   "metadata": {
    "collapsed": false
   },
   "outputs": [],
   "source": [
    "crossCl=[]\n",
    "crossCl_avg=[0]*(l_max+1)\n",
    "selfBGD_avg=[0]*(l_max+1)\n",
    "abscrossCl_avg=[0]*(l_max+1)\n",
    "\n",
    "# USE_ZERO - uses m=0\n",
    "\n",
    "#for i in range(len(Alm_BGD)):\n",
    "#    crossCl_avg=np.add(crossCl_avg,retCrossCl(Alm_VarSig,Alm_BGD[i], lmax=l_max, USE_ZERO=True))\n",
    "#    selfBGD_avg=np.add(selfBGD_avg,retCrossCl(Alm_BGD[i],Alm_BGD[i], lmax=l_max, USE_ZERO=True))\n",
    "#    abscrossCl_avg=np.add(crossCl_avg,retCrossClTest(Alm_VarSig,Alm_BGD[i], lmax=l_max, USE_ZERO=True))\n",
    "#crossCl_avg = [x / len(Alm_BGD) for x in crossCl_avg]\n",
    "#selfBGD_avg = [x / len(Alm_BGD) for x in selfBGD_avg]\n",
    "#abscrossCl_avg = [x / len(Alm_BGD) for x in abscrossCl_avg]\n",
    "crossCl3=retCrossCl(Alm_BGD[0],Alm_cat, lmax=l_max, USE_ZERO=True)\n",
    "crossCl4=retCrossCl(Alm_VarSig,Alm_cat, lmax=l_max, USE_ZERO=True)\n",
    "crossCl4b=retCrossCl(Alm_VarSig2,Alm_cat, lmax=l_max, USE_ZERO=True)\n",
    "crossCl4c=retCrossCl(Alm_VarSig3,Alm_cat, lmax=l_max, USE_ZERO=True)\n",
    "crossCl4cOff=retCrossCl(Alm_VarSig3off,Alm_cat, lmax=l_max, USE_ZERO=True)\n",
    "crossCl4d=retCrossCl(Alm_VarSig4,Alm_cat, lmax=l_max, USE_ZERO=True)\n",
    "crossCl4d_noBG=retCrossCl(Alm_VarSig4_noBG,Alm_cat, lmax=l_max, USE_ZERO=True)                  \n",
    "crossCl4e=retCrossCl(Alm_VarSig5,Alm_cat, lmax=l_max, USE_ZERO=True)\n",
    "crossCl4f=retCrossCl(Alm_VarSig6,Alm_cat, lmax=l_max, USE_ZERO=True)\n",
    "abscrossCl4=retCrossClTest(Alm_VarSig,Alm_cat, lmax=l_max, USE_ZERO=True)\n",
    "abscrossCl4b=retCrossClTest(Alm_VarSig2,Alm_cat, lmax=l_max, USE_ZERO=True)\n",
    "abscrossCl4c=retCrossClTest(Alm_VarSig3,Alm_cat, lmax=l_max, USE_ZERO=True)\n",
    "abscrossCl4cOff=retCrossClTest(Alm_VarSig3off,Alm_cat, lmax=l_max, USE_ZERO=True)\n",
    "abscrossCl4d=retCrossClTest(Alm_VarSig4,Alm_cat, lmax=l_max, USE_ZERO=True)\n",
    "abscrossCl4d_noBG=retCrossClTest(Alm_VarSig4_noBG,Alm_cat, lmax=l_max, USE_ZERO=True)\n",
    "abscrossCl4e=retCrossClTest(Alm_VarSig5,Alm_cat, lmax=l_max, USE_ZERO=True)\n",
    "abscrossCl4f=retCrossClTest(Alm_VarSig6,Alm_cat, lmax=l_max, USE_ZERO=True)\n",
    "crossCl5=retCrossCl(Alm_VarSig,Alm_BGD[0], lmax=l_max, USE_ZERO=True)\n",
    "selfCat=retCrossCl(Alm_cat,Alm_cat, lmax=l_max, USE_ZERO=True)\n",
    "selfCat2=retCrossCl(Alm_cat2,Alm_cat2, lmax=5000, USE_ZERO=True)\n",
    "selfVarSig=retCrossCl(Alm_VarSig,Alm_VarSig, lmax=l_max, USE_ZERO=True)\n",
    "selfBGD=retCrossCl(Alm_BGD_avg,Alm_BGD_avg, lmax=l_max, USE_ZERO=True)\n",
    "BGDxCat=retCrossCl(Alm_BGD_big,Alm_cat2, lmax=3000, USE_ZERO=True)\n",
    "VarSigxCat=retCrossCl(Alm_VarSig_big,Alm_cat2, lmax=3000, USE_ZERO=True)\n",
    "\n",
    "# alm2cl actually rejects the imaginary part!!! (real is the same)\n",
    "#crossCl2=H.sphtfunc.alm2cl(Alm_BGD[0],Alm_cat,lmax=l_max)\n",
    "\n",
    "#getting map from Cl's. Rather not realiable (gives full Skymap, does not seem to be ok)\n",
    "#newMap=H.sphtfunc.synfast(selfCat, nside=512, lmax=l_max)\n"
   ]
  },
  {
   "cell_type": "code",
   "execution_count": 5,
   "metadata": {
    "collapsed": false
   },
   "outputs": [
    {
     "name": "stdout",
     "output_type": "stream",
     "text": [
      "Sigma is 0.000000 arcmin (0.000000 rad) \n",
      "-> fwhm is 0.000000 arcmin\n"
     ]
    }
   ],
   "source": [
    "#ConjAlm_cat=np.conj(Alm_cat)\n",
    "ConjAlm_cat=np.conj(Alm_cat)\n",
    "newMap=H.alm2map(ConjAlm_cat, nside=512)\n",
    "#newMap=H.alm2map(catalog_map, nside=512)"
   ]
  },
  {
   "cell_type": "code",
   "execution_count": 3,
   "metadata": {
    "collapsed": false
   },
   "outputs": [],
   "source": [
    "selfCat=H.anafast(catalog_map,catalog_map, lmax=1000)\n",
    "CatXSth=H.anafast(catalog_map,mergeGPU.map_delta, lmax=1000)\n",
    "SthXSth=H.anafast(mergeGPU.map_delta,mergeGPU.map_delta, lmax=1000)"
   ]
  },
  {
   "cell_type": "code",
   "execution_count": 22,
   "metadata": {
    "collapsed": false
   },
   "outputs": [
    {
     "ename": "NameError",
     "evalue": "name 'selfCat' is not defined",
     "output_type": "error",
     "traceback": [
      "\u001b[1;31m---------------------------------------------------------------------------\u001b[0m",
      "\u001b[1;31mNameError\u001b[0m                                 Traceback (most recent call last)",
      "\u001b[1;32m<ipython-input-22-ad5472707eb3>\u001b[0m in \u001b[0;36m<module>\u001b[1;34m()\u001b[0m\n\u001b[1;32m----> 1\u001b[1;33m \u001b[1;32mprint\u001b[0m \u001b[0mlen\u001b[0m\u001b[1;33m(\u001b[0m\u001b[0mselfCat\u001b[0m\u001b[1;33m)\u001b[0m\u001b[1;33m\u001b[0m\u001b[0m\n\u001b[0m",
      "\u001b[1;31mNameError\u001b[0m: name 'selfCat' is not defined"
     ]
    }
   ],
   "source": [
    "print len(selfCat)"
   ]
  },
  {
   "cell_type": "markdown",
   "metadata": {
    "collapsed": false
   },
   "source": [
    "# Plotting $C_l$"
   ]
  },
  {
   "cell_type": "code",
   "execution_count": 4,
   "metadata": {
    "collapsed": false
   },
   "outputs": [],
   "source": [
    "plt.xlabel(\"$l$\", fontsize=34)\n",
    "plt.ylabel(\"$C_{l}$\", fontsize=34)\n",
    "#plt.xlim([0, 3000])\n",
    "plt.ylim([10**(-12), 10**(-3)])\n",
    "#plt.plot(range(len(crossCl)),abs(np.real(crossCl)), label=\"crossCl real PureSig x Bgd\")\n",
    "#plt.plot(range(len(crossCl)),abs(np.imag(crossCl)), label=\"crossCl imag PureSig x Bgd\")\n",
    "#plt.plot(range(len(crossCl)),abscrossCl, label=\"crossCl abs PureSig x Bgd\")\n",
    "#plt.plot(range(len(crossCl_avg)),abs(np.real(crossCl_avg)), label=\"crossCl real VarSig x Bgd\")\n",
    "#plt.plot(range(len(crossCl_avg)),abs(np.imag(crossCl_avg)), label=\"crossCl imag VarSig x Bgd\")\n",
    "#plt.plot(range(len(abscrossCl_avg)),abs(np.imag(abscrossCl_avg)), label=\"crossCl abs VarSig x Bgd\")\n",
    "#plt.plot(range(len(crossCl)),abs(np.real(crossCl_avgBGD)), label=\"crossCl real PureSig x BggAavg\")\n",
    "#plt.plot(range(len(crossCl)),abs(np.imag(crossCl_avgBGD)), label=\"crossCl imag PureSig x BgdAvg\")\n",
    "\n",
    "#plt.plot(range(len(abscrossCl4)),abscrossCl4, label=\"abs, $\\mu=100$\", color = 'r')\n",
    "#plt.plot(range(len(abscrossCl4)),np.abs(crossCl4), label=\"abs whole, $\\mu=100$\", color = 'r')\n",
    "#plt.plot(range(len(crossCl4)),abs(np.real(crossCl4)), label=\"crossCl real VarSig x Map\", color = 'r')\n",
    "#plt.plot(range(len(crossCl4)),abs(np.imag(crossCl4)), label=\"crossCl imag VarSig x Map\", color = 'r')\n",
    "\n",
    "#plt.plot(range(len(abscrossCl4b)),abscrossCl4b, label=\"abs, $\\mu=1000$\", color = 'g')\n",
    "#plt.plot(range(len(abscrossCl4b)),np.abs(crossCl4b), label=\"abs whole, $\\mu=1000$\", color = 'g')\n",
    "#plt.plot(range(len(abscrossCl4b)),np.real(crossCl4b), label=\"real VarSig x Map\", color = 'g')\n",
    "#plt.plot(range(len(abscrossCl4b)),np.imag(crossCl4b), label=\"imag crossCl b VarSig x Map\", color = 'g')\n",
    "\n",
    "#plt.plot(range(len(abscrossCl4c)),abscrossCl4c, label=\"abs , $\\mu=100000$\", color = 'b')\n",
    "#plt.plot(range(len(abscrossCl4c)),np.abs(crossCl4c), label=\"abs whole, $\\mu=100000$\", color = 'b')\n",
    "#plt.plot(range(len(abscrossCl4c)),np.real(crossCl4c), label=\"real crossCl c VarSig x Map\", color = 'b')\n",
    "#plt.plot(range(len(abscrossCl4c)),np.imag(crossCl4c), label=\"imag crossCl c VarSig x Map\", color = 'b')\n",
    "\n",
    "#plt.plot(range(len(abscrossCl4cOff)),abscrossCl4cOff, label=\"abs , $\\mu=100000$ off\", color = 'r')\n",
    "#plt.plot(range(len(abscrossCl4cOff)),np.abs(crossCl4cOff), label=\"abs whole, $\\mu=100000$ off\", color = 'r')\n",
    "#plt.plot(range(len(abscrossCl4cOff)),np.real(crossCl4cOff), label=\"real crossCl c VarSig x Map\", color = 'b')\n",
    "#plt.plot(range(len(abscrossCl4cOff)),np.imag(crossCl4cOff), label=\"imag crossCl c VarSig x Map\", color = 'b')\n",
    "\n",
    "\n",
    "#abscrossCl4d = [x /(.046327/.00816449) for x in abscrossCl4d]\n",
    "#plt.plot(range(len(abscrossCl4d)),abscrossCl4d, label=\"10 strongest abs, $\\mu=10000$\", color = 'magenta')\n",
    "#plt.plot(range(len(abscrossCl4d)),np.abs(crossCl4d), label=\"abs whole 10 strongest, $\\mu=10000$\", color = 'magenta')\n",
    "#plt.plot(range(len(abscrossCl4d)),np.real(crossCl4d), label=\"real crossCl d VarSig x Map\", color = 'magenta')\n",
    "#plt.plot(range(len(abscrossCl4d)),np.imag(crossCl4d), label=\"imag crossCl d VarSig x Map\", color = 'magenta')\n",
    "\n",
    "#plt.plot(range(len(abscrossCl4d_noBG)),abscrossCl4d_noBG, label=\"10 strongest abs no BGD, $\\mu=10000$\", color = 'orange')\n",
    "#plt.plot(range(len(abscrossCl4d_noBG)),np.abs(crossCl4d_noBG), label=\"abs whole 10 strongest no BGD, $\\mu=10000$\", color = 'orange')\n",
    "#plt.plot(range(len(abscrossCl4d_noBG)),np.real(crossCl4d_noBG), label=\"real 10 strongest no BGD\", color = 'orange')\n",
    "#plt.plot(range(len(abscrossCl4d_noBG)),np.imag(crossCl4d_noBG), label=\"imag 10 strongest no BGD\", color = 'orange')\n",
    "\n",
    "#plt.plot(range(len(abscrossCl4e)),abscrossCl4e, label=\"10 weakest abs, $\\mu=10000$\", color = 'cyan')\n",
    "#plt.plot(range(len(abscrossCl4e)),np.abs(crossCl4e), label=\"abs whole 10 weakest, $\\mu=10000$\", color = 'cyan')\n",
    "#plt.plot(range(len(abscrossCl4e)),np.real(crossCl4e), label=\"real crossCl e VarSig x Map\", color = 'cyan')\n",
    "#plt.plot(range(len(abscrossCl4e)),np.imag(crossCl4e), label=\"imag crossCl e VarSig x Map\", color = 'cyan')\n",
    "\n",
    "#plt.plot(range(len(abscrossCl4f)),abscrossCl4f, label=\"100 strongest abs, $\\mu=100$\", color = 'brown')\n",
    "#plt.plot(range(len(abscrossCl4f)),np.abs(crossCl4f), label=\"abs whole 100 strongest , $\\mu=100$\", color = 'brown')\n",
    "#plt.plot(range(len(abscrossCl4f)),np.real(crossCl4f), label=\"real 100 strongest , $\\mu=100$\", color = 'cyan')\n",
    "#plt.plot(range(len(abscrossCl4f)),np.imag(crossCl4f), label=\"imag 100 strongest , $\\mu=100$\", color = 'cyan')\n",
    "\n",
    "\n",
    "#plt.plot(range(len(crossCl6)),abscrossCl6, label=\"crossCl abs PureSig x Map\")\n",
    "#plt.plot(range(len(selfPure)),selfPure, label=\"crossCl PureSig x PureSig\")\n",
    "#plt.plot(range(len(selfVarSig)),selfVarSig, label=\"VarSig x VarSig, $\\mu=100$\", color = 'black')\n",
    "#plt.plot(range(len(selfCat)),selfCat, label=\"Cat x Cat\", color = 'black')\n",
    "#plt.plot(range(len(selfCat2)),selfCat2, label=\"Cat2 x Cat2\", color = 'black')\n",
    "#plt.plot(range(len(BGDxCat)),BGDxCat, label=\"BGD x Cat2\", color = 'r')\n",
    "#plt.plot(range(len(VarSigxCat)),VarSigxCat, label=\"BGD x Cat2\", color = 'g')\n",
    "#plt.scatter(range(len(test)),test, label=\"Cat x Cat\", color = 'black', s=1)\n",
    "plt.scatter(range(len(selfCat)),selfCat, label=\"Cat x Cat\", color = 'black', s=10)\n",
    "plt.scatter(range(len(CatXSth)),CatXSth, label=\"Cat x Bgd\", color = 'red', s=10)\n",
    "plt.scatter(range(len(SthXSth)),SthXSth, label=\"Bgd x Bgd\", color = 'blue', s=10)\n",
    "\n",
    "#plt.scatter(range(len(test2)),test2, label=\"Cat x VarSigExtended, $\\mu=100$\", color = 'r', s=10)\n",
    "#plt.scatter(range(len(test3)),test3, label=\"VarSigExtended x VarSigExtended, $\\mu=100$\", color = 'b', s=10)\n",
    "#plt.plot(range(len(selfBGD_avg)),selfBGD_avg, label=\"BGD x BGD\", color = 'black')\n",
    "#plt.plot(range(len(selfPure)),selfBGD2, label=\"crossCl BGD x BGD avg\", color = 'brown')\n",
    "#plt.plot(range(len(crossCl7)),abs(np.real(crossCl7)), label=\"crossCl real PureSigMu15 x Map\")\n",
    "#plt.plot(range(len(crossCl7)),abs(np.imag(crossCl7)), label=\"crossCl imag PureSigMu15 x Map\")\n",
    "#plt.plot(range(len(crossCl7)),abscrossCl7, label=\"crossCl abs PureSigMu15 x Map\")\n",
    "plt.yscale('log', basey = 10)\n",
    "#plt.plot(range(len(crossCl3)),np.log10(np.imag(crossCl3)), label=\"crossCl3 imag\")\n",
    "#plt.plot(range(len(crossCl3)),np.log10(np.real(crossCl3)), label=\"crossCl3 real\")\n",
    "#plt.plot(range(l_max+1),np.imag(crossCl2)-np.imag(crossCl), label=\"crossCl2 imag\")\n",
    "plt.legend()\n",
    "plt.gcf().set_size_inches(15, 11)\n",
    "plt.savefig(SAVE_DIRECTORY+\"Cl_temp.png\", dpi=300)\n",
    "plt.show()"
   ]
  },
  {
   "cell_type": "code",
   "execution_count": 100,
   "metadata": {
    "collapsed": false
   },
   "outputs": [
    {
     "name": "stdout",
     "output_type": "stream",
     "text": [
      "0.00199868497646\n"
     ]
    }
   ],
   "source": [
    "test=H.nside2resol(512)\n",
    "print test"
   ]
  },
  {
   "cell_type": "code",
   "execution_count": 23,
   "metadata": {
    "collapsed": false
   },
   "outputs": [
    {
     "name": "stdout",
     "output_type": "stream",
     "text": [
      "1.28414757711e-12\n",
      "1.59108269726e-05\n",
      "6.12877026452e-06\n"
     ]
    }
   ],
   "source": [
    "print min(abs(CatXSth))\n",
    "print SthXSth[3]\n",
    "print selfCat[2]"
   ]
  },
  {
   "cell_type": "code",
   "execution_count": 29,
   "metadata": {
    "collapsed": false
   },
   "outputs": [
    {
     "name": "stdout",
     "output_type": "stream",
     "text": [
      "Sigma is 30.000000 arcmin (0.008727 rad) \n",
      "-> fwhm is 70.644601 arcmin\n",
      "Sigma is 0.000000 arcmin (0.000000 rad) \n",
      "-> fwhm is 0.000000 arcmin\n",
      "0.0 180.0 -180.0 180.0\n",
      "The interval between parallels is 30 deg -0.00'.\n",
      "The interval between meridians is 60 deg -0.00'.\n"
     ]
    }
   ],
   "source": [
    "#atmGPU[id].plotLastSkymap(title=SIGNAL+\", \"+SMEARING_METHOD, nFigure=1, logz=False)\n",
    "nFigure=7\n",
    "title=SIGNAL+\", \"+SMEARING_METHOD\n",
    "\n",
    "grid=True\n",
    "logz=True\n",
    "\n",
    "plotControl(nFigure)\n",
    "Norm=None\n",
    "if logz: Norm='log'\n",
    "\n",
    "smoothed_map = H.smoothing(catalog_map, sigma=np.radians(0.5))\n",
    "if min(smoothed_map)<=0:\n",
    "    raiser=abs(min(smoothed_map))*2\n",
    "else:\n",
    "    raiser = 0.\n",
    "    \n",
    "for i in range(len(smoothed_map)):\n",
    "    smoothed_map[i] = float(smoothed_map[i])\n",
    "    if logz:\n",
    "        smoothed_map[i]=smoothed_map[i]+raiser #does not affect effCl, only overall rise\n",
    "\n",
    "colormap=plt.get_cmap(\"Blues\")\n",
    "colormap.set_under(\"1\")\n",
    "col2=\"0.\"\n",
    "col=\"0.\"\n",
    "res=800\n",
    "\n",
    "H.mollview(smoothed_map, cmap=colormap, title=\"\", fig=nFigure, xsize=res, norm=Norm) #H.smoothing(, sigma=np.radians(0.5)\n",
    "H.graticule(dpar=30,dmer=60)\n",
    "\n",
    "\n",
    "H.projplot(zen2dec(mergeGPU.theta_sou), mergeGPU.phi_sou, color=\"orange\", alpha=0.3, marker=\"o\", ms=50., mew=2., mec=\"orange\", lw=0.)\n",
    "\n",
    "if grid:\n",
    "    \n",
    "    H.projtext(58.0, -8.0, \"$60^{\\circ}$\",lonlat=True, color=col2)\n",
    "    H.projtext(118.0, -8.0, \"$120^{\\circ}$\",lonlat=True, color=col2)\n",
    "    H.projtext(178.0, -8.0,\"$180^{\\circ}$\",lonlat=True, color=col2)\n",
    "    \n",
    "    H.projtext(-2.0, -8.0, \"$0^{\\circ}$\",lonlat=True, color=col2)\n",
    "    H.projtext(-62.0, -8.0, \"$300^{\\circ}$\",lonlat=True, color=col2)\n",
    "    H.projtext(-122.0, -8.0, \"$240^{\\circ}$\",lonlat=True, color=col2)\n",
    "\n",
    "    H.projtext(-2.0, 22.0, \"$30^{\\circ}$\",lonlat=True, color=col)\n",
    "    H.projtext(-2.0, 52.0, \"$60^{\\circ}$\",lonlat=True, color=col)\n",
    "    H.projtext(-2.0, 76.0, \"$90^{\\circ}$\",lonlat=True, color=col)\n",
    "\n",
    "    H.projtext(-2.0, -28.0, \"$-30^{\\circ}$\",lonlat=True, color=col)\n",
    "    H.projtext(-2.0, -58.0, \"$-60^{\\circ}$\",lonlat=True, color=col)\n",
    "    H.projtext(-2.0, -82.0, \"$-90^{\\circ}$\",lonlat=True, color=col)"
   ]
  },
  {
   "cell_type": "code",
   "execution_count": 30,
   "metadata": {
    "collapsed": false
   },
   "outputs": [],
   "source": [
    "plt.show()"
   ]
  },
  {
   "cell_type": "markdown",
   "metadata": {},
   "source": [
    "# Checking energy & zenith"
   ]
  },
  {
   "cell_type": "code",
   "execution_count": 37,
   "metadata": {
    "collapsed": false
   },
   "outputs": [],
   "source": [
    "id=2"
   ]
  },
  {
   "cell_type": "code",
   "execution_count": 2,
   "metadata": {
    "collapsed": false
   },
   "outputs": [
    {
     "ename": "TypeError",
     "evalue": "list indices must be integers, not builtin_function_or_method",
     "output_type": "error",
     "traceback": [
      "\u001b[1;31m---------------------------------------------------------------------------\u001b[0m",
      "\u001b[1;31mTypeError\u001b[0m                                 Traceback (most recent call last)",
      "\u001b[1;32m<ipython-input-2-24cbcbcfec2a>\u001b[0m in \u001b[0;36m<module>\u001b[1;34m()\u001b[0m\n\u001b[0;32m      5\u001b[0m \u001b[1;33m\u001b[0m\u001b[0m\n\u001b[0;32m      6\u001b[0m \u001b[1;31m#.sample_astro[\"dec\"]\u001b[0m\u001b[1;33m\u001b[0m\u001b[1;33m\u001b[0m\u001b[0m\n\u001b[1;32m----> 7\u001b[1;33m \u001b[0mn\u001b[0m\u001b[1;33m,\u001b[0m \u001b[0mbins\u001b[0m \u001b[1;33m=\u001b[0m \u001b[0mnp\u001b[0m\u001b[1;33m.\u001b[0m\u001b[0mhistogram\u001b[0m\u001b[1;33m(\u001b[0m\u001b[0mnp\u001b[0m\u001b[1;33m.\u001b[0m\u001b[0mcos\u001b[0m\u001b[1;33m(\u001b[0m\u001b[0matmGPU\u001b[0m\u001b[1;33m[\u001b[0m\u001b[0mid\u001b[0m\u001b[1;33m]\u001b[0m\u001b[1;33m.\u001b[0m\u001b[0mranTheta\u001b[0m\u001b[1;33m[\u001b[0m\u001b[1;33m:\u001b[0m\u001b[1;33m]\u001b[0m\u001b[1;33m)\u001b[0m\u001b[1;33m,\u001b[0m \u001b[0mbins\u001b[0m\u001b[1;33m=\u001b[0m\u001b[1;36m80\u001b[0m\u001b[1;33m,\u001b[0m \u001b[0mdensity\u001b[0m\u001b[1;33m=\u001b[0m\u001b[0mTrue\u001b[0m\u001b[1;33m)\u001b[0m \u001b[1;31m#theta values of events in map\u001b[0m\u001b[1;33m\u001b[0m\u001b[0m\n\u001b[0m\u001b[0;32m      8\u001b[0m \u001b[0mn\u001b[0m \u001b[1;33m=\u001b[0m \u001b[0mnormHist\u001b[0m\u001b[1;33m(\u001b[0m\u001b[0mn\u001b[0m\u001b[1;33m,\u001b[0m \u001b[1;36m0.95\u001b[0m\u001b[1;33m)\u001b[0m\u001b[1;33m\u001b[0m\u001b[0m\n\u001b[0;32m      9\u001b[0m \u001b[0mplt\u001b[0m\u001b[1;33m.\u001b[0m\u001b[0mplot\u001b[0m\u001b[1;33m(\u001b[0m\u001b[0msetNewEdges\u001b[0m\u001b[1;33m(\u001b[0m\u001b[0mbins\u001b[0m\u001b[1;33m)\u001b[0m\u001b[1;33m,\u001b[0m \u001b[0mn\u001b[0m\u001b[1;33m,\u001b[0m \u001b[0mdrawstyle\u001b[0m\u001b[1;33m=\u001b[0m\u001b[1;34m\"steps-mid\"\u001b[0m\u001b[1;33m,\u001b[0m \u001b[0mlabel\u001b[0m\u001b[1;33m=\u001b[0m\u001b[1;34m\"ran theta all\"\u001b[0m\u001b[1;33m,\u001b[0m \u001b[0mcolor\u001b[0m\u001b[1;33m=\u001b[0m\u001b[1;34m\"green\"\u001b[0m\u001b[1;33m)\u001b[0m\u001b[1;33m\u001b[0m\u001b[0m\n",
      "\u001b[1;31mTypeError\u001b[0m: list indices must be integers, not builtin_function_or_method"
     ]
    }
   ],
   "source": [
    "plt.figure(3)\n",
    "#n, bins = np.histogram(np.cos(dec2zen(atmGPU[id].sample_atm[\"dec\"])), bins=80, density=True) #theta values of events in map\n",
    "#n = normHist(n, 0.95)\n",
    "#plt.plot(setNewEdges(bins), n, drawstyle=\"steps-mid\", label=\"cos(sampleTheta) atm\")\n",
    "\n",
    "#.sample_astro[\"dec\"]\n",
    "n, bins = np.histogram(np.cos(atmGPU[id].ranTheta[:]), bins=80, density=True) #theta values of events in map\n",
    "n = normHist(n, 0.95)\n",
    "plt.plot(setNewEdges(bins), n, drawstyle=\"steps-mid\", label=\"ran theta all\", color=\"green\")\n",
    "plt.legend(loc=2)\n",
    "plt.show()"
   ]
  },
  {
   "cell_type": "code",
   "execution_count": 12,
   "metadata": {
    "collapsed": false
   },
   "outputs": [],
   "source": [
    "plt.figure(4)\n",
    "\n",
    "n, bins = np.histogram(atmGPU[id].ranPhi[:], bins=80, density=True) #theta values of events in map\n",
    "n = normHist(n, 0.95)\n",
    "plt.plot(setNewEdges(bins), n, drawstyle=\"steps-mid\", label=\"ran phi all\", color=\"red\")\n",
    "plt.legend(loc=2)\n",
    "plt.show()"
   ]
  },
  {
   "cell_type": "code",
   "execution_count": 13,
   "metadata": {
    "collapsed": false
   },
   "outputs": [],
   "source": [
    "nmc, binsmc = np.histogram(np.cos(np.array(dec2zen(atmGPU[id].mc_sample_full[\"dec\"]))), bins=100, weights=atmGPU[id].mc_sample_full[\"conv\"], density=True) #theta values of mc atm\n",
    "nmc = normHist(nmc, 0.95)\n",
    "plt.plot(setNewEdges(binsmc), nmc, drawstyle=\"steps-mid\", label=\"cos(fullTheta) atm\")\n",
    "\n",
    "nmc, binsmc = np.histogram(np.cos(np.array(dec2zen(atmGPU[id].mc_sample_full[\"dec\"]))), bins=100, weights=atmGPU[id].mc_sample_full[\"astro\"], density=True) #theta values of mc atm\n",
    "nmc = normHist(nmc, 0.95)\n",
    "plt.plot(setNewEdges(binsmc), nmc, drawstyle=\"steps-mid\", label=\"cos(fullTheta) astro\")\n",
    "\n",
    "plt.legend(loc=\"lower left\", fontsize = 'x-small')\n",
    "plt.show()"
   ]
  },
  {
   "cell_type": "code",
   "execution_count": 49,
   "metadata": {
    "collapsed": false
   },
   "outputs": [
    {
     "name": "stdout",
     "output_type": "stream",
     "text": [
      "258\n"
     ]
    }
   ],
   "source": [
    "print len(atmGPU[id].sample_astro[\"dec\"])"
   ]
  },
  {
   "cell_type": "code",
   "execution_count": 50,
   "metadata": {
    "collapsed": false
   },
   "outputs": [],
   "source": [
    "#plt.close(\"all\")"
   ]
  },
  {
   "cell_type": "code",
   "execution_count": 51,
   "metadata": {
    "collapsed": false
   },
   "outputs": [
    {
     "name": "stdout",
     "output_type": "stream",
     "text": [
      "saved figure (1) successfully.\n",
      "saved figure (3) successfully.\n",
      "saved figure (4) successfully.\n"
     ]
    },
    {
     "data": {
      "text/plain": [
       "True"
      ]
     },
     "execution_count": 51,
     "metadata": {},
     "output_type": "execute_result"
    }
   ],
   "source": [
    "saveAll([1, 3, 4])"
   ]
  },
  {
   "cell_type": "code",
   "execution_count": 38,
   "metadata": {
    "collapsed": false
   },
   "outputs": [
    {
     "ename": "IndexError",
     "evalue": "list index out of range",
     "output_type": "error",
     "traceback": [
      "\u001b[1;31m---------------------------------------------------------------------------\u001b[0m",
      "\u001b[1;31mIndexError\u001b[0m                                Traceback (most recent call last)",
      "\u001b[1;32m<ipython-input-38-0908f8b80916>\u001b[0m in \u001b[0;36m<module>\u001b[1;34m()\u001b[0m\n\u001b[0;32m     13\u001b[0m     \u001b[0mplt\u001b[0m\u001b[1;33m.\u001b[0m\u001b[0mylabel\u001b[0m\u001b[1;33m(\u001b[0m\u001b[1;34m\"#\"\u001b[0m\u001b[1;33m)\u001b[0m\u001b[1;33m\u001b[0m\u001b[0m\n\u001b[0;32m     14\u001b[0m \u001b[1;33m\u001b[0m\u001b[0m\n\u001b[1;32m---> 15\u001b[1;33m \u001b[0mhmin\u001b[0m\u001b[1;33m=\u001b[0m\u001b[0mmin\u001b[0m\u001b[1;33m(\u001b[0m\u001b[0matmGPU\u001b[0m\u001b[1;33m[\u001b[0m\u001b[0mid\u001b[0m\u001b[1;33m]\u001b[0m\u001b[1;33m.\u001b[0m\u001b[0menergyList\u001b[0m\u001b[1;33m)\u001b[0m\u001b[1;33m\u001b[0m\u001b[0m\n\u001b[0m\u001b[0;32m     16\u001b[0m \u001b[0mhmax\u001b[0m\u001b[1;33m=\u001b[0m\u001b[0mmax\u001b[0m\u001b[1;33m(\u001b[0m\u001b[0matmGPU\u001b[0m\u001b[1;33m[\u001b[0m\u001b[0mid\u001b[0m\u001b[1;33m]\u001b[0m\u001b[1;33m.\u001b[0m\u001b[0menergyList\u001b[0m\u001b[1;33m)\u001b[0m\u001b[1;33m\u001b[0m\u001b[0m\n\u001b[0;32m     17\u001b[0m \u001b[1;32mprint\u001b[0m \u001b[1;34m\"min energy: \"\u001b[0m\u001b[1;33m+\u001b[0m\u001b[0mstr\u001b[0m\u001b[1;33m(\u001b[0m\u001b[0mhmin\u001b[0m\u001b[1;33m)\u001b[0m\u001b[1;33m\u001b[0m\u001b[0m\n",
      "\u001b[1;31mIndexError\u001b[0m: list index out of range"
     ]
    }
   ],
   "source": [
    "def plotEnergyDistr(nFigure=-1, nLabel=['Diff. Background', 'Atm. Background'], normed=False):\n",
    "    plotControl(nFigure)\n",
    "    nColor=[\"lightblue\", \"yellow\"]\n",
    "\n",
    "    cut=len(atmGPU[id].diffElist)\n",
    "    purebg=atmGPU[id].energyList[cut:]\n",
    "\n",
    "    plt.hist([atmGPU[id].diffElist, purebg], bins= 40, range=(hmin,hmax), stacked=True, color=nColor, label=nLabel, normed=normed)\n",
    "    plt.semilogy(nonposy=\"clip\")\n",
    "    plt.legend()\n",
    "    plt.title(\"Event Energy Spectrum\")\n",
    "    plt.xlabel(r\"log(E)[GeV]\")\n",
    "    plt.ylabel(\"#\")\n",
    "    \n",
    "hmin=min(atmGPU[id].energyList)\n",
    "hmax=max(atmGPU[id].energyList)\n",
    "print \"min energy: \"+str(hmin)\n",
    "print \"max energy: \"+str(hmax)    \n",
    "plotEnergyDistr(2, normed=True)\n",
    "plt.plot(atmGPU[id].atmE_Edges, atmGPU[id].atmEnergySpline(atmGPU[id].atmE_Edges)+atmGPU[id].sigEnergySpline(atmGPU[id].sigE_Edges)/100.)\n",
    "plt.plot(atmGPU[id].sigE_Edges, atmGPU[id].sigEnergySpline(atmGPU[id].sigE_Edges)/100.)\n",
    "plt.ylim([1e-5, 1])\n",
    "plt.xlim([hmin, hmax])\n",
    "plt.show()"
   ]
  },
  {
   "cell_type": "markdown",
   "metadata": {},
   "source": [
    "# Skymap"
   ]
  },
  {
   "cell_type": "code",
   "execution_count": 27,
   "metadata": {
    "collapsed": false
   },
   "outputs": [
    {
     "name": "stdout",
     "output_type": "stream",
     "text": [
      "0.0 180.0 -180.0 180.0\n",
      "The interval between parallels is 30 deg -0.00'.\n",
      "The interval between meridians is 60 deg -0.00'.\n"
     ]
    }
   ],
   "source": [
    "id=2\n",
    "atmGPU[id].plotLastSkymap(title=SIGNAL+\", \"+SMEARING_METHOD, nFigure=5, logz=True)\n",
    "plt.show()"
   ]
  },
  {
   "cell_type": "markdown",
   "metadata": {},
   "source": [
    "# Rotation check"
   ]
  },
  {
   "cell_type": "code",
   "execution_count": 28,
   "metadata": {
    "collapsed": false
   },
   "outputs": [],
   "source": [
    "from matplotlib.colors import LogNorm\n",
    "# test plots\n",
    "plt.figure(13)\n",
    "f = plt.scatter(np.degrees(atmGPU[id].ps_sample[\"ra\"]), np.degrees(atmGPU[id].ps_sample[\"dec\"]))\n",
    "#plt.xlim(0, 360)\n",
    "\n",
    "#plt.ylim(-10,90)\n",
    "plt.xlabel(\"RA/deg\")\n",
    "plt.ylabel(\"Dec/deg\")\n",
    "\n",
    "plt.figure(14)\n",
    "color = [\"blue\", \"lightgreen\", \"orange\", \"red\", \"magenta\", \"darkblue\", \"green\", \"brown\", \"darkred\", \"purple\"]\n",
    "i=0\n",
    "#colors = [\"r\",\"g\",\"b\", \"c\", \"orange\", \"k\"]\n",
    "for rotDec in list(set(atmGPU[id].ps_sample[\"trueRotDec\"])):\n",
    "    #print i\n",
    "    plt.scatter(np.degrees(atmGPU[id].ps_sample[\"trueRa\"][np.where(atmGPU[id].ps_sample[\"trueRotDec\"] == rotDec)]), \n",
    "                np.degrees(atmGPU[id].ps_sample[\"trueDec\"][np.where(atmGPU[id].ps_sample[\"trueRotDec\"] == rotDec)]),\n",
    "                color=color[i%10])\n",
    "    i+=1\n",
    "plt.xlim(0, 360)\n",
    "plt.show()"
   ]
  }
 ],
 "metadata": {
  "kernelspec": {
   "display_name": "Python 2",
   "language": "python",
   "name": "python2"
  },
  "language_info": {
   "codemirror_mode": {
    "name": "ipython",
    "version": 2
   },
   "file_extension": ".py",
   "mimetype": "text/x-python",
   "name": "python",
   "nbconvert_exporter": "python",
   "pygments_lexer": "ipython2",
   "version": "2.7.10"
  }
 },
 "nbformat": 4,
 "nbformat_minor": 0
}
