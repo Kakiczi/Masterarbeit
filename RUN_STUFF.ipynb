{
 "cells": [
  {
   "cell_type": "code",
   "execution_count": 12,
   "metadata": {
    "collapsed": false
   },
   "outputs": [
    {
     "name": "stdout",
     "output_type": "stream",
     "text": [
      "The autoreload extension is already loaded. To reload it, use:\n",
      "  %reload_ext autoreload\n"
     ]
    }
   ],
   "source": [
    "# %matplotlib\n",
    "%load_ext autoreload\n",
    "%autoreload 2\n",
    "from functions4 import *\n",
    "from declarations2 import *\n",
    "from classes4 import *\n",
    "import numpy as np\n",
    "import SkymapPlot.SkyMap\n",
    "import matplotlib.pyplot as plt\n",
    "import matplotlib.mlab as mlab\n",
    "#from matplotlib import rcParams\n",
    "#rcParams.update({'figure.autolayout': True})\n",
    "#import plotly.plotly as py\n",
    "SAVE_DIRECTORY = \"/net/scratch_icecube4/user/kalaczynski/Plots/\"\n",
    "from astropy.io import fits"
   ]
  },
  {
   "cell_type": "markdown",
   "metadata": {},
   "source": [
    "# Running the main code"
   ]
  },
  {
   "cell_type": "code",
   "execution_count": 13,
   "metadata": {
    "collapsed": false,
    "scrolled": true
   },
   "outputs": [
    {
     "name": "stdout",
     "output_type": "stream",
     "text": [
      "DETECTOR Configuration:\n",
      "['IC86_12_13_14', 'IC86_11', 'IC79', 'IC59']\n",
      "/net/scratch_icecube4/user/glauch/DATA/\n",
      "For Detector Configuration: IC86_12_13_14 the total uptime is 91563185.0 s\n",
      "Read MC: /net/scratch_icecube4/user/glauch/DATA/IC86_2012_13_14_11029_11069_11070_corrected_ow.npy\n",
      "/net/scratch_icecube4/user/glauch/DATA/\n",
      "For Detector Configuration: IC86_11 the total uptime is 29556432.0 s\n",
      "Read MC: /net/scratch_icecube4/user/glauch/DATA/IC86_2011_10602_11077_11191_corrected_ow.npy\n",
      "/net/scratch_icecube4/user/glauch/DATA/\n",
      "For Detector Configuration: IC79 the total uptime is 26784000.0 s\n",
      "Read MC: /net/scratch_icecube4/user/glauch/DATA/IC79_6308_6850_corrected_ow.npy\n",
      "/net/scratch_icecube4/user/glauch/DATA/\n",
      "For Detector Configuration: IC59 the total uptime is 30079123.2 s\n",
      "Read MC: /net/scratch_icecube4/user/glauch/DATA/IC59_6471_6515_corrected_ow.npy\n",
      "nside as usual: 512\n",
      "Number of Events per Chosen Sample:\n",
      "[217033, 71103, 36851, 21442]\n",
      "Reading Source Catalog\n",
      "/net/scratch_icecube4/user/glauch/DATA/\n",
      "For Detector Configuration: IC86_11 the total uptime is 29556432.0 s\n",
      "Read MC: /net/scratch_icecube4/user/glauch/DATA/IC86_2011_10602_11077_11191_corrected_ow.npy\n",
      "EBinWidth 1384260 MC  length 1384260\n",
      "Using 5 Sources from Source Catalog for creation of Skymap\n",
      "Based on a flux of Gamma=2.13 there are [262, 84, 62, 41] Signal Events\n",
      "ADDFILE = \n",
      "Assume being on a CONDOR machine...\n",
      "Use the 5 strongest sources from the given Source Catalog\n",
      "Theta Positions of Simulated Events (deg):\n",
      "[[ 103.30872222  145.5725      106.6395       94.99508333  112.00027778]]\n",
      "Theta Positions of Simulated Events (deg):\n",
      "[array([ 1.80307735,  2.54071943,  1.86121039,  1.65797698,  1.95477361])]\n",
      "Phi Positions of Simulated Events (deg):\n",
      "[[  17.21066667  128.72879167   80.291375    252.77058333   83.67575   ]]\n",
      "------------------ For N:5 and MU:30.0 calc the source strength distribution ..... -------------------\n",
      "----------------------------------------\n",
      "[{'IC79': [7.945269791755373, 4.6829690896860452, 7.8084659625671007, 8.5275032356577416, 7.3804765325115227], 'IC86_11': [9.9353719872450696, 7.5457560846755598, 9.7741312048658422, 11.589832393175296, 8.8167236607180417], 'IC59': [5.1261668583670383, 4.1740555928672736, 5.179030208525174, 5.2117810425744313, 5.0716575674612718], 'IC86_12_13_14': [31.589812946843328, 22.41554010890939, 31.030261120759633, 35.387450072301213, 29.576935751186429]}]\n",
      "\n",
      " Current ID prefix: 0\n",
      "\n",
      "############################################################\n",
      "\n",
      "Class Object is going to be created for IC86_12_13_14\n",
      "\n",
      "------------------Current RAM Usage-----------------------------\n",
      "1557.99609375MB\n",
      "----------------------------------------------------------------\n",
      "\n",
      "############################################################\n",
      "\n",
      "NOTE: Stretching Value is NOT 1.0 any more, but: 1.0\n",
      "NOTE: Multi-Mu-Sources have been activated: False\n",
      "[[], []]\n",
      "Current run option: VarSig\n",
      "Set Milagro to be False\n",
      "CHOSE ZENITH BAND INSTEAD OF HEMISPHERE! [-1.0, 0.087155742747658138]\n",
      "NOTE: set MC sample, length=3425618\n",
      "NOTE: Mu might not be taken as poissonian. MuPrecise is set to: False\n",
      "set replace mode ...True\n",
      "PS rotation is ...True\n",
      "Creating signal Skymaps, NSource: [5] Mu: [30.0]\n",
      " RUN: 1            curMuSources\n",
      "[30.0]\n",
      "Generated source at Dec 13.3087222222 deg, RA 17.2106666667 deg with 37 events\n",
      "Generated source at Dec 55.5725 deg, RA 128.728791667 deg with 20 events\n",
      "Generated source at Dec 16.6395 deg, RA 80.291375 deg with 28 events\n",
      "Generated source at Dec 4.99508333333 deg, RA 252.770583333 deg with 31 events\n",
      "Generated source at Dec 22.0002777778 deg, RA 83.67575 deg with 29 events\n",
      "Sources with zero neutrinos: 0\n",
      "MAP-LIST-LEN: 145\n",
      "150 (150.0)\n",
      "nDif vorher: 112\n",
      "nDif nachher: 88\n",
      "Shuffling in azimuth\n",
      "Measured Sources: 5\n",
      "Signal Neutrinos: 145\n",
      "Astro Neutrinos: 233\n",
      "Atmospheric Neutrinos: 216800\n",
      "All: 217033\n",
      "\n",
      "Renormalization: 217033.0\n",
      "\n",
      "------------------Current RAM Usage-----------------------------\n",
      "1598.62109375MB\n",
      "----------------------------------------------------------------\n",
      "Angular Distribution saved to: /net/scratch_icecube4/user/kalaczynski/Analysis_stuff/Normed/No_plane/VarSig_lmax=1000/5src/Detector=1111/angle_0.txt\n",
      "Type...\n",
      "<type 'numpy.ndarray'>\n",
      "Theta Source Distribution saved to: /net/scratch_icecube4/user/kalaczynski/Analysis_stuff/Normed/No_plane/VarSig_lmax=1000/5src/Detector=1111/theta_sou_0.txt\n",
      "\n",
      "############################################################\n",
      "\n",
      "Class Object is going to be created for IC86_11\n",
      "\n",
      "------------------Current RAM Usage-----------------------------\n",
      "1598.62109375MB\n",
      "----------------------------------------------------------------\n",
      "\n",
      "############################################################\n",
      "\n",
      "NOTE: Stretching Value is NOT 1.0 any more, but: 1.0\n",
      "NOTE: Multi-Mu-Sources have been activated: False\n",
      "[[], []]\n",
      "Current run option: VarSig\n",
      "Set Milagro to be False\n",
      "CHOSE ZENITH BAND INSTEAD OF HEMISPHERE! [-1.0, 0.087155742747658138]\n",
      "NOTE: set MC sample, length=1384260\n",
      "NOTE: Mu might not be taken as poissonian. MuPrecise is set to: False\n",
      "set replace mode ...True\n",
      "PS rotation is ...True\n",
      "Creating signal Skymaps, NSource: [5] Mu: [9.618320610687023]\n",
      " RUN: 1            curMuSources\n",
      "[9.618320610687023]\n",
      "Generated source at Dec 13.3087222222 deg, RA 17.2106666667 deg with 3 events\n",
      "Generated source at Dec 55.5725 deg, RA 128.728791667 deg with 9 events\n",
      "Generated source at Dec 16.6395 deg, RA 80.291375 deg with 10 events\n",
      "Generated source at Dec 4.99508333333 deg, RA 252.770583333 deg with 8 events\n",
      "Generated source at Dec 22.0002777778 deg, RA 83.67575 deg with 10 events\n",
      "Sources with zero neutrinos: 0\n",
      "MAP-LIST-LEN: 40\n",
      "48 (48.092)\n",
      "nDif vorher: 36\n",
      "nDif nachher: 41\n",
      "Shuffling in azimuth\n",
      "Measured Sources: 5\n",
      "Signal Neutrinos: 40\n",
      "Astro Neutrinos: 81\n",
      "Atmospheric Neutrinos: 71022\n",
      "All: 71103\n",
      "\n",
      "Renormalization: 71103.0\n",
      "\n",
      "------------------Current RAM Usage-----------------------------\n",
      "1627.6328125MB\n",
      "----------------------------------------------------------------\n",
      "Angular Distribution saved to: /net/scratch_icecube4/user/kalaczynski/Analysis_stuff/Normed/No_plane/VarSig_lmax=1000/5src/Detector=1111/angle_0.txt\n",
      "Type...\n",
      "<type 'numpy.ndarray'>\n",
      "Theta Source Distribution saved to: /net/scratch_icecube4/user/kalaczynski/Analysis_stuff/Normed/No_plane/VarSig_lmax=1000/5src/Detector=1111/theta_sou_0.txt\n",
      "\n",
      "############################################################\n",
      "\n",
      "Class Object is going to be created for IC79\n",
      "\n",
      "------------------Current RAM Usage-----------------------------\n",
      "1627.63671875MB\n",
      "----------------------------------------------------------------\n",
      "\n",
      "############################################################\n",
      "\n",
      "NOTE: Stretching Value is NOT 1.0 any more, but: 1.0\n",
      "NOTE: Multi-Mu-Sources have been activated: False\n",
      "[[], []]\n",
      "Current run option: VarSig\n",
      "Set Milagro to be False\n",
      "CHOSE ZENITH BAND INSTEAD OF HEMISPHERE! [-1.0, 0.087155742747658138]\n",
      "NOTE: set MC sample, length=1072828\n",
      "NOTE: Mu might not be taken as poissonian. MuPrecise is set to: False\n",
      "set replace mode ...True\n",
      "PS rotation is ...True\n",
      "Creating signal Skymaps, NSource: [5] Mu: [7.099236641221374]\n",
      " RUN: 1            curMuSources\n",
      "[7.099236641221374]\n",
      "Generated source at Dec 13.3087222222 deg, RA 17.2106666667 deg with 10 events\n",
      "Generated source at Dec 55.5725 deg, RA 128.728791667 deg with 4 events\n",
      "Generated source at Dec 16.6395 deg, RA 80.291375 deg with 7 events\n",
      "Generated source at Dec 4.99508333333 deg, RA 252.770583333 deg with 10 events\n",
      "Generated source at Dec 22.0002777778 deg, RA 83.67575 deg with 8 events\n",
      "Sources with zero neutrinos: 0\n",
      "MAP-LIST-LEN: 39\n",
      "35 (35.496)\n",
      "nDif vorher: 27\n",
      "nDif nachher: 29\n",
      "Shuffling in azimuth\n",
      "Measured Sources: 5\n",
      "Signal Neutrinos: 39\n",
      "Astro Neutrinos: 68\n",
      "Atmospheric Neutrinos: 36783\n",
      "All: 36851\n",
      "\n",
      "Renormalization: 36851.0\n",
      "\n",
      "------------------Current RAM Usage-----------------------------\n",
      "1656.12109375MB\n",
      "----------------------------------------------------------------\n",
      "Angular Distribution saved to: /net/scratch_icecube4/user/kalaczynski/Analysis_stuff/Normed/No_plane/VarSig_lmax=1000/5src/Detector=1111/angle_0.txt\n",
      "Type...\n",
      "<type 'numpy.ndarray'>\n",
      "Theta Source Distribution saved to: /net/scratch_icecube4/user/kalaczynski/Analysis_stuff/Normed/No_plane/VarSig_lmax=1000/5src/Detector=1111/theta_sou_0.txt\n",
      "\n",
      "############################################################\n",
      "\n",
      "Class Object is going to be created for IC59\n",
      "\n",
      "------------------Current RAM Usage-----------------------------\n",
      "1656.12109375MB\n",
      "----------------------------------------------------------------\n",
      "\n",
      "############################################################\n",
      "\n",
      "NOTE: Stretching Value is NOT 1.0 any more, but: 1.0\n",
      "NOTE: Multi-Mu-Sources have been activated: False\n",
      "[[], []]\n",
      "Current run option: VarSig\n",
      "Set Milagro to be False\n",
      "CHOSE ZENITH BAND INSTEAD OF HEMISPHERE! [-1.0, 0.087155742747658138]\n",
      "NOTE: set MC sample, length=565856\n",
      "NOTE: Mu might not be taken as poissonian. MuPrecise is set to: False\n",
      "set replace mode ...True\n",
      "PS rotation is ...True\n",
      "Creating signal Skymaps, NSource: [5] Mu: [4.694656488549619]\n",
      " RUN: 1            curMuSources\n",
      "[4.694656488549619]\n",
      "Generated source at Dec 13.3087222222 deg, RA 17.2106666667 deg with 2 events\n",
      "Generated source at Dec 55.5725 deg, RA 128.728791667 deg with 9 events\n",
      "Generated source at Dec 16.6395 deg, RA 80.291375 deg with 3 events\n",
      "Generated source at Dec 4.99508333333 deg, RA 252.770583333 deg with 2 events\n",
      "Generated source at Dec 22.0002777778 deg, RA 83.67575 deg with 8 events\n",
      "Sources with zero neutrinos: 0\n",
      "MAP-LIST-LEN: 24\n",
      "23 (23.473)\n",
      "nDif vorher: 18\n",
      "nDif nachher: 16\n",
      "Shuffling in azimuth\n",
      "Measured Sources: 5\n",
      "Signal Neutrinos: 24\n",
      "Astro Neutrinos: 40\n",
      "Atmospheric Neutrinos: 21402\n",
      "All: 21442\n",
      "\n",
      "Renormalization: 21442.0\n",
      "\n",
      "------------------Current RAM Usage-----------------------------\n",
      "1684.12109375MB\n",
      "----------------------------------------------------------------\n",
      "Angular Distribution saved to: /net/scratch_icecube4/user/kalaczynski/Analysis_stuff/Normed/No_plane/VarSig_lmax=1000/5src/Detector=1111/angle_0.txt\n",
      "Type...\n",
      "<type 'numpy.ndarray'>\n",
      "Theta Source Distribution saved to: /net/scratch_icecube4/user/kalaczynski/Analysis_stuff/Normed/No_plane/VarSig_lmax=1000/5src/Detector=1111/theta_sou_0.txt\n",
      "Merge Maps...\n",
      "Maximum Value in the Array bigger zero?27828.0\n",
      "Calculate Cross Correlations for NVSS Sky Survey\n",
      "effCl data successfully saved to... /net/scratch_icecube4/user/kalaczynski/Analysis_stuff/Normed/No_plane/VarSig_lmax=1000/5src/Detector=1111/_effClAll.txt\n",
      "Alm data successfully saved to... /net/scratch_icecube4/user/kalaczynski/Analysis_stuff/Normed/No_plane/VarSig_lmax=1000/5src/Detector=1111/almAllAbs_0.txt\n",
      "Alm data successfully saved to... /net/scratch_icecube4/user/kalaczynski/Analysis_stuff/Normed/No_plane/VarSig_lmax=1000/5src/Detector=1111/almAllPhase_0.txt\n",
      "i is: 0\n"
     ]
    }
   ],
   "source": [
    "# DETECTOR=\"0001\"  # \"IC86_12_13_14\" ,\"IC86_11\", \"IC79\" \"IC59\"   | Binary System\n",
    "#                                                                    mu  #src\n",
    "%run createSmearedSkymap_multipleyears.py \"multi_mu_1\" 0 1 \"VarSig\" [30] [5] detector=\"1111\" gamma=2.13 catalog=\"NVSS\" useCatalogPos=5 useE=False useAlm=False UseGalPlane=False \n",
    "#Theta=[130.489164] Phi=[299.259131]\n",
    "#extended_source=2.\n",
    "#useCatalogPos=10\n",
    "#useweakestsource=10\n",
    "#useDiffBG=True\n"
   ]
  },
  {
   "cell_type": "markdown",
   "metadata": {},
   "source": [
    "# FITS FILES"
   ]
  },
  {
   "cell_type": "code",
   "execution_count": 30,
   "metadata": {
    "collapsed": false,
    "scrolled": true
   },
   "outputs": [],
   "source": [
    "#FITS files:\n",
    "filename=\"COM_PCCS_030_R2.04\"\n",
    "path=\"/net/scratch_icecube4/user/kalaczynski/Catalogs/COM_PCCS-Catalogs_vPR2/\"+str(filename)+\".fits\"\n",
    "hdulist = fits.open(path)\n",
    "#hdulist\n",
    "#fitsMap=H.read_map(path)\n",
    "#test=H.mrdfits(path)\n",
    "#print test[1]"
   ]
  },
  {
   "cell_type": "code",
   "execution_count": 4,
   "metadata": {
    "collapsed": false,
    "scrolled": false
   },
   "outputs": [],
   "source": [
    "print hdulist[1].data"
   ]
  },
  {
   "cell_type": "code",
   "execution_count": 18,
   "metadata": {
    "collapsed": false
   },
   "outputs": [],
   "source": [
    "H.mollview(test[1], coord=['G','E'], title='Histogram equalized Ecliptic', unit='mK', norm='hist', min=-1,max=1, xsize=2000)\n",
    "H.graticule()\n",
    "plt.show()"
   ]
  },
  {
   "cell_type": "code",
   "execution_count": 6,
   "metadata": {
    "collapsed": false
   },
   "outputs": [],
   "source": [
    "#print len(catalog_map)\n",
    "#print len(fitsMap)\n",
    "#print len(mergeGPU.map_delta)\n",
    "#print len(fitsMap)/len(catalog_map)\n",
    "#fitsAlm=[]\n",
    "#print path\n",
    "#fitsAlm=H.read_alm(path)\n",
    "#print len(fitsAlm)"
   ]
  },
  {
   "cell_type": "code",
   "execution_count": 7,
   "metadata": {
    "collapsed": false
   },
   "outputs": [],
   "source": [
    "H.gnomview(fitsMap, rot=[0,0.3], title='GnomView', unit='mK', format='%.2g')\n",
    "plt.show()"
   ]
  },
  {
   "cell_type": "code",
   "execution_count": 17,
   "metadata": {
    "collapsed": false,
    "scrolled": true
   },
   "outputs": [],
   "source": [
    "H.mollview(mergeGPU.map_delta, rot=[0,0.3], title='GnomView', unit='mK', format='%.2g')\n",
    "plt.show()"
   ]
  },
  {
   "cell_type": "markdown",
   "metadata": {},
   "source": [
    "# Plotting skymap:"
   ]
  },
  {
   "cell_type": "code",
   "execution_count": 43,
   "metadata": {
    "collapsed": false
   },
   "outputs": [
    {
     "name": "stdout",
     "output_type": "stream",
     "text": [
      "Sigma is 30.000000 arcmin (0.008727 rad) \n",
      "-> fwhm is 70.644601 arcmin\n",
      "Sigma is 0.000000 arcmin (0.000000 rad) \n",
      "-> fwhm is 0.000000 arcmin\n"
     ]
    }
   ],
   "source": [
    "nFigure=5\n",
    "Smoothing=True\n",
    "Galactic=False\n",
    "Catalog=False\n",
    "NewMap=False\n",
    "logz=True\n",
    "plot=newfig(5., 3.)\n",
    "Norm=None\n",
    "if logz: Norm='log'\n",
    "    \n",
    "    \n",
    "if NewMap==True:\n",
    "    usedMap=newMap\n",
    "else:\n",
    "    if Catalog==False:\n",
    "        usedMap=mergeGPU.map_delta\n",
    "    else:\n",
    "        usedMap=catalog_map\n",
    "\n",
    "#usedMap=fitsMap       \n",
    "#usedMap=modif    \n",
    "#usedMap=map_delta2\n",
    "\n",
    "if Smoothing:\n",
    "    smoothed_map = H.smoothing(usedMap, sigma=np.radians(0.5))\n",
    "else:\n",
    "    smoothed_map=usedMap\n",
    "if min(smoothed_map)<=0:\n",
    "    raiser=abs(min(smoothed_map))*2\n",
    "else:\n",
    "    raiser = 0.\n",
    "    \n",
    "for i in range(len(smoothed_map)):\n",
    "    smoothed_map[i] = float(smoothed_map[i])\n",
    "    if logz:\n",
    "        smoothed_map[i]=smoothed_map[i]+raiser\n",
    "       \n",
    "\n",
    "colormap=plt.get_cmap(\"Blues\")\n",
    "#colormap.set_under(\"white\")\n",
    "colormap.set_bad(\"white\")\n",
    "#col2=\"0.\"\n",
    "#col=\"0.\"\n",
    "res=800\n",
    "\n",
    "smoothed_map= np.ma.masked_array(smoothed_map)\n",
    "#smoothed_map.mask = np.log10(smoothed_map) < 18.1  #####BE careful..Value hardcoded\n",
    "smoothed_map.mask = smoothed_map == 0\n",
    "\n",
    "if Catalog:\n",
    "    plotTitle=r\"$\\log_{10}(\\frac{\\phi}{\\phi_{\\mathrm{Total}}} \\cdot A_{\\mathrm{eff}})$\"\n",
    "    #plotTitle=r\"$\\log_{10}(\\frac{\\mathrm{Flux}}{\\mathrm{Total Flux}} \\cdot A_{\\mathrm{eff}})$\"\n",
    "else:\n",
    "    plotTitle=r\"$\\log_{10}(N_{\\mathsf{Events}})$\"\n",
    "\n",
    "if Galactic==False:\n",
    "    skymap=SkymapPlot.SkyMap.SkyMap(fig=plot)\n",
    "    #smoothed_map=usedMap\n",
    "    skymap.plot_map(np.log10(smoothed_map),\n",
    "                    cmap=colormap, npix=res, \n",
    "                    colorbar=dict(title=plotTitle))\n",
    "    if (Catalog!=True) and len(mergeGPU.phi_sou)>0:\n",
    "        skymap.plot_circle(mergeGPU.phi_sou,mergeGPU.theta_sou)\n",
    "    #skymap.fig.savefig(SAVE_DIRECTORY+\"BGD_smoothed_equatorial.png\", dpi=300, bbox_inches=\"tight\")\n",
    "else:\n",
    "    skymap=SkymapPlot.SkyMap.SkyMapGalactic()\n",
    "    skymap.add_plane()\n",
    "    #smoothed_map=usedMap\n",
    "    skymap.plot_map(np.log10(smoothed_map),\n",
    "                    cmap=colormap, npix=res, \n",
    "                    colorbar=dict(title=plotTitle))\n",
    "    if (Catalog!=True) and len(mergeGPU.phi_sou)>0:\n",
    "        skymap.plot_circle(mergeGPU.phi_sou,mergeGPU.theta_sou)\n",
    "    #skymap.fig.savefig(SAVE_DIRECTORY+\"BGD_smoothed_galactic.png\", dpi=300, bbox_inches=\"tight\")\n",
    "plt.show()"
   ]
  },
  {
   "cell_type": "markdown",
   "metadata": {},
   "source": [
    "# Getting alms from the files:"
   ]
  },
  {
   "cell_type": "code",
   "execution_count": 28,
   "metadata": {
    "collapsed": true
   },
   "outputs": [],
   "source": [
    "l_max=1000\n",
    "BGD_DIR=\"/net/scratch_icecube4/user/kalaczynski/Analysis_stuff/Normed/With_plane/VarSig_lmax=\"+str(l_max)+\"/0src/Detector=1111\"  "
   ]
  },
  {
   "cell_type": "code",
   "execution_count": null,
   "metadata": {
    "collapsed": false
   },
   "outputs": [],
   "source": [
    "# BGD\n",
    "\n",
    "size=int((1.+(l_max))*((2.+(l_max))/2.)) #size of the alm array\n",
    "no_files=1000 #max is 1000 so far\n",
    "temp1=[]\n",
    "temp2=[]\n",
    "Alm_BGD=[]\n",
    "Alm_BGD_avg=[0]*size\n",
    "  \n",
    "#BGD files loop:\n",
    "for i in range(no_files):\n",
    "    temp1=np.loadtxt(BGD_DIR+\"/almAllAbs_\"+str(i)+\".txt\")\n",
    "    temp2=np.loadtxt(BGD_DIR+\"/almAllPhase_\"+str(i)+\".txt\")\n",
    "    Alm_BGD.append(temp1*np.cos(temp2)+temp1*np.sin(temp2)*1j)\n",
    "    Alm_BGD_avg=Alm_BGD_avg+((temp1*np.cos(temp2)+temp1*np.sin(temp2)*1j))/no_files\n",
    "\n",
    "# save BGD_avg as files:\n",
    "np.savetxt(BGD_DIR+\"/Alm_BGD_avg_re.txt\", np.real(Alm_BGD_avg))\n",
    "np.savetxt(BGD_DIR+\"/Alm_BGD_avg_im.txt\", np.imag(Alm_BGD_avg))"
   ]
  },
  {
   "cell_type": "code",
   "execution_count": 46,
   "metadata": {
    "collapsed": true
   },
   "outputs": [],
   "source": [
    "#single readout:\n",
    "temp1=np.loadtxt(BGD_DIR+\"/almAllAbs_0.txt\")\n",
    "temp2=np.loadtxt(BGD_DIR+\"/almAllPhase_0.txt\")\n",
    "Alm_BGD=temp1*np.cos(temp2)+temp1*np.sin(temp2)*1j"
   ]
  },
  {
   "cell_type": "code",
   "execution_count": 23,
   "metadata": {
    "collapsed": false
   },
   "outputs": [],
   "source": [
    "# save catalog alms:\n",
    "Alm_cat=H.anafast(catalog_map, lmax=l_max, alm=\"True\")[1]\n",
    "np.savetxt(BGD_DIR+\"/CatAlm_re.txt\", np.real(Alm_cat))\n",
    "np.savetxt(BGD_DIR+\"/CatAlm_im.txt\", np.imag(Alm_cat))"
   ]
  },
  {
   "cell_type": "code",
   "execution_count": 18,
   "metadata": {
    "collapsed": false
   },
   "outputs": [],
   "source": [
    "# read catalog files:\n",
    "re_part=np.loadtxt(BGD_DIR+\"/CatAlm_re.txt\")\n",
    "im_part=np.loadtxt(BGD_DIR+\"/CatAlm_im.txt\")\n",
    "Alm_cat=re_part+im_part*1j"
   ]
  },
  {
   "cell_type": "code",
   "execution_count": 19,
   "metadata": {
    "collapsed": false
   },
   "outputs": [],
   "source": [
    "# read BGD_avg files:\n",
    "re_part=np.loadtxt(BGD_DIR+\"/Alm_BGD_avg_re.txt\")\n",
    "im_part=np.loadtxt(BGD_DIR+\"/Alm_BGD_avg_im.txt\")\n",
    "Alm_BGD_avg=re_part+im_part*1j"
   ]
  },
  {
   "cell_type": "code",
   "execution_count": 20,
   "metadata": {
    "collapsed": false,
    "scrolled": true
   },
   "outputs": [],
   "source": [
    "#read signal files:\n",
    "no_srcs=5\n",
    "SIG_DIR=\"/net/scratch_icecube4/user/kalaczynski/Analysis_stuff/Normed/No_plane/VarSig_lmax=\"+str(l_max)+\"/\"+str(no_srcs)+\"src/Detector=1111\"\n",
    "Alm_VarSig=[]\n",
    "\n",
    "abs_sig=np.loadtxt(SIG_DIR+\"/almAllAbs_0.txt\")\n",
    "phase_sig=np.loadtxt(SIG_DIR+\"/almAllPhase_0.txt\")\n",
    "\n",
    "Alm_VarSig=abs_sig*np.cos(phase_sig)+abs_sig*np.sin(phase_sig)*1j\n"
   ]
  },
  {
   "cell_type": "markdown",
   "metadata": {},
   "source": [
    "# Alm plotting"
   ]
  },
  {
   "cell_type": "code",
   "execution_count": 6,
   "metadata": {
    "collapsed": false
   },
   "outputs": [],
   "source": [
    "plt.xlabel(\"Im($a^{l}_{m}$)$\\cdot 10^{6}$\", fontsize=34)\n",
    "plt.ylabel(\"Re($a^{l}_{m}$)$\\cdot 10^{6}$\", fontsize=34)\n",
    "#plt.scatter(np.imag(Alm_VarSig*10**3), np.real(Alm_VarSig*10**3), label=\"VarSig, $l_{\\mathsf{max}}=$\"+str(l_max), color='g')\n",
    "plt.scatter(np.imag(Alm_BGD[0]*10**6), np.real(Alm_BGD[0]*10**6), label=\"BGD without $m=0$, $l_{\\mathsf{max}}=$\"+str(l_max), color='r')\n",
    "plt.scatter(np.imag(Alm_BGD_no_m0[0]*10**6), np.real(Alm_BGD_no_m0[0]*10**6), label=\"BGD without $m=0$, $l_{\\mathsf{max}}=$\"+str(l_max), color='g')\n",
    "\n",
    "plt.legend()\n",
    "plt.gcf().set_size_inches(15, 11)\n",
    "plt.savefig(SAVE_DIRECTORY+\"alm_vs_blm_test.png\", dpi=300)\n",
    "plt.show()\n"
   ]
  },
  {
   "cell_type": "code",
   "execution_count": 42,
   "metadata": {
    "collapsed": false
   },
   "outputs": [],
   "source": [
    "# Plotting alm vs blm:\n",
    "plt.xlabel(\"Re($a^{l}_{m}$)$\\cdot 10^{6}$\", fontsize=34)\n",
    "plt.ylabel(\"Re($b^{l}_{m}$)$\\cdot 10^{6}$\", fontsize=34)\n",
    "\n",
    "plt.scatter(np.real(Alm_cat*10**6), np.real(Alm_VarSig6*10**6), label=\"VarSig, $l_{\\mathsf{max}}=$\"+str(l_max), color='r')\n",
    "plt.scatter(np.real(Alm_cat*10**6), np.real(Alm_VarSig4*10**6), label=\"VarSig, $l_{\\mathsf{max}}=$\"+str(l_max), color='b')\n",
    "plt.scatter(np.real(Alm_cat*10**6), np.real(Alm_VarSig4_noBG*10**6), label=\"VarSig, $l_{\\mathsf{max}}=$\"+str(l_max), color='g')\n",
    "#plt.scatter(np.real(Alm_cat*10**6), np.real(Alm_cat*10**6), label=\"Catalogue, $l_{\\mathsf{max}}=$\"+str(l_max), color='magenta')\n",
    "\n",
    "\n",
    "plt.legend()\n",
    "plt.gcf().set_size_inches(15, 11)\n",
    "#plt.savefig(SAVE_DIRECTORY+\"almVsBlmTestImag.png\", dpi=300)\n",
    "plt.show()\n"
   ]
  },
  {
   "cell_type": "code",
   "execution_count": 169,
   "metadata": {
    "collapsed": false
   },
   "outputs": [],
   "source": [
    "#histogram with Gaussian fit:\n",
    "num_bins = 30\n",
    "plt.xlabel(\"Re($a^{l}_{m}$)$\\cdot 10^{5}$\", fontsize=34)\n",
    "plt.ylabel(\"Amplitude [a.u.]\", fontsize=34)\n",
    "\n",
    "\n",
    "x=np.abs(Alm_VarSig3)*100000\n",
    "mu = np.mean(x) # mean\n",
    "sigma = np.std(x) # standard deviation \n",
    "n, bins, patches = plt.hist(x,num_bins, normed = True, label=\"BGD, $l_{\\mathsf{max}}=$\"+str(l_max))\n",
    "y = mlab.normpdf(bins, mu, sigma)\n",
    "plt.plot(bins, y, 'r--', label=\"Gauss fit\")\n",
    "plt.legend()\n",
    "plt.gcf().set_size_inches(15, 11)\n",
    "plt.savefig(SAVE_DIRECTORY+\"histo_BGD_Re.png\", dpi=300)\n",
    "plt.show()"
   ]
  },
  {
   "cell_type": "markdown",
   "metadata": {},
   "source": [
    "# Cross-correlation:"
   ]
  },
  {
   "cell_type": "code",
   "execution_count": 24,
   "metadata": {
    "collapsed": false
   },
   "outputs": [],
   "source": [
    "selfCat=H.alm2cl(Alm_cat, lmax=1000)\n",
    "selfBGD=H.alm2cl(Alm_BGD_avg, lmax=1000)\n",
    "CatXBGD=H.alm2cl(Alm_cat, Alm_BGD_avg, lmax=1000)\n",
    "CatXVarSig=H.alm2cl(Alm_cat, Alm_VarSig, lmax=1000)\n",
    "\n",
    "#selfCat2=H.anafast(catalog_map, lmax=1000)\n",
    "#CatXSth=H.anafast(catalog_map,mergeGPU.map_delta, lmax=1000)\n",
    "#SthXSth=H.anafast(mergeGPU.map_delta, lmax=1000)"
   ]
  },
  {
   "cell_type": "markdown",
   "metadata": {
    "collapsed": false
   },
   "source": [
    "# Plotting $C_l$"
   ]
  },
  {
   "cell_type": "code",
   "execution_count": 27,
   "metadata": {
    "collapsed": false
   },
   "outputs": [],
   "source": [
    "plt.xlabel(\"$l$\", fontsize=34)\n",
    "plt.ylabel(\"$C_{l}$\", fontsize=34)\n",
    "plt.xlim([0, 1000])\n",
    "plt.ylim([10**(-9), 10**(0)])\n",
    "#plt.plot(range(len(crossCl)),abs(np.real(crossCl)), label=\"crossCl real PureSig x Bgd\")\n",
    "#plt.plot(range(len(crossCl)),abs(np.imag(crossCl)), label=\"crossCl imag PureSig x Bgd\")\n",
    "#plt.plot(range(len(crossCl)),abscrossCl, label=\"crossCl abs PureSig x Bgd\")\n",
    "#plt.plot(range(len(crossCl_avg)),abs(np.real(crossCl_avg)), label=\"crossCl real VarSig x Bgd\")\n",
    "#plt.plot(range(len(crossCl_avg)),abs(np.imag(crossCl_avg)), label=\"crossCl imag VarSig x Bgd\")\n",
    "#plt.plot(range(len(abscrossCl_avg)),abs(np.imag(abscrossCl_avg)), label=\"crossCl abs VarSig x Bgd\")\n",
    "#plt.plot(range(len(crossCl)),abs(np.real(crossCl_avgBGD)), label=\"crossCl real PureSig x BggAavg\")\n",
    "#plt.plot(range(len(crossCl)),abs(np.imag(crossCl_avgBGD)), label=\"crossCl imag PureSig x BgdAvg\")\n",
    "\n",
    "#plt.plot(range(len(abscrossCl4)),abscrossCl4, label=\"abs, $\\mu=100$\", color = 'r')\n",
    "#plt.plot(range(len(abscrossCl4)),np.abs(crossCl4), label=\"abs whole, $\\mu=100$\", color = 'r')\n",
    "#plt.plot(range(len(crossCl4)),abs(np.real(crossCl4)), label=\"crossCl real VarSig x Map\", color = 'r')\n",
    "#plt.plot(range(len(crossCl4)),abs(np.imag(crossCl4)), label=\"crossCl imag VarSig x Map\", color = 'r')\n",
    "\n",
    "#plt.plot(range(len(abscrossCl4b)),abscrossCl4b, label=\"abs, $\\mu=1000$\", color = 'g')\n",
    "#plt.plot(range(len(abscrossCl4b)),np.abs(crossCl4b), label=\"abs whole, $\\mu=1000$\", color = 'g')\n",
    "#plt.plot(range(len(abscrossCl4b)),np.real(crossCl4b), label=\"real VarSig x Map\", color = 'g')\n",
    "#plt.plot(range(len(abscrossCl4b)),np.imag(crossCl4b), label=\"imag crossCl b VarSig x Map\", color = 'g')\n",
    "\n",
    "#plt.plot(range(len(abscrossCl4c)),abscrossCl4c, label=\"abs , $\\mu=100000$\", color = 'b')\n",
    "#plt.plot(range(len(abscrossCl4c)),np.abs(crossCl4c), label=\"abs whole, $\\mu=100000$\", color = 'b')\n",
    "#plt.plot(range(len(abscrossCl4c)),np.real(crossCl4c), label=\"real crossCl c VarSig x Map\", color = 'b')\n",
    "#plt.plot(range(len(abscrossCl4c)),np.imag(crossCl4c), label=\"imag crossCl c VarSig x Map\", color = 'b')\n",
    "\n",
    "#plt.plot(range(len(abscrossCl4cOff)),abscrossCl4cOff, label=\"abs , $\\mu=100000$ off\", color = 'r')\n",
    "#plt.plot(range(len(abscrossCl4cOff)),np.abs(crossCl4cOff), label=\"abs whole, $\\mu=100000$ off\", color = 'r')\n",
    "#plt.plot(range(len(abscrossCl4cOff)),np.real(crossCl4cOff), label=\"real crossCl c VarSig x Map\", color = 'b')\n",
    "#plt.plot(range(len(abscrossCl4cOff)),np.imag(crossCl4cOff), label=\"imag crossCl c VarSig x Map\", color = 'b')\n",
    "\n",
    "\n",
    "#abscrossCl4d = [x /(.046327/.00816449) for x in abscrossCl4d]\n",
    "#plt.plot(range(len(abscrossCl4d)),abscrossCl4d, label=\"10 strongest abs, $\\mu=10000$\", color = 'magenta')\n",
    "#plt.plot(range(len(abscrossCl4d)),np.abs(crossCl4d), label=\"abs whole 10 strongest, $\\mu=10000$\", color = 'magenta')\n",
    "#plt.plot(range(len(abscrossCl4d)),np.real(crossCl4d), label=\"real crossCl d VarSig x Map\", color = 'magenta')\n",
    "#plt.plot(range(len(abscrossCl4d)),np.imag(crossCl4d), label=\"imag crossCl d VarSig x Map\", color = 'magenta')\n",
    "\n",
    "#plt.plot(range(len(abscrossCl4d_noBG)),abscrossCl4d_noBG, label=\"10 strongest abs no BGD, $\\mu=10000$\", color = 'orange')\n",
    "#plt.plot(range(len(abscrossCl4d_noBG)),np.abs(crossCl4d_noBG), label=\"abs whole 10 strongest no BGD, $\\mu=10000$\", color = 'orange')\n",
    "#plt.plot(range(len(abscrossCl4d_noBG)),np.real(crossCl4d_noBG), label=\"real 10 strongest no BGD\", color = 'orange')\n",
    "#plt.plot(range(len(abscrossCl4d_noBG)),np.imag(crossCl4d_noBG), label=\"imag 10 strongest no BGD\", color = 'orange')\n",
    "\n",
    "#plt.plot(range(len(abscrossCl4e)),abscrossCl4e, label=\"10 weakest abs, $\\mu=10000$\", color = 'cyan')\n",
    "#plt.plot(range(len(abscrossCl4e)),np.abs(crossCl4e), label=\"abs whole 10 weakest, $\\mu=10000$\", color = 'cyan')\n",
    "#plt.plot(range(len(abscrossCl4e)),np.real(crossCl4e), label=\"real crossCl e VarSig x Map\", color = 'cyan')\n",
    "#plt.plot(range(len(abscrossCl4e)),np.imag(crossCl4e), label=\"imag crossCl e VarSig x Map\", color = 'cyan')\n",
    "\n",
    "#plt.plot(range(len(abscrossCl4f)),abscrossCl4f, label=\"100 strongest abs, $\\mu=100$\", color = 'brown')\n",
    "#plt.plot(range(len(abscrossCl4f)),np.abs(crossCl4f), label=\"abs whole 100 strongest , $\\mu=100$\", color = 'brown')\n",
    "#plt.plot(range(len(abscrossCl4f)),np.real(crossCl4f), label=\"real 100 strongest , $\\mu=100$\", color = 'cyan')\n",
    "#plt.plot(range(len(abscrossCl4f)),np.imag(crossCl4f), label=\"imag 100 strongest , $\\mu=100$\", color = 'cyan')\n",
    "\n",
    "\n",
    "#plt.plot(range(len(crossCl6)),abscrossCl6, label=\"crossCl abs PureSig x Map\")\n",
    "#plt.plot(range(len(selfPure)),selfPure, label=\"crossCl PureSig x PureSig\")\n",
    "#plt.plot(range(len(selfVarSig)),selfVarSig, label=\"VarSig x VarSig, $\\mu=100$\", color = 'black')\n",
    "#plt.plot(range(len(selfCat)),selfCat, label=\"Cat x Cat\", color = 'black')\n",
    "#plt.plot(range(len(selfCat2)),selfCat2, label=\"Cat2 x Cat2\", color = 'black')\n",
    "#plt.plot(range(len(BGDxCat)),BGDxCat, label=\"BGD x Cat2\", color = 'r')\n",
    "#plt.plot(range(len(VarSigxCat)),VarSigxCat, label=\"BGD x Cat2\", color = 'g')\n",
    "#plt.scatter(range(len(test)),test, label=\"Cat x Cat\", color = 'black', s=1)\n",
    "plt.scatter(range(len(selfCat)),selfCat, label=\"Cat x Cat\", color = 'black', s=10)\n",
    "plt.scatter(range(len(CatXBGD)),CatXBGD, label=\"Cat x BGD_avg\", color = 'red', s=10)\n",
    "plt.scatter(range(len(selfBGD)),selfBGD, label=\"BGD_avg x BGD_avg\", color = 'blue', s=10)\n",
    "plt.scatter(range(len(CatXVarSig)),CatXVarSig, label=\"Cat x VarSig\", color = 'green', s=10)\n",
    "\n",
    "#plt.scatter(range(len(test2)),test2, label=\"Cat x VarSigExtended, $\\mu=100$\", color = 'r', s=10)\n",
    "#plt.scatter(range(len(test3)),test3, label=\"VarSigExtended x VarSigExtended, $\\mu=100$\", color = 'b', s=10)\n",
    "#plt.plot(range(len(selfBGD_avg)),selfBGD_avg, label=\"BGD x BGD\", color = 'black')\n",
    "#plt.plot(range(len(selfPure)),selfBGD2, label=\"crossCl BGD x BGD avg\", color = 'brown')\n",
    "#plt.plot(range(len(crossCl7)),abs(np.real(crossCl7)), label=\"crossCl real PureSigMu15 x Map\")\n",
    "#plt.plot(range(len(crossCl7)),abs(np.imag(crossCl7)), label=\"crossCl imag PureSigMu15 x Map\")\n",
    "#plt.plot(range(len(crossCl7)),abscrossCl7, label=\"crossCl abs PureSigMu15 x Map\")\n",
    "plt.yscale('log', basey = 10)\n",
    "#plt.plot(range(len(crossCl3)),np.log10(np.imag(crossCl3)), label=\"crossCl3 imag\")\n",
    "#plt.plot(range(len(crossCl3)),np.log10(np.real(crossCl3)), label=\"crossCl3 real\")\n",
    "#plt.plot(range(l_max+1),np.imag(crossCl2)-np.imag(crossCl), label=\"crossCl2 imag\")\n",
    "plt.legend()\n",
    "plt.gcf().set_size_inches(15, 11)\n",
    "#plt.savefig(SAVE_DIRECTORY+\"Cl_CatxBGD_with_plane.png\", dpi=300)\n",
    "plt.show()"
   ]
  },
  {
   "cell_type": "code",
   "execution_count": 60,
   "metadata": {
    "collapsed": false
   },
   "outputs": [
    {
     "name": "stdout",
     "output_type": "stream",
     "text": [
      "1571.82982341\n",
      "1535\n"
     ]
    }
   ],
   "source": [
    "# max reasonable l:\n",
    "test=H.nside2resol(512)\n",
    "print 180/np.degrees(test)\n",
    "print 3*512-1"
   ]
  },
  {
   "cell_type": "code",
   "execution_count": 23,
   "metadata": {
    "collapsed": false
   },
   "outputs": [
    {
     "name": "stdout",
     "output_type": "stream",
     "text": [
      "1.28414757711e-12\n",
      "1.59108269726e-05\n",
      "6.12877026452e-06\n"
     ]
    }
   ],
   "source": [
    "print min(abs(CatXSth))\n",
    "print SthXSth[3]\n",
    "print selfCat[2]"
   ]
  },
  {
   "cell_type": "code",
   "execution_count": 29,
   "metadata": {
    "collapsed": false
   },
   "outputs": [
    {
     "name": "stdout",
     "output_type": "stream",
     "text": [
      "Sigma is 30.000000 arcmin (0.008727 rad) \n",
      "-> fwhm is 70.644601 arcmin\n",
      "Sigma is 0.000000 arcmin (0.000000 rad) \n",
      "-> fwhm is 0.000000 arcmin\n",
      "0.0 180.0 -180.0 180.0\n",
      "The interval between parallels is 30 deg -0.00'.\n",
      "The interval between meridians is 60 deg -0.00'.\n"
     ]
    }
   ],
   "source": [
    "#atmGPU[id].plotLastSkymap(title=SIGNAL+\", \"+SMEARING_METHOD, nFigure=1, logz=False)\n",
    "nFigure=7\n",
    "title=SIGNAL+\", \"+SMEARING_METHOD\n",
    "\n",
    "grid=True\n",
    "logz=True\n",
    "\n",
    "plotControl(nFigure)\n",
    "Norm=None\n",
    "if logz: Norm='log'\n",
    "\n",
    "smoothed_map = H.smoothing(catalog_map, sigma=np.radians(0.5))\n",
    "if min(smoothed_map)<=0:\n",
    "    raiser=abs(min(smoothed_map))*2\n",
    "else:\n",
    "    raiser = 0.\n",
    "    \n",
    "for i in range(len(smoothed_map)):\n",
    "    smoothed_map[i] = float(smoothed_map[i])\n",
    "    if logz:\n",
    "        smoothed_map[i]=smoothed_map[i]+raiser #does not affect effCl, only overall rise\n",
    "\n",
    "colormap=plt.get_cmap(\"Blues\")\n",
    "colormap.set_under(\"1\")\n",
    "col2=\"0.\"\n",
    "col=\"0.\"\n",
    "res=800\n",
    "\n",
    "H.mollview(smoothed_map, cmap=colormap, title=\"\", fig=nFigure, xsize=res, norm=Norm) #H.smoothing(, sigma=np.radians(0.5)\n",
    "H.graticule(dpar=30,dmer=60)\n",
    "\n",
    "\n",
    "H.projplot(zen2dec(mergeGPU.theta_sou), mergeGPU.phi_sou, color=\"orange\", alpha=0.3, marker=\"o\", ms=50., mew=2., mec=\"orange\", lw=0.)\n",
    "\n",
    "if grid:\n",
    "    \n",
    "    H.projtext(58.0, -8.0, \"$60^{\\circ}$\",lonlat=True, color=col2)\n",
    "    H.projtext(118.0, -8.0, \"$120^{\\circ}$\",lonlat=True, color=col2)\n",
    "    H.projtext(178.0, -8.0,\"$180^{\\circ}$\",lonlat=True, color=col2)\n",
    "    \n",
    "    H.projtext(-2.0, -8.0, \"$0^{\\circ}$\",lonlat=True, color=col2)\n",
    "    H.projtext(-62.0, -8.0, \"$300^{\\circ}$\",lonlat=True, color=col2)\n",
    "    H.projtext(-122.0, -8.0, \"$240^{\\circ}$\",lonlat=True, color=col2)\n",
    "\n",
    "    H.projtext(-2.0, 22.0, \"$30^{\\circ}$\",lonlat=True, color=col)\n",
    "    H.projtext(-2.0, 52.0, \"$60^{\\circ}$\",lonlat=True, color=col)\n",
    "    H.projtext(-2.0, 76.0, \"$90^{\\circ}$\",lonlat=True, color=col)\n",
    "\n",
    "    H.projtext(-2.0, -28.0, \"$-30^{\\circ}$\",lonlat=True, color=col)\n",
    "    H.projtext(-2.0, -58.0, \"$-60^{\\circ}$\",lonlat=True, color=col)\n",
    "    H.projtext(-2.0, -82.0, \"$-90^{\\circ}$\",lonlat=True, color=col)"
   ]
  },
  {
   "cell_type": "code",
   "execution_count": 30,
   "metadata": {
    "collapsed": false
   },
   "outputs": [],
   "source": [
    "plt.show()"
   ]
  },
  {
   "cell_type": "markdown",
   "metadata": {},
   "source": [
    "# Checking energy & zenith"
   ]
  },
  {
   "cell_type": "code",
   "execution_count": 37,
   "metadata": {
    "collapsed": false
   },
   "outputs": [],
   "source": [
    "id=2"
   ]
  },
  {
   "cell_type": "code",
   "execution_count": 2,
   "metadata": {
    "collapsed": false
   },
   "outputs": [
    {
     "ename": "TypeError",
     "evalue": "list indices must be integers, not builtin_function_or_method",
     "output_type": "error",
     "traceback": [
      "\u001b[1;31m---------------------------------------------------------------------------\u001b[0m",
      "\u001b[1;31mTypeError\u001b[0m                                 Traceback (most recent call last)",
      "\u001b[1;32m<ipython-input-2-24cbcbcfec2a>\u001b[0m in \u001b[0;36m<module>\u001b[1;34m()\u001b[0m\n\u001b[0;32m      5\u001b[0m \u001b[1;33m\u001b[0m\u001b[0m\n\u001b[0;32m      6\u001b[0m \u001b[1;31m#.sample_astro[\"dec\"]\u001b[0m\u001b[1;33m\u001b[0m\u001b[1;33m\u001b[0m\u001b[0m\n\u001b[1;32m----> 7\u001b[1;33m \u001b[0mn\u001b[0m\u001b[1;33m,\u001b[0m \u001b[0mbins\u001b[0m \u001b[1;33m=\u001b[0m \u001b[0mnp\u001b[0m\u001b[1;33m.\u001b[0m\u001b[0mhistogram\u001b[0m\u001b[1;33m(\u001b[0m\u001b[0mnp\u001b[0m\u001b[1;33m.\u001b[0m\u001b[0mcos\u001b[0m\u001b[1;33m(\u001b[0m\u001b[0matmGPU\u001b[0m\u001b[1;33m[\u001b[0m\u001b[0mid\u001b[0m\u001b[1;33m]\u001b[0m\u001b[1;33m.\u001b[0m\u001b[0mranTheta\u001b[0m\u001b[1;33m[\u001b[0m\u001b[1;33m:\u001b[0m\u001b[1;33m]\u001b[0m\u001b[1;33m)\u001b[0m\u001b[1;33m,\u001b[0m \u001b[0mbins\u001b[0m\u001b[1;33m=\u001b[0m\u001b[1;36m80\u001b[0m\u001b[1;33m,\u001b[0m \u001b[0mdensity\u001b[0m\u001b[1;33m=\u001b[0m\u001b[0mTrue\u001b[0m\u001b[1;33m)\u001b[0m \u001b[1;31m#theta values of events in map\u001b[0m\u001b[1;33m\u001b[0m\u001b[0m\n\u001b[0m\u001b[0;32m      8\u001b[0m \u001b[0mn\u001b[0m \u001b[1;33m=\u001b[0m \u001b[0mnormHist\u001b[0m\u001b[1;33m(\u001b[0m\u001b[0mn\u001b[0m\u001b[1;33m,\u001b[0m \u001b[1;36m0.95\u001b[0m\u001b[1;33m)\u001b[0m\u001b[1;33m\u001b[0m\u001b[0m\n\u001b[0;32m      9\u001b[0m \u001b[0mplt\u001b[0m\u001b[1;33m.\u001b[0m\u001b[0mplot\u001b[0m\u001b[1;33m(\u001b[0m\u001b[0msetNewEdges\u001b[0m\u001b[1;33m(\u001b[0m\u001b[0mbins\u001b[0m\u001b[1;33m)\u001b[0m\u001b[1;33m,\u001b[0m \u001b[0mn\u001b[0m\u001b[1;33m,\u001b[0m \u001b[0mdrawstyle\u001b[0m\u001b[1;33m=\u001b[0m\u001b[1;34m\"steps-mid\"\u001b[0m\u001b[1;33m,\u001b[0m \u001b[0mlabel\u001b[0m\u001b[1;33m=\u001b[0m\u001b[1;34m\"ran theta all\"\u001b[0m\u001b[1;33m,\u001b[0m \u001b[0mcolor\u001b[0m\u001b[1;33m=\u001b[0m\u001b[1;34m\"green\"\u001b[0m\u001b[1;33m)\u001b[0m\u001b[1;33m\u001b[0m\u001b[0m\n",
      "\u001b[1;31mTypeError\u001b[0m: list indices must be integers, not builtin_function_or_method"
     ]
    }
   ],
   "source": [
    "plt.figure(3)\n",
    "#n, bins = np.histogram(np.cos(dec2zen(atmGPU[id].sample_atm[\"dec\"])), bins=80, density=True) #theta values of events in map\n",
    "#n = normHist(n, 0.95)\n",
    "#plt.plot(setNewEdges(bins), n, drawstyle=\"steps-mid\", label=\"cos(sampleTheta) atm\")\n",
    "\n",
    "#.sample_astro[\"dec\"]\n",
    "n, bins = np.histogram(np.cos(atmGPU[id].ranTheta[:]), bins=80, density=True) #theta values of events in map\n",
    "n = normHist(n, 0.95)\n",
    "plt.plot(setNewEdges(bins), n, drawstyle=\"steps-mid\", label=\"ran theta all\", color=\"green\")\n",
    "plt.legend(loc=2)\n",
    "plt.show()"
   ]
  },
  {
   "cell_type": "code",
   "execution_count": 12,
   "metadata": {
    "collapsed": false
   },
   "outputs": [],
   "source": [
    "plt.figure(4)\n",
    "\n",
    "n, bins = np.histogram(atmGPU[id].ranPhi[:], bins=80, density=True) #theta values of events in map\n",
    "n = normHist(n, 0.95)\n",
    "plt.plot(setNewEdges(bins), n, drawstyle=\"steps-mid\", label=\"ran phi all\", color=\"red\")\n",
    "plt.legend(loc=2)\n",
    "plt.show()"
   ]
  },
  {
   "cell_type": "code",
   "execution_count": 13,
   "metadata": {
    "collapsed": false
   },
   "outputs": [],
   "source": [
    "nmc, binsmc = np.histogram(np.cos(np.array(dec2zen(atmGPU[id].mc_sample_full[\"dec\"]))), bins=100, weights=atmGPU[id].mc_sample_full[\"conv\"], density=True) #theta values of mc atm\n",
    "nmc = normHist(nmc, 0.95)\n",
    "plt.plot(setNewEdges(binsmc), nmc, drawstyle=\"steps-mid\", label=\"cos(fullTheta) atm\")\n",
    "\n",
    "nmc, binsmc = np.histogram(np.cos(np.array(dec2zen(atmGPU[id].mc_sample_full[\"dec\"]))), bins=100, weights=atmGPU[id].mc_sample_full[\"astro\"], density=True) #theta values of mc atm\n",
    "nmc = normHist(nmc, 0.95)\n",
    "plt.plot(setNewEdges(binsmc), nmc, drawstyle=\"steps-mid\", label=\"cos(fullTheta) astro\")\n",
    "\n",
    "plt.legend(loc=\"lower left\", fontsize = 'x-small')\n",
    "plt.show()"
   ]
  },
  {
   "cell_type": "code",
   "execution_count": 49,
   "metadata": {
    "collapsed": false
   },
   "outputs": [
    {
     "name": "stdout",
     "output_type": "stream",
     "text": [
      "258\n"
     ]
    }
   ],
   "source": [
    "print len(atmGPU[id].sample_astro[\"dec\"])"
   ]
  },
  {
   "cell_type": "code",
   "execution_count": 50,
   "metadata": {
    "collapsed": false
   },
   "outputs": [],
   "source": [
    "#plt.close(\"all\")"
   ]
  },
  {
   "cell_type": "code",
   "execution_count": 51,
   "metadata": {
    "collapsed": false
   },
   "outputs": [
    {
     "name": "stdout",
     "output_type": "stream",
     "text": [
      "saved figure (1) successfully.\n",
      "saved figure (3) successfully.\n",
      "saved figure (4) successfully.\n"
     ]
    },
    {
     "data": {
      "text/plain": [
       "True"
      ]
     },
     "execution_count": 51,
     "metadata": {},
     "output_type": "execute_result"
    }
   ],
   "source": [
    "saveAll([1, 3, 4])"
   ]
  },
  {
   "cell_type": "code",
   "execution_count": 38,
   "metadata": {
    "collapsed": false
   },
   "outputs": [
    {
     "ename": "IndexError",
     "evalue": "list index out of range",
     "output_type": "error",
     "traceback": [
      "\u001b[1;31m---------------------------------------------------------------------------\u001b[0m",
      "\u001b[1;31mIndexError\u001b[0m                                Traceback (most recent call last)",
      "\u001b[1;32m<ipython-input-38-0908f8b80916>\u001b[0m in \u001b[0;36m<module>\u001b[1;34m()\u001b[0m\n\u001b[0;32m     13\u001b[0m     \u001b[0mplt\u001b[0m\u001b[1;33m.\u001b[0m\u001b[0mylabel\u001b[0m\u001b[1;33m(\u001b[0m\u001b[1;34m\"#\"\u001b[0m\u001b[1;33m)\u001b[0m\u001b[1;33m\u001b[0m\u001b[0m\n\u001b[0;32m     14\u001b[0m \u001b[1;33m\u001b[0m\u001b[0m\n\u001b[1;32m---> 15\u001b[1;33m \u001b[0mhmin\u001b[0m\u001b[1;33m=\u001b[0m\u001b[0mmin\u001b[0m\u001b[1;33m(\u001b[0m\u001b[0matmGPU\u001b[0m\u001b[1;33m[\u001b[0m\u001b[0mid\u001b[0m\u001b[1;33m]\u001b[0m\u001b[1;33m.\u001b[0m\u001b[0menergyList\u001b[0m\u001b[1;33m)\u001b[0m\u001b[1;33m\u001b[0m\u001b[0m\n\u001b[0m\u001b[0;32m     16\u001b[0m \u001b[0mhmax\u001b[0m\u001b[1;33m=\u001b[0m\u001b[0mmax\u001b[0m\u001b[1;33m(\u001b[0m\u001b[0matmGPU\u001b[0m\u001b[1;33m[\u001b[0m\u001b[0mid\u001b[0m\u001b[1;33m]\u001b[0m\u001b[1;33m.\u001b[0m\u001b[0menergyList\u001b[0m\u001b[1;33m)\u001b[0m\u001b[1;33m\u001b[0m\u001b[0m\n\u001b[0;32m     17\u001b[0m \u001b[1;32mprint\u001b[0m \u001b[1;34m\"min energy: \"\u001b[0m\u001b[1;33m+\u001b[0m\u001b[0mstr\u001b[0m\u001b[1;33m(\u001b[0m\u001b[0mhmin\u001b[0m\u001b[1;33m)\u001b[0m\u001b[1;33m\u001b[0m\u001b[0m\n",
      "\u001b[1;31mIndexError\u001b[0m: list index out of range"
     ]
    }
   ],
   "source": [
    "def plotEnergyDistr(nFigure=-1, nLabel=['Diff. Background', 'Atm. Background'], normed=False):\n",
    "    plotControl(nFigure)\n",
    "    nColor=[\"lightblue\", \"yellow\"]\n",
    "\n",
    "    cut=len(atmGPU[id].diffElist)\n",
    "    purebg=atmGPU[id].energyList[cut:]\n",
    "\n",
    "    plt.hist([atmGPU[id].diffElist, purebg], bins= 40, range=(hmin,hmax), stacked=True, color=nColor, label=nLabel, normed=normed)\n",
    "    plt.semilogy(nonposy=\"clip\")\n",
    "    plt.legend()\n",
    "    plt.title(\"Event Energy Spectrum\")\n",
    "    plt.xlabel(r\"log(E)[GeV]\")\n",
    "    plt.ylabel(\"#\")\n",
    "    \n",
    "hmin=min(atmGPU[id].energyList)\n",
    "hmax=max(atmGPU[id].energyList)\n",
    "print \"min energy: \"+str(hmin)\n",
    "print \"max energy: \"+str(hmax)    \n",
    "plotEnergyDistr(2, normed=True)\n",
    "plt.plot(atmGPU[id].atmE_Edges, atmGPU[id].atmEnergySpline(atmGPU[id].atmE_Edges)+atmGPU[id].sigEnergySpline(atmGPU[id].sigE_Edges)/100.)\n",
    "plt.plot(atmGPU[id].sigE_Edges, atmGPU[id].sigEnergySpline(atmGPU[id].sigE_Edges)/100.)\n",
    "plt.ylim([1e-5, 1])\n",
    "plt.xlim([hmin, hmax])\n",
    "plt.show()"
   ]
  },
  {
   "cell_type": "markdown",
   "metadata": {},
   "source": [
    "# Skymap"
   ]
  },
  {
   "cell_type": "code",
   "execution_count": 27,
   "metadata": {
    "collapsed": false
   },
   "outputs": [
    {
     "name": "stdout",
     "output_type": "stream",
     "text": [
      "0.0 180.0 -180.0 180.0\n",
      "The interval between parallels is 30 deg -0.00'.\n",
      "The interval between meridians is 60 deg -0.00'.\n"
     ]
    }
   ],
   "source": [
    "id=2\n",
    "atmGPU[id].plotLastSkymap(title=SIGNAL+\", \"+SMEARING_METHOD, nFigure=5, logz=True)\n",
    "plt.show()"
   ]
  },
  {
   "cell_type": "markdown",
   "metadata": {},
   "source": [
    "# Rotation check"
   ]
  },
  {
   "cell_type": "code",
   "execution_count": 28,
   "metadata": {
    "collapsed": false
   },
   "outputs": [],
   "source": [
    "from matplotlib.colors import LogNorm\n",
    "# test plots\n",
    "plt.figure(13)\n",
    "f = plt.scatter(np.degrees(atmGPU[id].ps_sample[\"ra\"]), np.degrees(atmGPU[id].ps_sample[\"dec\"]))\n",
    "#plt.xlim(0, 360)\n",
    "\n",
    "#plt.ylim(-10,90)\n",
    "plt.xlabel(\"RA/deg\")\n",
    "plt.ylabel(\"Dec/deg\")\n",
    "\n",
    "plt.figure(14)\n",
    "color = [\"blue\", \"lightgreen\", \"orange\", \"red\", \"magenta\", \"darkblue\", \"green\", \"brown\", \"darkred\", \"purple\"]\n",
    "i=0\n",
    "#colors = [\"r\",\"g\",\"b\", \"c\", \"orange\", \"k\"]\n",
    "for rotDec in list(set(atmGPU[id].ps_sample[\"trueRotDec\"])):\n",
    "    #print i\n",
    "    plt.scatter(np.degrees(atmGPU[id].ps_sample[\"trueRa\"][np.where(atmGPU[id].ps_sample[\"trueRotDec\"] == rotDec)]), \n",
    "                np.degrees(atmGPU[id].ps_sample[\"trueDec\"][np.where(atmGPU[id].ps_sample[\"trueRotDec\"] == rotDec)]),\n",
    "                color=color[i%10])\n",
    "    i+=1\n",
    "plt.xlim(0, 360)\n",
    "plt.show()"
   ]
  }
 ],
 "metadata": {
  "kernelspec": {
   "display_name": "Python 2",
   "language": "python",
   "name": "python2"
  },
  "language_info": {
   "codemirror_mode": {
    "name": "ipython",
    "version": 2
   },
   "file_extension": ".py",
   "mimetype": "text/x-python",
   "name": "python",
   "nbconvert_exporter": "python",
   "pygments_lexer": "ipython2",
   "version": "2.7.10"
  }
 },
 "nbformat": 4,
 "nbformat_minor": 0
}
