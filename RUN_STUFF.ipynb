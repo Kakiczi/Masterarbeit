{
 "cells": [
  {
   "cell_type": "code",
   "execution_count": 1,
   "metadata": {
    "collapsed": false,
    "scrolled": true
   },
   "outputs": [
    {
     "name": "stdout",
     "output_type": "stream",
     "text": [
      "\n",
      "\n",
      "running on machine: lx3b89.physik.rwth-aachen.de\n"
     ]
    }
   ],
   "source": [
    "# %matplotlib\n",
    "%load_ext autoreload\n",
    "%autoreload 2\n",
    "from functions4 import *\n",
    "from declarations2 import *\n",
    "from classes4 import *\n",
    "import numpy as np\n",
    "import SkymapPlot.SkyMap\n",
    "import matplotlib.pyplot as plt\n",
    "import matplotlib.mlab as mlab\n",
    "from astropy.io import fits\n",
    "#from matplotlib import rcParams\n",
    "#rcParams.update({'figure.autolayout': True})\n",
    "#import plotly.plotly as py\n",
    "SAVE_DIRECTORY = \"/net/scratch_icecube4/user/kalaczynski/Plots/\"\n",
    "l_max=1000"
   ]
  },
  {
   "cell_type": "code",
   "execution_count": 2,
   "metadata": {
    "collapsed": false
   },
   "outputs": [
    {
     "data": {
      "text/html": [
       "<style>.container { width:100% !important; }</style>"
      ],
      "text/plain": [
       "<IPython.core.display.HTML object>"
      ]
     },
     "metadata": {},
     "output_type": "display_data"
    }
   ],
   "source": [
    "# for broader display:\n",
    "from IPython.core.display import display, HTML\n",
    "display(HTML(\"<style>.container { width:100% !important; }</style>\"))"
   ]
  },
  {
   "cell_type": "markdown",
   "metadata": {},
   "source": [
    "# Running the main code"
   ]
  },
  {
   "cell_type": "code",
   "execution_count": 38,
   "metadata": {
    "collapsed": false,
    "scrolled": true
   },
   "outputs": [
    {
     "name": "stdout",
     "output_type": "stream",
     "text": [
      "running on machine: lx3b89.physik.rwth-aachen.de\n",
      "DETECTOR Configuration:\n",
      "['IC86_12_13_14', 'IC86_11', 'IC79', 'IC59']\n",
      "/net/scratch_icecube4/user/glauch/DATA/\n",
      "For Detector Configuration: IC86_12_13_14 the total uptime is 91563185.0 s\n",
      "Read MC: /net/scratch_icecube4/user/glauch/DATA/IC86_2012_13_14_11029_11069_11070_corrected_ow.npy\n",
      "/net/scratch_icecube4/user/glauch/DATA/\n",
      "For Detector Configuration: IC86_11 the total uptime is 29556432.0 s\n",
      "Read MC: /net/scratch_icecube4/user/glauch/DATA/IC86_2011_10602_11077_11191_corrected_ow.npy\n",
      "/net/scratch_icecube4/user/glauch/DATA/\n",
      "For Detector Configuration: IC79 the total uptime is 26784000.0 s\n",
      "Read MC: /net/scratch_icecube4/user/glauch/DATA/IC79_6308_6850_corrected_ow.npy\n",
      "/net/scratch_icecube4/user/glauch/DATA/\n",
      "For Detector Configuration: IC59 the total uptime is 30079123.2 s\n",
      "Read MC: /net/scratch_icecube4/user/glauch/DATA/IC59_6471_6515_corrected_ow.npy\n",
      "nside as usual: 512\n",
      "Number of Events per Chosen Sample:\n",
      "[217033, 71103, 36851, 21442]\n",
      "Reading Source Catalog\n",
      "/net/scratch_icecube4/user/glauch/DATA/\n",
      "For Detector Configuration: IC86_11 the total uptime is 29556432.0 s\n",
      "Read MC: /net/scratch_icecube4/user/glauch/DATA/IC86_2011_10602_11077_11191_corrected_ow.npy\n",
      "EBinWidth 1384260 MC  length 1384260\n",
      "Based on a flux of Gamma=2.13 there are [262, 84, 62, 41] Signal Events\n",
      "ADDFILE = \n",
      "Assume being on a CONDOR machine...\n",
      "Theta Positions of Simulated Events (deg):\n",
      "[]\n",
      "Theta Positions of Simulated Events (deg):\n",
      "[]\n",
      "Phi Positions of Simulated Events (deg):\n",
      "[]\n",
      "------------------ For N:0 and MU:30.0 calc the source strength distribution ..... -------------------\n",
      "----------------------------------------\n",
      "[{'IC79': [], 'IC86_11': [], 'IC59': [], 'IC86_12_13_14': []}]\n",
      "\n",
      " Current ID prefix: 0\n",
      "\n",
      "############################################################\n",
      "\n",
      "Class Object is going to be created for IC86_12_13_14\n",
      "\n",
      "------------------Current RAM Usage-----------------------------\n",
      "1609.03515625MB\n",
      "----------------------------------------------------------------\n",
      "\n",
      "############################################################\n",
      "\n",
      "NOTE: Stretching Value is NOT 1.0 any more, but: 1.0\n",
      "NOTE: Multi-Mu-Sources have been activated: False\n",
      "[[], []]\n",
      "Current run option: VarSig\n",
      "Set Milagro to be False\n",
      "CHOSE ZENITH BAND INSTEAD OF HEMISPHERE! [-1.0, 0.087155742747658138]\n",
      "NOTE: set MC sample, length=3425618\n",
      "NOTE: Mu might not be taken as poissonian. MuPrecise is set to: False\n",
      "set replace mode ...True\n",
      "PS rotation is ...True\n",
      "Creating signal Skymaps, NSource: [0] Mu: [30.0]\n",
      " RUN: 1            curMuSources\n",
      "[30.0]\n",
      "Sources with zero neutrinos: 0\n",
      "MAP-LIST-LEN: 0\n",
      "0 (0.0)\n",
      "nDif vorher: 262\n",
      "nDif nachher: 296\n",
      "Shuffling in azimuth\n",
      "Measured Sources: 0\n",
      "Signal Neutrinos: 0\n",
      "Astro Neutrinos: 296\n",
      "Atmospheric Neutrinos: 216737\n",
      "All: 217033\n",
      "\n",
      "NEW NORM: 217033.0\n",
      "***\n",
      "WARNING!! alm NOT saved!!!\n",
      "***\n",
      "\n",
      "------------------Current RAM Usage-----------------------------\n",
      "1675.90625MB\n",
      "----------------------------------------------------------------\n",
      "Angular Distribution saved to: /net/scratch_icecube4/user/kalaczynski/Analysis_stuff/Unnormed/With_plane/VarSig_lmax=1000/0src/Detector=1111/angle_0.txt\n",
      "Type...\n",
      "<type 'numpy.ndarray'>\n",
      "Theta Source Distribution saved to: /net/scratch_icecube4/user/kalaczynski/Analysis_stuff/Unnormed/With_plane/VarSig_lmax=1000/0src/Detector=1111/theta_sou_0.txt\n",
      "\n",
      "############################################################\n",
      "\n",
      "Class Object is going to be created for IC86_11\n",
      "\n",
      "------------------Current RAM Usage-----------------------------\n",
      "1675.90625MB\n",
      "----------------------------------------------------------------\n",
      "\n",
      "############################################################\n",
      "\n",
      "NOTE: Stretching Value is NOT 1.0 any more, but: 1.0\n",
      "NOTE: Multi-Mu-Sources have been activated: False\n",
      "[[], []]\n",
      "Current run option: VarSig\n",
      "Set Milagro to be False\n",
      "CHOSE ZENITH BAND INSTEAD OF HEMISPHERE! [-1.0, 0.087155742747658138]\n",
      "NOTE: set MC sample, length=1384260\n",
      "NOTE: Mu might not be taken as poissonian. MuPrecise is set to: False\n",
      "set replace mode ...True\n",
      "PS rotation is ...True\n",
      "Creating signal Skymaps, NSource: [0] Mu: [9.618320610687023]\n",
      " RUN: 1            curMuSources\n",
      "[9.618320610687023]\n",
      "Sources with zero neutrinos: 0\n",
      "MAP-LIST-LEN: 0\n",
      "0 (0.0)\n",
      "nDif vorher: 84\n",
      "nDif nachher: 77\n",
      "Shuffling in azimuth\n",
      "Measured Sources: 0\n",
      "Signal Neutrinos: 0\n",
      "Astro Neutrinos: 77\n",
      "Atmospheric Neutrinos: 71026\n",
      "All: 71103\n",
      "\n",
      "NEW NORM: 71103.0\n",
      "***\n",
      "WARNING!! alm NOT saved!!!\n",
      "***\n",
      "\n",
      "------------------Current RAM Usage-----------------------------\n",
      "1704.91015625MB\n",
      "----------------------------------------------------------------\n",
      "Angular Distribution saved to: /net/scratch_icecube4/user/kalaczynski/Analysis_stuff/Unnormed/With_plane/VarSig_lmax=1000/0src/Detector=1111/angle_0.txt\n",
      "Type...\n",
      "<type 'numpy.ndarray'>\n",
      "Theta Source Distribution saved to: /net/scratch_icecube4/user/kalaczynski/Analysis_stuff/Unnormed/With_plane/VarSig_lmax=1000/0src/Detector=1111/theta_sou_0.txt\n",
      "\n",
      "############################################################\n",
      "\n",
      "Class Object is going to be created for IC79\n",
      "\n",
      "------------------Current RAM Usage-----------------------------\n",
      "1704.91015625MB\n",
      "----------------------------------------------------------------\n",
      "\n",
      "############################################################\n",
      "\n",
      "NOTE: Stretching Value is NOT 1.0 any more, but: 1.0\n",
      "NOTE: Multi-Mu-Sources have been activated: False\n",
      "[[], []]\n",
      "Current run option: VarSig\n",
      "Set Milagro to be False\n",
      "CHOSE ZENITH BAND INSTEAD OF HEMISPHERE! [-1.0, 0.087155742747658138]\n",
      "NOTE: set MC sample, length=1072828\n",
      "NOTE: Mu might not be taken as poissonian. MuPrecise is set to: False\n",
      "set replace mode ...True\n",
      "PS rotation is ...True\n",
      "Creating signal Skymaps, NSource: [0] Mu: [7.099236641221374]\n",
      " RUN: 1            curMuSources\n",
      "[7.099236641221374]\n",
      "Sources with zero neutrinos: 0\n",
      "MAP-LIST-LEN: 0\n",
      "0 (0.0)\n",
      "nDif vorher: 62\n",
      "nDif nachher: 68\n",
      "Shuffling in azimuth\n",
      "Measured Sources: 0\n",
      "Signal Neutrinos: 0\n",
      "Astro Neutrinos: 68\n",
      "Atmospheric Neutrinos: 36783\n",
      "All: 36851\n",
      "\n",
      "NEW NORM: 36851.0\n",
      "***\n",
      "WARNING!! alm NOT saved!!!\n",
      "***\n",
      "\n",
      "------------------Current RAM Usage-----------------------------\n",
      "1733.1640625MB\n",
      "----------------------------------------------------------------\n",
      "Angular Distribution saved to: /net/scratch_icecube4/user/kalaczynski/Analysis_stuff/Unnormed/With_plane/VarSig_lmax=1000/0src/Detector=1111/angle_0.txt\n",
      "Type...\n",
      "<type 'numpy.ndarray'>\n",
      "Theta Source Distribution saved to: /net/scratch_icecube4/user/kalaczynski/Analysis_stuff/Unnormed/With_plane/VarSig_lmax=1000/0src/Detector=1111/theta_sou_0.txt\n",
      "\n",
      "############################################################\n",
      "\n",
      "Class Object is going to be created for IC59\n",
      "\n",
      "------------------Current RAM Usage-----------------------------\n",
      "1733.1640625MB\n",
      "----------------------------------------------------------------\n",
      "\n",
      "############################################################\n",
      "\n",
      "NOTE: Stretching Value is NOT 1.0 any more, but: 1.0\n",
      "NOTE: Multi-Mu-Sources have been activated: False\n",
      "[[], []]\n",
      "Current run option: VarSig\n",
      "Set Milagro to be False\n",
      "CHOSE ZENITH BAND INSTEAD OF HEMISPHERE! [-1.0, 0.087155742747658138]\n",
      "NOTE: set MC sample, length=565856\n",
      "NOTE: Mu might not be taken as poissonian. MuPrecise is set to: False\n",
      "set replace mode ...True\n",
      "PS rotation is ...True\n",
      "Creating signal Skymaps, NSource: [0] Mu: [4.694656488549619]\n",
      " RUN: 1            curMuSources\n",
      "[4.694656488549619]\n",
      "Sources with zero neutrinos: 0\n",
      "MAP-LIST-LEN: 0\n",
      "0 (0.0)\n",
      "nDif vorher: 41\n",
      "nDif nachher: 44\n",
      "Shuffling in azimuth\n",
      "Measured Sources: 0\n",
      "Signal Neutrinos: 0\n",
      "Astro Neutrinos: 44\n",
      "Atmospheric Neutrinos: 21398\n",
      "All: 21442\n",
      "\n",
      "NEW NORM: 21442.0\n",
      "***\n",
      "WARNING!! alm NOT saved!!!\n",
      "***\n",
      "\n",
      "------------------Current RAM Usage-----------------------------\n",
      "1761.1640625MB\n",
      "----------------------------------------------------------------\n",
      "Angular Distribution saved to: /net/scratch_icecube4/user/kalaczynski/Analysis_stuff/Unnormed/With_plane/VarSig_lmax=1000/0src/Detector=1111/angle_0.txt\n",
      "Type...\n",
      "<type 'numpy.ndarray'>\n",
      "Theta Source Distribution saved to: /net/scratch_icecube4/user/kalaczynski/Analysis_stuff/Unnormed/With_plane/VarSig_lmax=1000/0src/Detector=1111/theta_sou_0.txt\n",
      "Merge Maps...\n",
      "Maximum Value in the Array bigger zero?5.0\n",
      "Calculate Cross Correlations for NVSS Sky Survey\n",
      "Cl data successfully saved to... /net/scratch_icecube4/user/kalaczynski/Analysis_stuff/Unnormed/With_plane/VarSig_lmax=1000/0src/Detector=1111/ClAll_0.txt\n",
      "Cl data successfully saved to... /net/scratch_icecube4/user/kalaczynski/Analysis_stuff/Unnormed/With_plane/VarSig_lmax=1000/0src/Detector=1111/ClAutoAll_0.txt\n",
      "Cl data successfully saved to... /net/scratch_icecube4/user/kalaczynski/Analysis_stuff/Unnormed/With_plane/VarSig_lmax=1000/0src/Detector=1111/CatCl.txt\n",
      "i is: 0\n"
     ]
    }
   ],
   "source": [
    "# DETECTOR=\"0001\"  # \"IC86_12_13_14\" ,\"IC86_11\", \"IC79\" \"IC59\"   | Binary System\n",
    "#                                                                    mu  #src\n",
    "%run createSmearedSkymap_multipleyears.py \"multi_mu_1\" 0 1 \"VarSig\" [30] [0] detector=\"1111\" gamma=2.13 catalog=\"NVSS\" useE=False useAlm=False Renorm=False UseGalPlane=True OnlyGalPlane=False \n",
    "#Theta=[130.489164] Phi=[299.259131]\n",
    "#extended_source=2.\n",
    "#useCatalogPos=10\n",
    "#useweakestsource=10\n",
    "#useDiffBG=True\n",
    "#OnlyGalPlane=True"
   ]
  },
  {
   "cell_type": "markdown",
   "metadata": {},
   "source": [
    "# FITS FILES"
   ]
  },
  {
   "cell_type": "code",
   "execution_count": 30,
   "metadata": {
    "collapsed": false,
    "scrolled": true
   },
   "outputs": [],
   "source": [
    "#FITS files:\n",
    "filename=\"COM_PCCS_030_R2.04\"\n",
    "path=\"/net/scratch_icecube4/user/kalaczynski/Catalogs/COM_PCCS-Catalogs_vPR2/\"+str(filename)+\".fits\"\n",
    "hdulist = fits.open(path)\n",
    "#hdulist\n",
    "#fitsMap=H.read_map(path)\n",
    "#test=H.mrdfits(path)\n",
    "#print test[1]"
   ]
  },
  {
   "cell_type": "code",
   "execution_count": 4,
   "metadata": {
    "collapsed": false,
    "scrolled": false
   },
   "outputs": [],
   "source": [
    "print hdulist[1].data"
   ]
  },
  {
   "cell_type": "code",
   "execution_count": 18,
   "metadata": {
    "collapsed": false
   },
   "outputs": [],
   "source": [
    "H.mollview(test[1], coord=['G','E'], title='Histogram equalized Ecliptic', unit='mK', norm='hist', min=-1,max=1, xsize=2000)\n",
    "H.graticule()\n",
    "plt.show()"
   ]
  },
  {
   "cell_type": "code",
   "execution_count": 6,
   "metadata": {
    "collapsed": false
   },
   "outputs": [],
   "source": [
    "#print len(catalog_map)\n",
    "#print len(fitsMap)\n",
    "#print len(mergeGPU.map_delta)\n",
    "#print len(fitsMap)/len(catalog_map)\n",
    "#fitsAlm=[]\n",
    "#print path\n",
    "#fitsAlm=H.read_alm(path)\n",
    "#print len(fitsAlm)"
   ]
  },
  {
   "cell_type": "code",
   "execution_count": 7,
   "metadata": {
    "collapsed": false
   },
   "outputs": [],
   "source": [
    "H.gnomview(fitsMap, rot=[0,0.3], title='GnomView', unit='mK', format='%.2g')\n",
    "plt.show()"
   ]
  },
  {
   "cell_type": "code",
   "execution_count": 17,
   "metadata": {
    "collapsed": false,
    "scrolled": true
   },
   "outputs": [],
   "source": [
    "H.mollview(mergeGPU.map_delta, rot=[0,0.3], title='GnomView', unit='mK', format='%.2g')\n",
    "plt.show()"
   ]
  },
  {
   "cell_type": "code",
   "execution_count": 42,
   "metadata": {
    "collapsed": false
   },
   "outputs": [
    {
     "name": "stdout",
     "output_type": "stream",
     "text": [
      "346429.0\n",
      "176.343412972\n"
     ]
    }
   ],
   "source": [
    "print sum(mergeGPU.map_delta)\n",
    "print sum(catalog_map*2)"
   ]
  },
  {
   "cell_type": "markdown",
   "metadata": {},
   "source": [
    "# Plotting skymap:"
   ]
  },
  {
   "cell_type": "code",
   "execution_count": 40,
   "metadata": {
    "collapsed": false
   },
   "outputs": [
    {
     "name": "stdout",
     "output_type": "stream",
     "text": [
      "Sigma is 30.000000 arcmin (0.008727 rad) \n",
      "-> fwhm is 70.644601 arcmin\n",
      "Sigma is 0.000000 arcmin (0.000000 rad) \n",
      "-> fwhm is 0.000000 arcmin\n"
     ]
    }
   ],
   "source": [
    "nFigure=5\n",
    "Smoothing=True\n",
    "Galactic=False\n",
    "Catalog=True\n",
    "NewMap=False\n",
    "logz=True\n",
    "plot=newfig(5., 3.)\n",
    "Norm=None\n",
    "if logz: Norm='log'    \n",
    "\n",
    "if NewMap==True:\n",
    "    usedMap=newMap\n",
    "else:\n",
    "    if Catalog==False:\n",
    "        usedMap=mergeGPU.map_delta\n",
    "    else:\n",
    "        usedMap=catalog_map\n",
    "\n",
    "#usedMap=fitsMap       \n",
    "#usedMap=modif    \n",
    "#usedMap=map_delta2\n",
    "\n",
    "if Smoothing:\n",
    "    smoothed_map = H.smoothing(usedMap, sigma=np.radians(0.5))\n",
    "else:\n",
    "    smoothed_map=usedMap\n",
    "if min(smoothed_map)<=0:\n",
    "    raiser=abs(min(smoothed_map))*2\n",
    "else:\n",
    "    raiser = 0.\n",
    "    \n",
    "for i in range(len(smoothed_map)):\n",
    "    smoothed_map[i] = float(smoothed_map[i])\n",
    "    if logz:\n",
    "        smoothed_map[i]=smoothed_map[i]+raiser\n",
    "       \n",
    "\n",
    "colormap=plt.get_cmap(\"Blues\")\n",
    "#colormap.set_under(\"white\")\n",
    "colormap.set_bad(\"white\")\n",
    "#col2=\"0.\"\n",
    "#col=\"0.\"\n",
    "res=800\n",
    "\n",
    "smoothed_map= np.ma.masked_array(smoothed_map)\n",
    "#smoothed_map.mask = np.log10(smoothed_map) < 18.1  #####BE careful..Value hardcoded\n",
    "smoothed_map.mask = smoothed_map == 0\n",
    "\n",
    "if Catalog:\n",
    "    plotTitle=r\"$\\log_{10}(\\frac{\\phi}{\\phi_{\\mathrm{Total}}} \\cdot A_{\\mathrm{eff}})$\"\n",
    "    #plotTitle=r\"$\\log_{10}(\\frac{\\mathrm{Flux}}{\\mathrm{Total Flux}} \\cdot A_{\\mathrm{eff}})$\"\n",
    "else:\n",
    "    plotTitle=r\"$\\log_{10}(N_{\\mathsf{Events}})$\"\n",
    "\n",
    "if Galactic==False:\n",
    "    skymap=SkymapPlot.SkyMap.SkyMap(fig=plot)\n",
    "    #smoothed_map=usedMap\n",
    "    skymap.plot_map(np.log10(smoothed_map),\n",
    "                    cmap=colormap, npix=res, \n",
    "                    colorbar=dict(title=plotTitle))\n",
    "    if (Catalog!=True) and len(mergeGPU.phi_sou)>0:\n",
    "        skymap.plot_circle(mergeGPU.phi_sou,mergeGPU.theta_sou)\n",
    "    #skymap.fig.savefig(SAVE_DIRECTORY+\"BGD_smoothed_equatorial.png\", dpi=300, bbox_inches=\"tight\")\n",
    "else:\n",
    "    skymap=SkymapPlot.SkyMap.SkyMapGalactic()\n",
    "    skymap.add_plane()\n",
    "    #smoothed_map=usedMap\n",
    "    skymap.plot_map(np.log10(smoothed_map),\n",
    "                    cmap=colormap, npix=res, \n",
    "                    colorbar=dict(title=plotTitle))\n",
    "    if (Catalog!=True) and len(mergeGPU.phi_sou)>0:\n",
    "        skymap.plot_circle(mergeGPU.phi_sou,mergeGPU.theta_sou)\n",
    "    #skymap.fig.savefig(SAVE_DIRECTORY+\"BGD_smoothed_galactic.png\", dpi=300, bbox_inches=\"tight\")\n",
    "plt.show()"
   ]
  },
  {
   "cell_type": "markdown",
   "metadata": {},
   "source": [
    "# Getting alms from the files:"
   ]
  },
  {
   "cell_type": "code",
   "execution_count": 17,
   "metadata": {
    "collapsed": false
   },
   "outputs": [],
   "source": [
    "BGD_DIR=\"/net/scratch_icecube4/user/kalaczynski/Analysis_stuff/Normed/No_plane/VarSig_lmax=\"+str(l_max)+\"/0src/Detector=1111\"  "
   ]
  },
  {
   "cell_type": "code",
   "execution_count": 4,
   "metadata": {
    "collapsed": false
   },
   "outputs": [],
   "source": [
    "# BGD\n",
    "\n",
    "size=int((1.+(l_max))*((2.+(l_max))/2.)) #size of the alm array\n",
    "no_files=1000 #max is 1000 so far\n",
    "temp1=[]\n",
    "temp2=[]\n",
    "Alm_BGD=[]\n",
    "Alm_BGD_avg=[0]*size\n",
    "  \n",
    "#BGD files loop:\n",
    "for i in range(no_files):\n",
    "    temp1=np.loadtxt(BGD_DIR+\"/almAllAbs_\"+str(i)+\".txt\")\n",
    "    temp2=np.loadtxt(BGD_DIR+\"/almAllPhase_\"+str(i)+\".txt\")\n",
    "    Alm_BGD.append(temp1*np.cos(temp2)+temp1*np.sin(temp2)*1j)\n",
    "    Alm_BGD_avg=Alm_BGD_avg+((temp1*np.cos(temp2)+temp1*np.sin(temp2)*1j))/no_files\n",
    "\n",
    "# save BGD_avg as files:\n",
    "np.savetxt(BGD_DIR+\"/Alm_BGD_avg_re.txt\", np.real(Alm_BGD_avg))\n",
    "np.savetxt(BGD_DIR+\"/Alm_BGD_avg_im.txt\", np.imag(Alm_BGD_avg))"
   ]
  },
  {
   "cell_type": "code",
   "execution_count": 46,
   "metadata": {
    "collapsed": true
   },
   "outputs": [],
   "source": [
    "#single readout:\n",
    "temp1=np.loadtxt(BGD_DIR+\"/almAllAbs_0.txt\")\n",
    "temp2=np.loadtxt(BGD_DIR+\"/almAllPhase_0.txt\")\n",
    "Alm_BGD=temp1*np.cos(temp2)+temp1*np.sin(temp2)*1j"
   ]
  },
  {
   "cell_type": "code",
   "execution_count": 7,
   "metadata": {
    "collapsed": false
   },
   "outputs": [],
   "source": [
    "# save catalog alms:\n",
    "Alm_cat=H.anafast(catalog_map, lmax=l_max, alm=\"True\")[1]\n",
    "np.savetxt(BGD_DIR+\"/CatAlm_re.txt\", np.real(Alm_cat))\n",
    "np.savetxt(BGD_DIR+\"/CatAlm_im.txt\", np.imag(Alm_cat))"
   ]
  },
  {
   "cell_type": "code",
   "execution_count": 5,
   "metadata": {
    "collapsed": true
   },
   "outputs": [
    {
     "ename": "IOError",
     "evalue": "[Errno 2] No such file or directory: '/net/scratch_icecube4/user/kalaczynski/Analysis_stuff/Normed/No_plane/VarSig_lmax=1000/0src/Detector=1111/CatAlm_re.txt'",
     "output_type": "error",
     "traceback": [
      "\u001b[1;31m---------------------------------------------------------------------------\u001b[0m",
      "\u001b[1;31mIOError\u001b[0m                                   Traceback (most recent call last)",
      "\u001b[1;32m<ipython-input-5-2310e199f8e0>\u001b[0m in \u001b[0;36m<module>\u001b[1;34m()\u001b[0m\n\u001b[0;32m      1\u001b[0m \u001b[1;31m# read catalog files:\u001b[0m\u001b[1;33m\u001b[0m\u001b[1;33m\u001b[0m\u001b[0m\n\u001b[1;32m----> 2\u001b[1;33m \u001b[0mre_part\u001b[0m\u001b[1;33m=\u001b[0m\u001b[0mnp\u001b[0m\u001b[1;33m.\u001b[0m\u001b[0mloadtxt\u001b[0m\u001b[1;33m(\u001b[0m\u001b[0mBGD_DIR\u001b[0m\u001b[1;33m+\u001b[0m\u001b[1;34m\"/CatAlm_re.txt\"\u001b[0m\u001b[1;33m)\u001b[0m\u001b[1;33m\u001b[0m\u001b[0m\n\u001b[0m\u001b[0;32m      3\u001b[0m \u001b[0mim_part\u001b[0m\u001b[1;33m=\u001b[0m\u001b[0mnp\u001b[0m\u001b[1;33m.\u001b[0m\u001b[0mloadtxt\u001b[0m\u001b[1;33m(\u001b[0m\u001b[0mBGD_DIR\u001b[0m\u001b[1;33m+\u001b[0m\u001b[1;34m\"/CatAlm_im.txt\"\u001b[0m\u001b[1;33m)\u001b[0m\u001b[1;33m\u001b[0m\u001b[0m\n\u001b[0;32m      4\u001b[0m \u001b[0mAlm_cat\u001b[0m\u001b[1;33m=\u001b[0m\u001b[0mre_part\u001b[0m\u001b[1;33m+\u001b[0m\u001b[0mim_part\u001b[0m\u001b[1;33m*\u001b[0m\u001b[1;36m1j\u001b[0m\u001b[1;33m\u001b[0m\u001b[0m\n",
      "\u001b[1;32m/cvmfs/icecube.opensciencegrid.org/py2-v2/RHEL_6_x86_64/lib/python2.7/site-packages/numpy/lib/npyio.pyc\u001b[0m in \u001b[0;36mloadtxt\u001b[1;34m(fname, dtype, comments, delimiter, converters, skiprows, usecols, unpack, ndmin)\u001b[0m\n\u001b[0;32m    736\u001b[0m                 \u001b[0mfh\u001b[0m \u001b[1;33m=\u001b[0m \u001b[0miter\u001b[0m\u001b[1;33m(\u001b[0m\u001b[0mbz2\u001b[0m\u001b[1;33m.\u001b[0m\u001b[0mBZ2File\u001b[0m\u001b[1;33m(\u001b[0m\u001b[0mfname\u001b[0m\u001b[1;33m)\u001b[0m\u001b[1;33m)\u001b[0m\u001b[1;33m\u001b[0m\u001b[0m\n\u001b[0;32m    737\u001b[0m             \u001b[1;32melif\u001b[0m \u001b[0msys\u001b[0m\u001b[1;33m.\u001b[0m\u001b[0mversion_info\u001b[0m\u001b[1;33m[\u001b[0m\u001b[1;36m0\u001b[0m\u001b[1;33m]\u001b[0m \u001b[1;33m==\u001b[0m \u001b[1;36m2\u001b[0m\u001b[1;33m:\u001b[0m\u001b[1;33m\u001b[0m\u001b[0m\n\u001b[1;32m--> 738\u001b[1;33m                 \u001b[0mfh\u001b[0m \u001b[1;33m=\u001b[0m \u001b[0miter\u001b[0m\u001b[1;33m(\u001b[0m\u001b[0mopen\u001b[0m\u001b[1;33m(\u001b[0m\u001b[0mfname\u001b[0m\u001b[1;33m,\u001b[0m \u001b[1;34m'U'\u001b[0m\u001b[1;33m)\u001b[0m\u001b[1;33m)\u001b[0m\u001b[1;33m\u001b[0m\u001b[0m\n\u001b[0m\u001b[0;32m    739\u001b[0m             \u001b[1;32melse\u001b[0m\u001b[1;33m:\u001b[0m\u001b[1;33m\u001b[0m\u001b[0m\n\u001b[0;32m    740\u001b[0m                 \u001b[0mfh\u001b[0m \u001b[1;33m=\u001b[0m \u001b[0miter\u001b[0m\u001b[1;33m(\u001b[0m\u001b[0mopen\u001b[0m\u001b[1;33m(\u001b[0m\u001b[0mfname\u001b[0m\u001b[1;33m)\u001b[0m\u001b[1;33m)\u001b[0m\u001b[1;33m\u001b[0m\u001b[0m\n",
      "\u001b[1;31mIOError\u001b[0m: [Errno 2] No such file or directory: '/net/scratch_icecube4/user/kalaczynski/Analysis_stuff/Normed/No_plane/VarSig_lmax=1000/0src/Detector=1111/CatAlm_re.txt'"
     ]
    }
   ],
   "source": [
    "# read catalog files:\n",
    "re_part=np.loadtxt(BGD_DIR+\"/CatAlm_re.txt\")\n",
    "im_part=np.loadtxt(BGD_DIR+\"/CatAlm_im.txt\")\n",
    "Alm_cat=re_part+im_part*1j"
   ]
  },
  {
   "cell_type": "code",
   "execution_count": 4,
   "metadata": {
    "collapsed": false
   },
   "outputs": [],
   "source": [
    "# read BGD_avg files:\n",
    "re_part=np.loadtxt(BGD_DIR+\"/Alm_BGD_avg_re.txt\")\n",
    "im_part=np.loadtxt(BGD_DIR+\"/Alm_BGD_avg_im.txt\")\n",
    "Alm_BGD_avg=re_part+im_part*1j"
   ]
  },
  {
   "cell_type": "code",
   "execution_count": 8,
   "metadata": {
    "collapsed": false,
    "scrolled": true
   },
   "outputs": [],
   "source": [
    "#read signal files:\n",
    "no_srcs=5\n",
    "used_mu=30\n",
    "SIG_DIR=\"/net/scratch_icecube4/user/kalaczynski/Analysis_stuff/Normed/No_plane/VarSig_lmax=\"+str(l_max)+\"/\"+str(no_srcs)+\"src_mu\"+str(used_mu)+\"/Detector=1111\"\n",
    "Alm_VarSig=[]\n",
    "\n",
    "abs_sig=np.loadtxt(SIG_DIR+\"/almAllAbs_0.txt\")\n",
    "phase_sig=np.loadtxt(SIG_DIR+\"/almAllPhase_0.txt\")\n",
    "\n",
    "Alm_VarSig=abs_sig*np.cos(phase_sig)+abs_sig*np.sin(phase_sig)*1j\n"
   ]
  },
  {
   "cell_type": "markdown",
   "metadata": {},
   "source": [
    "# Alm plotting"
   ]
  },
  {
   "cell_type": "code",
   "execution_count": 6,
   "metadata": {
    "collapsed": false
   },
   "outputs": [],
   "source": [
    "plt.xlabel(\"Im($a^{l}_{m}$)$\\cdot 10^{6}$\", fontsize=34)\n",
    "plt.ylabel(\"Re($a^{l}_{m}$)$\\cdot 10^{6}$\", fontsize=34)\n",
    "#plt.scatter(np.imag(Alm_VarSig*10**3), np.real(Alm_VarSig*10**3), label=\"VarSig, $l_{\\mathsf{max}}=$\"+str(l_max), color='g')\n",
    "plt.scatter(np.imag(Alm_BGD[0]*10**6), np.real(Alm_BGD[0]*10**6), label=\"BGD without $m=0$, $l_{\\mathsf{max}}=$\"+str(l_max), color='r')\n",
    "plt.scatter(np.imag(Alm_BGD_no_m0[0]*10**6), np.real(Alm_BGD_no_m0[0]*10**6), label=\"BGD without $m=0$, $l_{\\mathsf{max}}=$\"+str(l_max), color='g')\n",
    "\n",
    "plt.legend()\n",
    "plt.gcf().set_size_inches(15, 11)\n",
    "plt.savefig(SAVE_DIRECTORY+\"alm_vs_blm_test.png\", dpi=300)\n",
    "plt.show()\n"
   ]
  },
  {
   "cell_type": "code",
   "execution_count": 42,
   "metadata": {
    "collapsed": false
   },
   "outputs": [],
   "source": [
    "# Plotting alm vs blm:\n",
    "plt.xlabel(\"Re($a^{l}_{m}$)$\\cdot 10^{6}$\", fontsize=34)\n",
    "plt.ylabel(\"Re($b^{l}_{m}$)$\\cdot 10^{6}$\", fontsize=34)\n",
    "\n",
    "plt.scatter(np.real(Alm_cat*10**6), np.real(Alm_VarSig6*10**6), label=\"VarSig, $l_{\\mathsf{max}}=$\"+str(l_max), color='r')\n",
    "plt.scatter(np.real(Alm_cat*10**6), np.real(Alm_VarSig4*10**6), label=\"VarSig, $l_{\\mathsf{max}}=$\"+str(l_max), color='b')\n",
    "plt.scatter(np.real(Alm_cat*10**6), np.real(Alm_VarSig4_noBG*10**6), label=\"VarSig, $l_{\\mathsf{max}}=$\"+str(l_max), color='g')\n",
    "#plt.scatter(np.real(Alm_cat*10**6), np.real(Alm_cat*10**6), label=\"Catalogue, $l_{\\mathsf{max}}=$\"+str(l_max), color='magenta')\n",
    "\n",
    "\n",
    "plt.legend()\n",
    "plt.gcf().set_size_inches(15, 11)\n",
    "#plt.savefig(SAVE_DIRECTORY+\"almVsBlmTestImag.png\", dpi=300)\n",
    "plt.show()\n"
   ]
  },
  {
   "cell_type": "code",
   "execution_count": 169,
   "metadata": {
    "collapsed": false
   },
   "outputs": [],
   "source": [
    "#histogram with Gaussian fit:\n",
    "num_bins = 30\n",
    "plt.xlabel(\"Re($a^{l}_{m}$)$\\cdot 10^{5}$\", fontsize=34)\n",
    "plt.ylabel(\"Amplitude [a.u.]\", fontsize=34)\n",
    "\n",
    "\n",
    "x=np.abs(Alm_VarSig3)*100000\n",
    "mu = np.mean(x) # mean\n",
    "sigma = np.std(x) # standard deviation \n",
    "n, bins, patches = plt.hist(x,num_bins, normed = True, label=\"BGD, $l_{\\mathsf{max}}=$\"+str(l_max))\n",
    "y = mlab.normpdf(bins, mu, sigma)\n",
    "plt.plot(bins, y, 'r--', label=\"Gauss fit\")\n",
    "plt.legend()\n",
    "plt.gcf().set_size_inches(15, 11)\n",
    "plt.savefig(SAVE_DIRECTORY+\"histo_BGD_Re.png\", dpi=300)\n",
    "plt.show()"
   ]
  },
  {
   "cell_type": "markdown",
   "metadata": {},
   "source": [
    "# Cross-correlation:"
   ]
  },
  {
   "cell_type": "code",
   "execution_count": 51,
   "metadata": {
    "collapsed": false
   },
   "outputs": [],
   "source": [
    "no_srcs=5\n",
    "used_mu=30\n",
    "SIG_DIR=\"/net/scratch_icecube4/user/kalaczynski/Analysis_stuff/Normed/Only_plane/VarSig_lmax=\"+str(l_max)+\"/\"+str(no_srcs)+\"src_mu\"+str(used_mu)+\"/Detector=1111\"\n",
    "BGD_DIR=\"/net/scratch_icecube4/user/kalaczynski/Analysis_stuff/Normed/Only_plane/VarSig_lmax=\"+str(l_max)+\"/0src/Detector=1111\""
   ]
  },
  {
   "cell_type": "code",
   "execution_count": 16,
   "metadata": {
    "collapsed": true
   },
   "outputs": [],
   "source": [
    "# save catalog alms:\n",
    "selfCat=H.alm2cl(Alm_cat, lmax=1000)\n",
    "np.savetxt(BGD_DIR+\"/CatCl.txt\", selfCat)"
   ]
  },
  {
   "cell_type": "code",
   "execution_count": null,
   "metadata": {
    "collapsed": true
   },
   "outputs": [],
   "source": [
    "# save avg Cl's:\n",
    "np.savetxt(BGD_DIR+\"/ClAutoAll_avg.txt\", selfBGD_avg)\n",
    "np.savetxt(BGD_DIR+\"/ClAll_avg.txt\", CatXBGD_avg)\n",
    "np.savetxt(SIG_DIR+\"/ClAll_avg.txt\", CatXVarSig_avg)\n",
    "np.savetxt(SIG_DIR+\"/ClAutoAll_avg.txt\", selfVarSig_avg)"
   ]
  },
  {
   "cell_type": "code",
   "execution_count": 5,
   "metadata": {
    "collapsed": true
   },
   "outputs": [
    {
     "name": "stdout",
     "output_type": "stream",
     "text": [
      "running on machine: lx3b89.physik.rwth-aachen.de\n"
     ]
    },
    {
     "ename": "NameError",
     "evalue": "name 'Alm_cat' is not defined",
     "output_type": "error",
     "traceback": [
      "\u001b[1;31m---------------------------------------------------------------------------\u001b[0m",
      "\u001b[1;31mNameError\u001b[0m                                 Traceback (most recent call last)",
      "\u001b[1;32m<ipython-input-5-2ca0281a50b0>\u001b[0m in \u001b[0;36m<module>\u001b[1;34m()\u001b[0m\n\u001b[1;32m----> 1\u001b[1;33m \u001b[0mselfCat\u001b[0m\u001b[1;33m=\u001b[0m\u001b[0mH\u001b[0m\u001b[1;33m.\u001b[0m\u001b[0malm2cl\u001b[0m\u001b[1;33m(\u001b[0m\u001b[0mAlm_cat\u001b[0m\u001b[1;33m,\u001b[0m \u001b[0mlmax\u001b[0m\u001b[1;33m=\u001b[0m\u001b[1;36m1000\u001b[0m\u001b[1;33m)\u001b[0m\u001b[1;33m\u001b[0m\u001b[0m\n\u001b[0m\u001b[0;32m      2\u001b[0m \u001b[0mselfBGD\u001b[0m\u001b[1;33m=\u001b[0m\u001b[0mH\u001b[0m\u001b[1;33m.\u001b[0m\u001b[0malm2cl\u001b[0m\u001b[1;33m(\u001b[0m\u001b[0mAlm_BGD_avg\u001b[0m\u001b[1;33m,\u001b[0m \u001b[0mlmax\u001b[0m\u001b[1;33m=\u001b[0m\u001b[1;36m1000\u001b[0m\u001b[1;33m)\u001b[0m\u001b[1;33m\u001b[0m\u001b[0m\n\u001b[0;32m      3\u001b[0m \u001b[0mCatXBGD\u001b[0m\u001b[1;33m=\u001b[0m\u001b[0mH\u001b[0m\u001b[1;33m.\u001b[0m\u001b[0malm2cl\u001b[0m\u001b[1;33m(\u001b[0m\u001b[0mAlm_cat\u001b[0m\u001b[1;33m,\u001b[0m \u001b[0mAlm_BGD_avg\u001b[0m\u001b[1;33m,\u001b[0m \u001b[0mlmax\u001b[0m\u001b[1;33m=\u001b[0m\u001b[1;36m1000\u001b[0m\u001b[1;33m)\u001b[0m\u001b[1;33m\u001b[0m\u001b[0m\n\u001b[0;32m      4\u001b[0m \u001b[0mCatXVarSig\u001b[0m\u001b[1;33m=\u001b[0m\u001b[0mH\u001b[0m\u001b[1;33m.\u001b[0m\u001b[0malm2cl\u001b[0m\u001b[1;33m(\u001b[0m\u001b[0mAlm_cat\u001b[0m\u001b[1;33m,\u001b[0m \u001b[0mAlm_VarSig\u001b[0m\u001b[1;33m,\u001b[0m \u001b[0mlmax\u001b[0m\u001b[1;33m=\u001b[0m\u001b[1;36m1000\u001b[0m\u001b[1;33m)\u001b[0m\u001b[1;33m\u001b[0m\u001b[0m\n\u001b[0;32m      5\u001b[0m \u001b[1;33m\u001b[0m\u001b[0m\n",
      "\u001b[1;31mNameError\u001b[0m: name 'Alm_cat' is not defined"
     ]
    }
   ],
   "source": [
    "# Calculate Cl’s from alms\n",
    "selfCat=H.alm2cl(Alm_cat, lmax=1000)\n",
    "selfBGD=H.alm2cl(Alm_BGD_avg, lmax=1000)\n",
    "CatXBGD=H.alm2cl(Alm_cat, Alm_BGD_avg, lmax=1000)\n",
    "#CatXVarSig=H.alm2cl(Alm_cat, Alm_VarSig, lmax=1000)"
   ]
  },
  {
   "cell_type": "code",
   "execution_count": 52,
   "metadata": {
    "collapsed": false
   },
   "outputs": [],
   "source": [
    "#read Cl’s from files:\n",
    "no_files=1000 #max is 1000 so far\n",
    "selfBGD=[]\n",
    "CatXBGD=[]\n",
    "CatXVarSig=[]\n",
    "selfVarSig=[]\n",
    "\n",
    "selfCat=np.loadtxt(BGD_DIR+\"/CatCl.txt\")\n",
    "for i in range(no_files):\n",
    "    selfBGD.append(np.loadtxt(BGD_DIR+\"/ClAutoAll_\"+str(i)+\".txt\"))\n",
    "    CatXBGD.append(np.loadtxt(BGD_DIR+\"/ClAll_\"+str(i)+\".txt\"))\n",
    "    CatXVarSig.append(np.loadtxt(SIG_DIR+\"/ClAll_\"+str(i)+\".txt\"))\n",
    "    selfVarSig.append(np.loadtxt(SIG_DIR+\"/ClAutoAll_\"+str(i)+\".txt\"))\n",
    "selfBGD_avg=np.average(selfBGD, axis=0)\n",
    "CatXBGD_avg=np.average(CatXBGD, axis=0)\n",
    "CatXVarSig_avg=np.average(CatXVarSig, axis=0)\n",
    "selfVarSig_avg=np.average(selfVarSig, axis=0)"
   ]
  },
  {
   "cell_type": "code",
   "execution_count": 16,
   "metadata": {
    "collapsed": true
   },
   "outputs": [],
   "source": [
    "# Cl's from maps:\n",
    "selfCat=H.anafast(catalog_map, lmax=1000)"
   ]
  },
  {
   "cell_type": "code",
   "execution_count": 7,
   "metadata": {
    "collapsed": false,
    "scrolled": true
   },
   "outputs": [
    {
     "name": "stdout",
     "output_type": "stream",
     "text": [
      "0.431981325639\n",
      "148.751833789\n",
      "0.44612842107\n",
      "0.442874737699\n",
      "145.21775824\n"
     ]
    }
   ],
   "source": [
    "print sum(selfCat)\n",
    "print sum(selfBGD_avg)\n",
    "print sum(CatXBGD_avg)\n",
    "print sum(CatXVarSig_avg)\n",
    "print sum(selfVarSig_avg)"
   ]
  },
  {
   "cell_type": "markdown",
   "metadata": {
    "collapsed": false
   },
   "source": [
    "# Plotting $C_l$"
   ]
  },
  {
   "cell_type": "code",
   "execution_count": 5,
   "metadata": {
    "collapsed": false
   },
   "outputs": [],
   "source": [
    "llim=1000+1"
   ]
  },
  {
   "cell_type": "code",
   "execution_count": 71,
   "metadata": {
    "collapsed": true
   },
   "outputs": [],
   "source": [
    "# Parameters for error bands:\n",
    "x=range(llim)\n",
    "mean0=selfCat[:llim]\n",
    "sigma0=np.std(selfCat[:llim])\n",
    "mean1=selfBGD_avg[:llim]\n",
    "sigma1up=np.amax(selfBGD[:llim], axis=0)\n",
    "sigma1down=np.amin(selfBGD[:llim], axis=0)\n",
    "#sigma1up=np.std(selfBGD[:llim]) # alternative with 1 standard deviation as error\n",
    "#sigma1down=np.std(selfBGD[:llim])\n",
    "mean2=selfVarSig_avg[:llim]\n",
    "sigma2up=np.amax(selfVarSig[:llim], axis=0)\n",
    "sigma2down=np.amin(selfVarSig[:llim], axis=0)\n",
    "#sigma2up=np.std(selfVarSig[:llim])\n",
    "#sigma2down=np.std(selfVarSig[:llim])\n",
    "mean3=CatXBGD_avg[:llim]\n",
    "sigma3up=np.amax(CatXBGD[:llim], axis=0)\n",
    "sigma3down=np.amin(CatXBGD[:llim], axis=0)\n",
    "#sigma3up=np.std(CatXBGD[:llim])\n",
    "#sigma3down=np.std(CatXBGD[:llim])\n",
    "mean4=CatXVarSig_avg[:llim]\n",
    "sigma4up=np.amax(CatXVarSig[:llim], axis=0)\n",
    "sigma4down=np.amin(CatXVarSig[:llim], axis=0)\n",
    "#sigma4up=np.std(CatXVarSig[:llim])\n",
    "#sigma4down=np.std(CatXVarSig[:llim])"
   ]
  },
  {
   "cell_type": "code",
   "execution_count": 49,
   "metadata": {
    "collapsed": false,
    "scrolled": true
   },
   "outputs": [
    {
     "data": {
      "text/plain": [
       "<matplotlib.collections.PathCollection at 0x7ff3632c7290>"
      ]
     },
     "execution_count": 49,
     "metadata": {},
     "output_type": "execute_result"
    }
   ],
   "source": [
    "# Adding curves:\n",
    "x=np.array(range(llim))\n",
    "\n",
    "plt.scatter(x,x*(x+1)*selfCat[:llim], label=\"Cat x Cat\", color = 'black', s=2)\n",
    "#plt.fill_between(x, mean0+sigma0, mean0-sigma0, color='black', alpha=0.5)\n",
    "\n",
    "plt.scatter(x,x*(x+1)*selfBGD_avg[:llim], label=\"BGD x BGD\", color = 'cyan', s=2)\n",
    "#plt.fill_between(x, abs(mean1+sigma1up), abs(mean1-sigma1down), color='cyan', alpha=0.5)\n",
    "#plt.fill_between(x, abs(sigma1up), abs(sigma1down), color='cyan', alpha=0.5, where = sigma1down > 0)\n",
    "\n",
    "plt.scatter(x,x*(x+1)*selfVarSig_avg[:llim], label=\"VarSig x VarSig\", color = 'magenta', s=2)\n",
    "#plt.fill_between(x, abs(mean2+sigma2up), abs(mean2-sigma2down), color='magenta', alpha=0.5)\n",
    "#plt.fill_between(x, abs(sigma2up), abs(sigma2down), color='magenta', alpha=0.5, where = sigma2down > 0)\n",
    "\n",
    "plt.scatter(x,x*(x+1)*CatXBGD_avg[:llim], label=\"Cat x BGD\", color = 'blue', s=2)\n",
    "#plt.fill_between(x, mean3+sigma3up, mean3-sigma3down, color='blue', alpha=0.5)\n",
    "#plt.fill_between(x, sigma3up, sigma3down, color='blue', alpha=0.5, where = sigma3down > 0)\n",
    "\n",
    "plt.scatter(x,x*(x+1)*CatXVarSig_avg[:llim], label=\"Cat x VarSig\", color = 'red', s=2)\n",
    "#plt.fill_between(x, mean4+sigma4up, mean4-sigma4down, color='red', alpha=0.5)\n",
    "#plt.fill_between(x, sigma4up, sigma4down, color='red', alpha=0.5, where = sigma4down > 0)\n",
    "# excessive error bands can be removed with np.clip or by inserting  where = mean3 - sigma3down > 0\n",
    "# but it just looks bad"
   ]
  },
  {
   "cell_type": "code",
   "execution_count": 18,
   "metadata": {
    "collapsed": false
   },
   "outputs": [
    {
     "name": "stdout",
     "output_type": "stream",
     "text": [
      "494 507\n",
      "449 552\n",
      "9.43697725542e-50\n"
     ]
    }
   ],
   "source": [
    "print len(CatXBGD_avg[CatXBGD_avg<0]), len(CatXBGD_avg[CatXBGD_avg>0])\n",
    "print len(CatXVarSig_avg[CatXVarSig_avg<0]), len(CatXVarSig_avg[CatXVarSig_avg>0])\n",
    "print selfCat[4]"
   ]
  },
  {
   "cell_type": "code",
   "execution_count": 50,
   "metadata": {
    "collapsed": false
   },
   "outputs": [],
   "source": [
    "#plt.fill_between(selfCat, selfCat-selfCat_err, selfCat+selfCat_err) #looks very bad\n",
    "#plt.axhline(y=0, xmin=0, xmax=1000, linewidth=2, color = 'black')\n",
    "plt.xlabel(\"$l$\", fontsize=34)\n",
    "plt.ylabel(\"$C_{l}$\", fontsize=34)\n",
    "plt.xlim([0, llim+1])\n",
    "plt.ylim([10**(-12), 10**(0)])\n",
    "#plt.ylim([-0.000005, 0.000005])\n",
    "\n",
    "plt.yscale('log', basey = 10)\n",
    "plt.legend(fontsize=30, markerscale=10, loc=1)\n",
    "plt.gcf().set_size_inches(15, 11)\n",
    "#plt.savefig(SAVE_DIRECTORY+\"Cl_only_plane_zoom_l200.png\", dpi=300) #_zoom_l200 _selfBGD _errbands _negative\n",
    "plt.show()"
   ]
  },
  {
   "cell_type": "code",
   "execution_count": 30,
   "metadata": {
    "collapsed": false
   },
   "outputs": [],
   "source": [
    "# single ones\n",
    "#plt.scatter(range(len(selfCat)),selfCat, label=\"Cat x Cat\", color = 'black', s=2)\n",
    "#plt.scatter(range(len(CatXBGD_avg)),CatXBGD_avg, label=\"Cat x BGD avg\", color = 'red', s=2)\n",
    "for i in range(1000):\n",
    "    if i==3:\n",
    "        plt.scatter(range(len(selfBGD[i][:llim])),selfBGD[i][:llim], color = 'cyan', s=1, label=\"BGD x BGD\")\n",
    "    plt.scatter(range(len(selfBGD[i][:llim])),selfBGD[i][:llim], color = 'cyan', s=1)\n",
    "    \n",
    "    #plt.scatter(range(len(selfVarSig[i][:llim])),selfVarSig[i][:llim], color = 'red', s=1)\n",
    "#plt.scatter(range(len(CatXVarSig_avg)),CatXVarSig_avg, label=\"Cat x VarSig\", color = 'green', s=2)"
   ]
  },
  {
   "cell_type": "markdown",
   "metadata": {},
   "source": [
    "# $C_l$ distribution"
   ]
  },
  {
   "cell_type": "code",
   "execution_count": 7,
   "metadata": {
    "collapsed": false
   },
   "outputs": [],
   "source": [
    "# generate wanted C_l spectrta:\n",
    "\n",
    "no_files=1000 #max is 1000 so far\n",
    "temp=[]\n",
    "Cl5=[]\n",
    "Cl50=[]\n",
    "Cl150=[]\n",
    "Cl500=[]\n",
    "  \n",
    "#BGD files loop:\n",
    "for i in range(no_files):\n",
    "    temp=np.loadtxt(BGD_DIR+\"/ClAutoAll\"+str(i)+\".txt\")\n",
    "    Cl5.append(temp[5])\n",
    "    Cl50.append(temp[50])\n",
    "    Cl150.append(temp[150])\n",
    "    Cl500.append(temp[500])\n",
    "\n",
    "# save as files:\n",
    "np.savetxt(BGD_DIR+\"/Cl5.txt\", Cl5)\n",
    "np.savetxt(BGD_DIR+\"/Cl50.txt\", Cl50)\n",
    "np.savetxt(BGD_DIR+\"/Cl150.txt\", Cl150)\n",
    "np.savetxt(BGD_DIR+\"/Cl500.txt\", Cl500)"
   ]
  },
  {
   "cell_type": "code",
   "execution_count": 15,
   "metadata": {
    "collapsed": false
   },
   "outputs": [],
   "source": [
    "# reading the spectra:\n",
    "# Cl5=np.loadtxt(BGD_DIR+\"/Cl5.txt\")\n",
    "Cl50=np.loadtxt(BGD_DIR+\"/Cl50.txt\")\n",
    "Cl150=np.loadtxt(BGD_DIR+\"/Cl150.txt\")\n",
    "Cl500=np.loadtxt(BGD_DIR+\"/Cl500.txt\")"
   ]
  },
  {
   "cell_type": "code",
   "execution_count": 16,
   "metadata": {
    "collapsed": false
   },
   "outputs": [],
   "source": [
    "#histogram:\n",
    "num_bins = 100\n",
    "plt.xlabel(\"$C_{l}$\", fontsize=34)\n",
    "plt.ylabel(\"Amplitude [a.u.]\", fontsize=34)\n",
    "\n",
    "\n",
    "#x=Cl5\n",
    "#mu = np.mean(x) # mean\n",
    "#sigma = np.std(x) # standard deviation \n",
    "#n, bins, patches = plt.hist(x,num_bins, normed = True, label=\"$C_{l=0}$\")\n",
    "#y = mlab.normpdf(bins, mu, sigma)\n",
    "\n",
    "x2=Cl50\n",
    "mu2 = np.mean(x2) # mean\n",
    "sigma2 = np.std(x2) # standard deviation \n",
    "n2, bins2, patches2 = plt.hist(x2,num_bins, normed = True, label=\"$C_{l=50}$\", edgecolor= \"none\")\n",
    "#y2 = mlab.normpdf(bins2, mu2, sigma2)\n",
    "\n",
    "x3=Cl150\n",
    "mu3 = np.mean(x3) # mean\n",
    "sigma3 = np.std(x3) # standard deviation \n",
    "n3, bins3, patches3 = plt.hist(x3,num_bins, normed = True, label=\"$C_{l=150}$\", edgecolor= \"none\")\n",
    "\n",
    "x4=Cl500\n",
    "mu4 = np.mean(x4) # mean\n",
    "sigma4 = np.std(x4) # standard deviation \n",
    "n4, bins4, patches4 = plt.hist(x4,num_bins, normed = True, label=\"$C_{l=500}$\", edgecolor= \"none\")\n",
    "\n",
    "#plt.plot(bins, y, 'r--', label=\"Gauss fit\")\n",
    "#plt.plot(bins2, y2, 'r--', label=\"Gauss fit2\")\n",
    "plt.legend()\n",
    "plt.gcf().set_size_inches(15, 11)\n",
    "plt.savefig(SAVE_DIRECTORY+\"histo_Cl_onlyPlane.png\", dpi=300)\n",
    "plt.show()"
   ]
  },
  {
   "cell_type": "markdown",
   "metadata": {},
   "source": [
    "# Similarity comparison"
   ]
  },
  {
   "cell_type": "code",
   "execution_count": 9,
   "metadata": {
    "collapsed": false
   },
   "outputs": [],
   "source": [
    "# max similarity:1, min: 0        # for now it is just totally prototype phase\n",
    "def similarity(arg1,arg2):\n",
    "    sim=1.-sum(abs(arg1-arg2))/sum(0.5*(arg1+arg2))\n",
    "    return sim\n",
    "S1=similarity(CatXVarSig,selfCat)\n",
    "S2=similarity(CatXBGD,selfCat)\n",
    "S3=similarity(selfBGD,selfCat)\n",
    "#print S1\n",
    "#print S2\n",
    "#print S3"
   ]
  },
  {
   "cell_type": "code",
   "execution_count": 10,
   "metadata": {
    "collapsed": false
   },
   "outputs": [],
   "source": [
    "#Nash–Sutcliffe:     (equvalent to Coefficient of determination (R squared))\n",
    "def nash_sutcliffe(arg1,cat):\n",
    "    arg1_avg=np.average(arg1)\n",
    "    sim=1.-sum((arg1-cat)**2)/sum((arg1-arg1_avg)**2)\n",
    "    return sim\n",
    "S1=nash_sutcliffe(CatXVarSig,selfCat)\n",
    "S2=nash_sutcliffe(CatXBGD,selfCat)\n",
    "S3=nash_sutcliffe(selfBGD,selfCat)\n",
    "#print S1\n",
    "#print S2\n",
    "#print S3"
   ]
  },
  {
   "cell_type": "code",
   "execution_count": 11,
   "metadata": {
    "collapsed": false
   },
   "outputs": [],
   "source": [
    "# np. correlate: (cross-corellation)\n",
    "S1=np.correlate(CatXVarSig,selfCat)\n",
    "S2=np.correlate(CatXBGD,selfCat)\n",
    "S3=np.correlate(selfBGD,selfCat)\n",
    "S4=np.correlate(selfCat,selfCat)\n",
    "#print S1\n",
    "#print S2\n",
    "#print S3\n",
    "#print S4"
   ]
  },
  {
   "cell_type": "code",
   "execution_count": 12,
   "metadata": {
    "collapsed": false
   },
   "outputs": [],
   "source": [
    "#the covariation method:\n",
    "def covariation(arg1,cat):\n",
    "    sim=1./len(arg1)*sum(abs(1.-arg1/cat))\n",
    "    return sim\n",
    "S1=covariation(CatXVarSig,selfCat)\n",
    "S2=covariation(CatXBGD,selfCat)\n",
    "S3=covariation(selfBGD,selfCat)\n",
    "#print S1\n",
    "#print S2\n",
    "#print S3"
   ]
  },
  {
   "cell_type": "markdown",
   "metadata": {},
   "source": [
    "# Resolution tests etc."
   ]
  },
  {
   "cell_type": "code",
   "execution_count": 8,
   "metadata": {
    "collapsed": true
   },
   "outputs": [
    {
     "name": "stdout",
     "output_type": "stream",
     "text": [
      "1571.82982341\n",
      "1535\n",
      "0.114516213727\n",
      "0.0131139632064\n",
      "3145728 3145728\n"
     ]
    }
   ],
   "source": [
    "# max reasonable l:\n",
    "test=H.nside2resol(512)\n",
    "print 180/np.degrees(test)\n",
    "print 3*512-1\n",
    "print np.degrees(test)\n",
    "test2=H.nside2pixarea(512, degrees=True)\n",
    "print test2\n",
    "nside=H.nside2npix(512)\n",
    "print nside, 12*512*512"
   ]
  },
  {
   "cell_type": "code",
   "execution_count": 25,
   "metadata": {
    "collapsed": true
   },
   "outputs": [
    {
     "name": "stdout",
     "output_type": "stream",
     "text": [
      "Sigma is 30.000000 arcmin (0.008727 rad) \n",
      "-> fwhm is 70.644601 arcmin\n",
      "Sigma is 0.000000 arcmin (0.000000 rad) \n",
      "-> fwhm is 0.000000 arcmin\n",
      "0.0 180.0 -180.0 180.0\n",
      "The interval between parallels is 30 deg -0.00'.\n",
      "The interval between meridians is 60 deg -0.00'.\n"
     ]
    }
   ],
   "source": [
    "#atmGPU[id].plotLastSkymap(title=SIGNAL+\", \"+SMEARING_METHOD, nFigure=1, logz=False)\n",
    "nFigure=7\n",
    "title=SIGNAL+\", \"+SMEARING_METHOD\n",
    "\n",
    "grid=True\n",
    "logz=True\n",
    "\n",
    "plotControl(nFigure)\n",
    "Norm=None\n",
    "if logz: Norm='log'\n",
    "\n",
    "smoothed_map = H.smoothing(catalog_map, sigma=np.radians(0.5))\n",
    "if min(smoothed_map)<=0:\n",
    "    raiser=abs(min(smoothed_map))*2\n",
    "else:\n",
    "    raiser = 0.\n",
    "    \n",
    "for i in range(len(smoothed_map)):\n",
    "    smoothed_map[i] = float(smoothed_map[i])\n",
    "    if logz:\n",
    "        smoothed_map[i]=smoothed_map[i]+raiser #does not affect effCl, only overall rise\n",
    "\n",
    "colormap=plt.get_cmap(\"Blues\")\n",
    "colormap.set_under(\"1\")\n",
    "col2=\"0.\"\n",
    "col=\"0.\"\n",
    "res=800\n",
    "\n",
    "H.mollview(smoothed_map, cmap=colormap, title=\"\", fig=nFigure, xsize=res, norm=Norm) #H.smoothing(, sigma=np.radians(0.5)\n",
    "H.graticule(dpar=30,dmer=60)\n",
    "\n",
    "\n",
    "H.projplot(zen2dec(mergeGPU.theta_sou), mergeGPU.phi_sou, color=\"orange\", alpha=0.3, marker=\"o\", ms=50., mew=2., mec=\"orange\", lw=0.)\n",
    "\n",
    "if grid:\n",
    "    \n",
    "    H.projtext(58.0, -8.0, \"$60^{\\circ}$\",lonlat=True, color=col2)\n",
    "    H.projtext(118.0, -8.0, \"$120^{\\circ}$\",lonlat=True, color=col2)\n",
    "    H.projtext(178.0, -8.0,\"$180^{\\circ}$\",lonlat=True, color=col2)\n",
    "    \n",
    "    H.projtext(-2.0, -8.0, \"$0^{\\circ}$\",lonlat=True, color=col2)\n",
    "    H.projtext(-62.0, -8.0, \"$300^{\\circ}$\",lonlat=True, color=col2)\n",
    "    H.projtext(-122.0, -8.0, \"$240^{\\circ}$\",lonlat=True, color=col2)\n",
    "\n",
    "    H.projtext(-2.0, 22.0, \"$30^{\\circ}$\",lonlat=True, color=col)\n",
    "    H.projtext(-2.0, 52.0, \"$60^{\\circ}$\",lonlat=True, color=col)\n",
    "    H.projtext(-2.0, 76.0, \"$90^{\\circ}$\",lonlat=True, color=col)\n",
    "\n",
    "    H.projtext(-2.0, -28.0, \"$-30^{\\circ}$\",lonlat=True, color=col)\n",
    "    H.projtext(-2.0, -58.0, \"$-60^{\\circ}$\",lonlat=True, color=col)\n",
    "    H.projtext(-2.0, -82.0, \"$-90^{\\circ}$\",lonlat=True, color=col)\n",
    "plt.show()"
   ]
  },
  {
   "cell_type": "markdown",
   "metadata": {},
   "source": [
    "# Checking energy & zenith"
   ]
  },
  {
   "cell_type": "code",
   "execution_count": 24,
   "metadata": {
    "collapsed": false
   },
   "outputs": [],
   "source": [
    "plt.figure(3)\n",
    "#n, bins = np.histogram(np.cos(dec2zen(atmGPU[id].sample_atm[\"dec\"])), bins=80, density=True) #theta values of events in map\n",
    "#n = normHist(n, 0.95)\n",
    "#plt.plot(setNewEdges(bins), n, drawstyle=\"steps-mid\", label=\"cos(sampleTheta) atm\")\n",
    "\n",
    "#.sample_astro[\"dec\"]\n",
    "n, bins = np.histogram(np.cos(atmGPU[id].ranTheta[:]), bins=80, density=True) #theta values of events in map\n",
    "n = normHist(n, 0.95)\n",
    "plt.plot(setNewEdges(bins), n, drawstyle=\"steps-mid\", label=\"ran theta all\", color=\"green\")\n",
    "plt.legend(loc=2)\n",
    "plt.show()"
   ]
  },
  {
   "cell_type": "code",
   "execution_count": 23,
   "metadata": {
    "collapsed": false
   },
   "outputs": [],
   "source": [
    "plt.figure(4)\n",
    "\n",
    "n, bins = np.histogram(atmGPU[id].ranPhi[:], bins=80, density=True) #theta values of events in map\n",
    "n = normHist(n, 0.95)\n",
    "plt.plot(setNewEdges(bins), n, drawstyle=\"steps-mid\", label=\"ran phi all\", color=\"red\")\n",
    "plt.legend(loc=2)\n",
    "plt.show()"
   ]
  },
  {
   "cell_type": "code",
   "execution_count": 22,
   "metadata": {
    "collapsed": false
   },
   "outputs": [],
   "source": [
    "# acceptance or sth similar\n",
    "nmc, binsmc = np.histogram(np.cos(np.array(dec2zen(atmGPU[id].mc_sample_full[\"dec\"]))), bins=100, weights=atmGPU[id].mc_sample_full[\"conv\"], density=True) #theta values of mc atm\n",
    "nmc = normHist(nmc, 0.95)\n",
    "plt.plot(setNewEdges(binsmc), nmc, drawstyle=\"steps-mid\", label=\"cos(fullTheta) atm\")\n",
    "\n",
    "nmc, binsmc = np.histogram(np.cos(np.array(dec2zen(atmGPU[id].mc_sample_full[\"dec\"]))), bins=100, weights=atmGPU[id].mc_sample_full[\"astro\"], density=True) #theta values of mc atm\n",
    "nmc = normHist(nmc, 0.95)\n",
    "plt.plot(setNewEdges(binsmc), nmc, drawstyle=\"steps-mid\", label=\"cos(fullTheta) astro\")\n",
    "\n",
    "plt.legend(loc=\"lower left\", fontsize = 'x-small')\n",
    "plt.show()"
   ]
  },
  {
   "cell_type": "code",
   "execution_count": 20,
   "metadata": {
    "collapsed": true
   },
   "outputs": [
    {
     "name": "stderr",
     "output_type": "stream",
     "text": [
      "Exception in Tkinter callback\n",
      "Traceback (most recent call last):\n",
      "  File \"/cvmfs/icecube.opensciencegrid.org/py2-v2/RHEL_6_x86_64/lib/python2.7/lib-tk/Tkinter.py\", line 1536, in __call__\n",
      "    return self.func(*args)\n",
      "  File \"/cvmfs/icecube.opensciencegrid.org/py2-v2/RHEL_6_x86_64/lib/python2.7/site-packages/matplotlib/backends/backend_tkagg.py\", line 278, in resize\n",
      "    self.show()\n",
      "  File \"/cvmfs/icecube.opensciencegrid.org/py2-v2/RHEL_6_x86_64/lib/python2.7/site-packages/matplotlib/backends/backend_tkagg.py\", line 349, in draw\n",
      "    FigureCanvasAgg.draw(self)\n",
      "  File \"/cvmfs/icecube.opensciencegrid.org/py2-v2/RHEL_6_x86_64/lib/python2.7/site-packages/matplotlib/backends/backend_agg.py\", line 469, in draw\n",
      "    self.figure.draw(self.renderer)\n",
      "  File \"/cvmfs/icecube.opensciencegrid.org/py2-v2/RHEL_6_x86_64/lib/python2.7/site-packages/matplotlib/artist.py\", line 59, in draw_wrapper\n",
      "    draw(artist, renderer, *args, **kwargs)\n",
      "  File \"/cvmfs/icecube.opensciencegrid.org/py2-v2/RHEL_6_x86_64/lib/python2.7/site-packages/matplotlib/figure.py\", line 1017, in draw\n",
      "    self.tight_layout(renderer, **self._tight_parameters)\n",
      "  File \"/cvmfs/icecube.opensciencegrid.org/py2-v2/RHEL_6_x86_64/lib/python2.7/site-packages/matplotlib/figure.py\", line 1663, in tight_layout\n",
      "    rect=rect)\n",
      "  File \"/cvmfs/icecube.opensciencegrid.org/py2-v2/RHEL_6_x86_64/lib/python2.7/site-packages/matplotlib/tight_layout.py\", line 352, in get_tight_layout_figure\n",
      "    pad=pad, h_pad=h_pad, w_pad=w_pad)\n",
      "  File \"/cvmfs/icecube.opensciencegrid.org/py2-v2/RHEL_6_x86_64/lib/python2.7/site-packages/matplotlib/tight_layout.py\", line 129, in auto_adjust_subplotpars\n",
      "    tight_bbox_raw = union([ax.get_tightbbox(renderer) for ax in subplots])\n",
      "  File \"/cvmfs/icecube.opensciencegrid.org/py2-v2/RHEL_6_x86_64/lib/python2.7/site-packages/matplotlib/axes/_base.py\", line 3280, in get_tightbbox\n",
      "    bb_yaxis = self.yaxis.get_tightbbox(renderer)\n",
      "  File \"/cvmfs/icecube.opensciencegrid.org/py2-v2/RHEL_6_x86_64/lib/python2.7/site-packages/matplotlib/axis.py\", line 1093, in get_tightbbox\n",
      "    bb.append(a.get_window_extent(renderer))\n",
      "  File \"/cvmfs/icecube.opensciencegrid.org/py2-v2/RHEL_6_x86_64/lib/python2.7/site-packages/matplotlib/text.py\", line 798, in get_window_extent\n",
      "    bbox, info, descent = self._get_layout(self._renderer)\n"
     ]
    },
    {
     "name": "stdout",
     "output_type": "stream",
     "text": [
      "min energy: 2.20019\n",
      "max energy: 6.09067\n"
     ]
    },
    {
     "name": "stderr",
     "output_type": "stream",
     "text": [
      "  File \"/cvmfs/icecube.opensciencegrid.org/py2-v2/RHEL_6_x86_64/lib/python2.7/site-packages/matplotlib/text.py\", line 320, in _get_layout\n",
      "    ismath=ismath)\n",
      "  File \"/cvmfs/icecube.opensciencegrid.org/py2-v2/RHEL_6_x86_64/lib/python2.7/site-packages/matplotlib/backends/backend_agg.py\", line 223, in get_text_width_height_descent\n",
      "    renderer=self)\n",
      "  File \"/cvmfs/icecube.opensciencegrid.org/py2-v2/RHEL_6_x86_64/lib/python2.7/site-packages/matplotlib/texmanager.py\", line 670, in get_text_width_height_descent\n",
      "    dvifile = self.make_dvi(tex, fontsize)\n",
      "  File \"/cvmfs/icecube.opensciencegrid.org/py2-v2/RHEL_6_x86_64/lib/python2.7/site-packages/matplotlib/texmanager.py\", line 417, in make_dvi\n",
      "    report))\n",
      "RuntimeError: LaTeX was not able to process the following string:\n",
      "'#'\n",
      "Here is the full report generated by LaTeX: \n",
      "\n",
      "This is pdfTeXk, Version 3.141592-1.40.3 (Web2C 7.5.6)\n",
      " %&-line parsing enabled.\n",
      "entering extended mode\n",
      "(./5f5fafb36cb15b405f33a20b6adb0520.tex\n",
      "LaTeX2e <2005/12/01>\n",
      "Babel <v3.8h> and hyphenation patterns for english, usenglishmax, dumylang, noh\n",
      "yphenation, arabic, basque, bulgarian, coptic, welsh, czech, slovak, german, ng\n",
      "erman, danish, esperanto, spanish, catalan, galician, estonian, farsi, finnish,\n",
      " french, greek, monogreek, ancientgreek, croatian, hungarian, interlingua, ibyc\n",
      "us, indonesian, icelandic, italian, latin, mongolian, dutch, norsk, polish, por\n",
      "tuguese, pinyin, romanian, russian, slovenian, uppersorbian, serbian, swedish, \n",
      "turkish, ukenglish, ukrainian, loaded.\n",
      "(/usr/share/texmf/tex/latex/base/article.cls\n",
      "Document Class: article 2005/09/16 v1.4f Standard LaTeX document class\n",
      "(/usr/share/texmf/tex/latex/base/size10.clo))\n",
      "(/usr/share/texmf/tex/latex/type1cm/type1cm.sty)\n",
      "(/usr/share/texmf/tex/latex/psnfss/helvet.sty\n",
      "(/usr/share/texmf/tex/latex/graphics/keyval.sty))\n",
      "(/usr/share/texmf/tex/latex/psnfss/courier.sty)\n",
      "(/usr/share/texmf/tex/latex/base/textcomp.sty\n",
      "(/usr/share/texmf/tex/latex/base/ts1enc.def))\n",
      "(/usr/share/texmf/tex/latex/geometry/geometry.sty\n",
      "(/usr/share/texmf/tex/xelatex/xetexconfig/geometry.cfg)\n",
      "\n",
      "Package geometry Warning: Over-specification in `h'-direction.\n",
      "    `width' (5058.9pt) is ignored.\n",
      "\n",
      "\n",
      "Package geometry Warning: Over-specification in `v'-direction.\n",
      "    `height' (5058.9pt) is ignored.\n",
      "\n",
      ") (./5f5fafb36cb15b405f33a20b6adb0520.aux)\n",
      "(/usr/share/texmf/tex/latex/base/ts1cmr.fd)\n",
      "! You can't use `macro parameter character #' in vertical mode.\n",
      "l.12 \\fontsize{14.000000}{17.500000}{\\rmfamily #\n",
      "                                                }\n",
      "(./5f5fafb36cb15b405f33a20b6adb0520.aux) )\n",
      "(see the transcript file for additional information)\n",
      "No pages of output.\n",
      "Transcript written on 5f5fafb36cb15b405f33a20b6adb0520.log.\n",
      "\n"
     ]
    }
   ],
   "source": [
    "def plotEnergyDistr(nFigure=-1, nLabel=['Diff. Background', 'Atm. Background'], normed=False):\n",
    "    plotControl(nFigure)\n",
    "    nColor=[\"lightblue\", \"yellow\"]\n",
    "\n",
    "    cut=len(atmGPU[id].diffElist)\n",
    "    purebg=atmGPU[id].energyList[cut:]\n",
    "\n",
    "    plt.hist([atmGPU[id].diffElist, purebg], bins= 40, range=(hmin,hmax), stacked=True, color=nColor, label=nLabel, normed=normed)\n",
    "    plt.semilogy(nonposy=\"clip\")\n",
    "    plt.legend()\n",
    "    plt.title(\"Event Energy Spectrum\")\n",
    "    plt.xlabel(r\"log(E)[GeV]\")\n",
    "    plt.ylabel(\"#\")\n",
    "    \n",
    "hmin=min(atmGPU[id].energyList)\n",
    "hmax=max(atmGPU[id].energyList)\n",
    "print \"min energy: \"+str(hmin)\n",
    "print \"max energy: \"+str(hmax)    \n",
    "plotEnergyDistr(2, normed=True)\n",
    "plt.plot(atmGPU[id].atmE_Edges, atmGPU[id].atmEnergySpline(atmGPU[id].atmE_Edges)+atmGPU[id].sigEnergySpline(atmGPU[id].sigE_Edges)/100.)\n",
    "plt.plot(atmGPU[id].sigE_Edges, atmGPU[id].sigEnergySpline(atmGPU[id].sigE_Edges)/100.)\n",
    "plt.ylim([1e-5, 1])\n",
    "plt.xlim([hmin, hmax])\n",
    "plt.show()"
   ]
  },
  {
   "cell_type": "markdown",
   "metadata": {},
   "source": [
    "# Skymap"
   ]
  },
  {
   "cell_type": "code",
   "execution_count": 18,
   "metadata": {
    "collapsed": true
   },
   "outputs": [
    {
     "name": "stdout",
     "output_type": "stream",
     "text": [
      "0.0 180.0 -180.0 180.0\n",
      "The interval between parallels is 30 deg -0.00'.\n",
      "The interval between meridians is 60 deg -0.00'.\n"
     ]
    },
    {
     "name": "stderr",
     "output_type": "stream",
     "text": [
      "/cvmfs/icecube.opensciencegrid.org/py2-v2/RHEL_6_x86_64/lib/python2.7/site-packages/matplotlib/figure.py:1653: UserWarning: This figure includes Axes that are not compatible with tight_layout, so its results might be incorrect.\n",
      "  warnings.warn(\"This figure includes Axes that are not \"\n"
     ]
    }
   ],
   "source": [
    "id=2\n",
    "atmGPU[id].plotLastSkymap(title=SIGNAL+\", \"+SMEARING_METHOD, nFigure=5, logz=True)\n",
    "plt.show()"
   ]
  },
  {
   "cell_type": "markdown",
   "metadata": {},
   "source": [
    "# Rotation check"
   ]
  },
  {
   "cell_type": "code",
   "execution_count": 19,
   "metadata": {
    "collapsed": false
   },
   "outputs": [],
   "source": [
    "from matplotlib.colors import LogNorm\n",
    "# test plots\n",
    "plt.figure(13)\n",
    "f = plt.scatter(np.degrees(atmGPU[id].ps_sample[\"ra\"]), np.degrees(atmGPU[id].ps_sample[\"dec\"]))\n",
    "#plt.xlim(0, 360)\n",
    "\n",
    "#plt.ylim(-10,90)\n",
    "plt.xlabel(\"RA/deg\")\n",
    "plt.ylabel(\"Dec/deg\")\n",
    "\n",
    "plt.figure(14)\n",
    "color = [\"blue\", \"lightgreen\", \"orange\", \"red\", \"magenta\", \"darkblue\", \"green\", \"brown\", \"darkred\", \"purple\"]\n",
    "i=0\n",
    "#colors = [\"r\",\"g\",\"b\", \"c\", \"orange\", \"k\"]\n",
    "for rotDec in list(set(atmGPU[id].ps_sample[\"trueRotDec\"])):\n",
    "    #print i\n",
    "    plt.scatter(np.degrees(atmGPU[id].ps_sample[\"trueRa\"][np.where(atmGPU[id].ps_sample[\"trueRotDec\"] == rotDec)]), \n",
    "                np.degrees(atmGPU[id].ps_sample[\"trueDec\"][np.where(atmGPU[id].ps_sample[\"trueRotDec\"] == rotDec)]),\n",
    "                color=color[i%10])\n",
    "    i+=1\n",
    "plt.xlim(0, 360)\n",
    "plt.show()"
   ]
  }
 ],
 "metadata": {
  "kernelspec": {
   "display_name": "Python 2",
   "language": "python",
   "name": "python2"
  },
  "language_info": {
   "codemirror_mode": {
    "name": "ipython",
    "version": 2
   },
   "file_extension": ".py",
   "mimetype": "text/x-python",
   "name": "python",
   "nbconvert_exporter": "python",
   "pygments_lexer": "ipython2",
   "version": "2.7.10"
  }
 },
 "nbformat": 4,
 "nbformat_minor": 0
}
